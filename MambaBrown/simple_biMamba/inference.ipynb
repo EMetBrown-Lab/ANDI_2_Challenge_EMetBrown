{
 "cells": [
  {
   "cell_type": "markdown",
   "metadata": {},
   "source": []
  },
  {
   "cell_type": "code",
   "execution_count": null,
   "metadata": {},
   "outputs": [],
   "source": [
    "from simple_mamba import all_at_the_same_time, K_regression, alpha_regression, segmentation_model\n",
    "from Dataloader import list_directory_tree, DatasetAllData, apply_padding\n",
    "import torch"
   ]
  },
  {
   "cell_type": "code",
   "execution_count": null,
   "metadata": {},
   "outputs": [],
   "source": [
    "model_seg_reg = torch.load(\"more_features_50epoch_10kfiles\")\n",
    "model_seg_reg.eval()"
   ]
  },
  {
   "cell_type": "code",
   "execution_count": null,
   "metadata": {},
   "outputs": [],
   "source": [
    "data_path = \"track_2/\"\n",
    "directory_files = list_directory_tree(data_path)"
   ]
  },
  {
   "cell_type": "code",
   "execution_count": null,
   "metadata": {},
   "outputs": [],
   "source": [
    "def read_dataset(file):\n",
    "    df = pd.read_csv(file)\n",
    "    nb_trajs = len(df[\"traj_idx\"].unique())\n",
    "\n",
    "    df_padded = apply_padding(df)\n",
    "    df_padded = df_padded[:, :, :]\n",
    "\n",
    "\n",
    "    return torch.from_numpy(df_padded.astype(np.float32))"
   ]
  },
  {
   "cell_type": "code",
   "execution_count": null,
   "metadata": {},
   "outputs": [],
   "source": [
    "results_alpha = {}\n",
    "results_K = {}\n",
    "results_segmentation = {}\n",
    "\n",
    "with torch.no_grad():\n",
    "    for file in directory_files:\n",
    "        data = read_dataset(file)\n",
    "        data = data.to(\"cuda\")\n",
    "\n",
    "        segmentation, alpha, K = model_seg_reg(data)\n",
    "        results_alpha[file] = alpha.squeeze()\n",
    "        results_K[file] = K.squeeze()\n",
    "        results_segmentation[file] = torch.argmax(segmentation.squeeze(), dim=-1)\n"
   ]
  },
  {
   "cell_type": "code",
   "execution_count": null,
   "metadata": {},
   "outputs": [],
   "source": [
    "for i in keys:\n",
    "    K = results_K[i].to(\"cpu\")\n",
    "    plt.plot(K[:, 0])"
   ]
  },
  {
   "cell_type": "code",
   "execution_count": null,
   "metadata": {},
   "outputs": [],
   "source": [
    "j = 0\n",
    "for i in keys:\n",
    "    K = results_K[i].to(\"cpu\")\n",
    "    plt.plot(K[:, 1])\n",
    "    j += len(K[:, 1])"
   ]
  },
  {
   "cell_type": "code",
   "execution_count": null,
   "metadata": {},
   "outputs": [],
   "source": [
    "liste_unique = []\n",
    "plt.figure()\n",
    "for i in keys[:1]:\n",
    "\n",
    "    segmentation = results_segmentation[i].to(\"cpu\")\n",
    "    # segmentation[segmentation==0] = 1\n",
    "    plt.plot(segmentation)\n",
    "    # a = len(np.unique(results_segmentation))\n",
    "    # liste_unique.append(a)\n",
    "\n",
    "# plt.plot(liste_unique)"
   ]
  },
  {
   "cell_type": "code",
   "execution_count": null,
   "metadata": {},
   "outputs": [],
   "source": [
    "## As a post-treatment task, we need to remove the segments which size are smaller than 3 as not possible"
   ]
  },
  {
   "cell_type": "code",
   "execution_count": null,
   "metadata": {},
   "outputs": [],
   "source": [
    "plt.plot(results_segmentation[keys[-4]][19,:].to(\"cpu\"))"
   ]
  },
  {
   "cell_type": "code",
   "execution_count": null,
   "metadata": {},
   "outputs": [],
   "source": [
    "def change_small_sections(arr):\n",
    "    # Find the start and end indices of sections\n",
    "    diff = np.diff(arr)\n",
    "    section_starts = np.where(diff != 0)[0] + 1\n",
    "    section_starts = np.concatenate(([0], section_starts))\n",
    "    section_ends = np.concatenate((section_starts[1:], [len(arr)]))\n",
    "    # Iterate through sections\n",
    "    for start, end in zip(section_starts, section_ends):\n",
    "        section_length = end - start\n",
    "        if section_length < 3:\n",
    "\n",
    "            arr[start:end] =  3 - arr[start:end] \n",
    "\n",
    "    return arr\n",
    "\n",
    "for i in keys:\n",
    "        for j in range(results_segmentation[i].size(0)):\n",
    "            \n",
    "            results_segmentation[i][j,:] = change_small_sections(results_segmentation[i][j,:].to(\"cpu\"))\n",
    "                \n"
   ]
  },
  {
   "cell_type": "code",
   "execution_count": null,
   "metadata": {},
   "outputs": [],
   "source": [
    "liste_unique = []\n",
    "plt.figure()\n",
    "for i in keys[:1]:\n",
    "\n",
    "    segmentation = results_segmentation[i].to(\"cpu\")\n",
    "    # segmentation[segmentation==0] = 1\n",
    "    plt.plot(segmentation)\n",
    "    # a = len(np.unique(results_segmentation))\n",
    "    # liste_unique.append(a)\n",
    "\n",
    "# plt.plot(liste_unique)"
   ]
  },
  {
   "cell_type": "code",
   "execution_count": null,
   "metadata": {},
   "outputs": [],
   "source": [
    "## Remove all the samm sections\n",
    "\n"
   ]
  },
  {
   "cell_type": "code",
   "execution_count": null,
   "metadata": {},
   "outputs": [],
   "source": [
    "def generate_solution(file):\n",
    "    \n",
    "    df = pd.read_csv(file)\n",
    "\n",
    "    total_sol = \"\"\n",
    "    for id, group in df.groupby(\"traj_idx\"):\n",
    "        sol=\"\"\n",
    "\n",
    "        states = results_segmentation[file][int(id)].to(\"cpu\") - 1\n",
    "        alphas = results_alpha[file][int(id)].to(\"cpu\")\n",
    "        Ds = results_K[file][int(id)].to(\"cpu\")\n",
    "        unique_states = np.unique(states)\n",
    "        \n",
    "        if len(unique_states) == 1:\n",
    "            \n",
    "            if alphas[0] < 0.01:\n",
    "                state = 1\n",
    "            elif alphas[0] > 1.8:\n",
    "                state = 3\n",
    "            else:\n",
    "                state = 2\n",
    "\n",
    "            total_sol+= f\"{int(id)},{Ds[0]},{alphas[0]},{state},{len(group[\"x\"])}\\n\"\n",
    "        else:\n",
    "\n",
    "            state = [0,0]\n",
    "            if alphas[0] < 0.001:\n",
    "                state[0] = 1\n",
    "            elif alphas[0] > 1.8:\n",
    "                state[0] = 3\n",
    "            else:\n",
    "                state[0] = 2\n",
    "\n",
    "            if alphas[1] < 0.001:\n",
    "                state[1] = 1\n",
    "            elif alphas[1] > 1.8:\n",
    "                state[1] = 3\n",
    "            else:\n",
    "                state[1] = 2\n",
    "\n",
    "            if Ds[0] < 1e-7:\n",
    "                Ds[0] = 0\n",
    "            if Ds[1] < 1e-7:\n",
    "                Ds[1] = 0\n",
    "\n",
    "\n",
    "            init_state = int(states[0])\n",
    "            sol = f\"{int(id)},{Ds[init_state]},{alphas[init_state]},{state[init_state]},\"\n",
    "\n",
    "            for i in range(len(group[\"frame\"]) -1):\n",
    "                if int(states[i]) != init_state:\n",
    "                    init_state = (init_state + 1) % 2\n",
    "                    sol += f\"{int(group[\"frame\"].iloc[i])},{Ds[init_state]},{alphas[init_state]},{state[init_state]},\"\n",
    "            sol+=f\"{len(group[\"x\"])}\\n\"\n",
    "            total_sol+=sol\n",
    "\n",
    "    return total_sol"
   ]
  },
  {
   "cell_type": "code",
   "execution_count": null,
   "metadata": {},
   "outputs": [],
   "source": [
    "dict_solutions = {}\n",
    "j=0\n",
    "for i in keys:\n",
    "    j=0\n",
    "    dict_solutions[i] = generate_solution(i)"
   ]
  },
  {
   "cell_type": "code",
   "execution_count": null,
   "metadata": {},
   "outputs": [],
   "source": [
    "keys = list(dict_solutions.keys())"
   ]
  },
  {
   "cell_type": "code",
   "execution_count": null,
   "metadata": {},
   "outputs": [],
   "source": [
    "print(generate_solution(keys[5]))"
   ]
  },
  {
   "cell_type": "code",
   "execution_count": null,
   "metadata": {},
   "outputs": [],
   "source": [
    "from copy import copy\n",
    "from pathlib import Path"
   ]
  },
  {
   "cell_type": "code",
   "execution_count": null,
   "metadata": {},
   "outputs": [],
   "source": [
    "for i in keys:\n",
    "    key = copy(i)\n",
    "    file_name = i.parts[-1][6:-4] + \".txt\"\n",
    "    total_path = Path(*[\"solution\", *i.parts[-3:-1],file_name])\n",
    "    folder_path = Path(*total_path.parts[:-1])\n",
    "    folder_path.mkdir(parents=True, exist_ok=True)\n",
    "\n",
    "    with open(total_path, \"w\") as file:\n",
    "        file.write(dict_solutions[key])\n"
   ]
  }
 ],
 "metadata": {
  "kernelspec": {
   "display_name": "torch",
   "language": "python",
   "name": "python3"
  },
  "language_info": {
   "codemirror_mode": {
    "name": "ipython",
    "version": 3
   },
   "file_extension": ".py",
   "mimetype": "text/x-python",
   "name": "python",
   "nbconvert_exporter": "python",
   "pygments_lexer": "ipython3",
   "version": "3.12.3"
  }
 },
 "nbformat": 4,
 "nbformat_minor": 2
}
