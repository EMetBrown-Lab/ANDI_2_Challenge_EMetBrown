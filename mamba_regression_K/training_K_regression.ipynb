{
 "cells": [
  {
   "cell_type": "code",
   "execution_count": 6,
   "id": "f92c4b8a-bb5e-4f67-a906-1b7092b15b5b",
   "metadata": {},
   "outputs": [],
   "source": [
    "from train_fn import train\n",
    "import torch"
   ]
  },
  {
   "cell_type": "code",
   "execution_count": 3,
   "id": "5c826649-983c-4b11-85c6-af6df6f5333f",
   "metadata": {},
   "outputs": [
    {
     "name": "stdout",
     "output_type": "stream",
     "text": [
      "importing gpu Mamba\n"
     ]
    },
    {
     "name": "stderr",
     "output_type": "stream",
     "text": [
      "Epoch 0: 100%|███████████████████| 800/800 [02:04<00:00,  6.42batch/s, loss=0.3]\n",
      "Epoch 1: 100%|█████████████████| 800/800 [02:04<00:00,  6.42batch/s, loss=0.352]\n",
      "Epoch 2: 100%|█████████████████| 800/800 [02:04<00:00,  6.43batch/s, loss=0.623]\n",
      "Epoch 3: 100%|██████████████████| 800/800 [02:04<00:00,  6.44batch/s, loss=0.38]\n",
      "Epoch 4: 100%|█████████████████| 800/800 [02:04<00:00,  6.44batch/s, loss=0.328]\n",
      "Epoch 5: 100%|█████████████████| 800/800 [02:04<00:00,  6.44batch/s, loss=0.348]\n",
      "Epoch 6: 100%|█████████████████| 800/800 [02:06<00:00,  6.32batch/s, loss=0.419]\n",
      "Epoch 7: 100%|█████████████████| 800/800 [02:04<00:00,  6.43batch/s, loss=0.376]\n",
      "Epoch 8: 100%|██████████████████| 800/800 [02:03<00:00,  6.48batch/s, loss=4.09]\n",
      "Epoch 9: 100%|██████████████████| 800/800 [02:01<00:00,  6.57batch/s, loss=1.95]\n"
     ]
    }
   ],
   "source": [
    "result, model = train((2,0.1,1e-3,8))"
   ]
  },
  {
   "cell_type": "code",
   "execution_count": 7,
   "id": "b5b03220-b3e9-47f1-8615-5ff06dcf928c",
   "metadata": {},
   "outputs": [],
   "source": [
    "torch.save(model, \"model_K_2_0p1_1e-4_4_8kexps\")"
   ]
  },
  {
   "cell_type": "code",
   "execution_count": null,
   "id": "e38a4255-2528-46c1-8b0c-5d2d900f52dd",
   "metadata": {},
   "outputs": [],
   "source": []
  }
 ],
 "metadata": {
  "kernelspec": {
   "display_name": "Python 3 (ipykernel)",
   "language": "python",
   "name": "python3"
  },
  "language_info": {
   "codemirror_mode": {
    "name": "ipython",
    "version": 3
   },
   "file_extension": ".py",
   "mimetype": "text/x-python",
   "name": "python",
   "nbconvert_exporter": "python",
   "pygments_lexer": "ipython3",
   "version": "3.12.3"
  }
 },
 "nbformat": 4,
 "nbformat_minor": 5
}
