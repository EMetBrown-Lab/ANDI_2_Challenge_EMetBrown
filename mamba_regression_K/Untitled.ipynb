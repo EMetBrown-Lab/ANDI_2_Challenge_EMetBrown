{
 "cells": [
  {
   "cell_type": "code",
   "execution_count": 1,
   "id": "c218a625",
   "metadata": {},
   "outputs": [],
   "source": [
    "import sys\n",
    "sys.path.insert(0,'/media/brownianxgames/Aquisitions/test_IA/mamba_classification')\n",
    "sys.path.insert(0,'/media/brownianxgames/Aquisitions/test_IA/mamba_segmentation')"
   ]
  },
  {
   "cell_type": "code",
   "execution_count": 2,
   "id": "1961f3bd",
   "metadata": {},
   "outputs": [
    {
     "data": {
      "text/plain": [
       "list"
      ]
     },
     "execution_count": 2,
     "metadata": {},
     "output_type": "execute_result"
    }
   ],
   "source": [
    "list"
   ]
  },
  {
   "cell_type": "code",
   "execution_count": 3,
   "id": "d3a4c625-1262-40f8-8bf6-10af6a1f0509",
   "metadata": {},
   "outputs": [],
   "source": [
    "from train_fn import train\n",
    "# from train_classification import train as train_classification\n",
    "from train_segmentation import train as train_segmentation\n",
    "\n",
    "import torch"
   ]
  },
  {
   "cell_type": "code",
   "execution_count": 4,
   "id": "1e29ef47-b60d-48c2-ac8a-8cfac322103c",
   "metadata": {},
   "outputs": [],
   "source": [
    "# result_regression, model_regression = train((4,0.1,1e-3,4))"
   ]
  },
  {
   "cell_type": "code",
   "execution_count": 6,
   "id": "30d67fc4",
   "metadata": {},
   "outputs": [
    {
     "name": "stdout",
     "output_type": "stream",
     "text": [
      "importing gpu Mamba\n"
     ]
    },
    {
     "name": "stderr",
     "output_type": "stream",
     "text": [
      "Epoch 0: 100%|█| 800/800 [02:07<00:00,  6.27batch/s, loss=1.14, state0=32745, st\n",
      "Epoch 1: 100%|█| 800/800 [02:07<00:00,  6.25batch/s, loss=0.982, state0=37150, s\n",
      "Epoch 2: 100%|█| 800/800 [02:10<00:00,  6.14batch/s, loss=0.611, state0=34489, s\n",
      "Epoch 3: 100%|█| 800/800 [02:10<00:00,  6.12batch/s, loss=0.303, state0=30683, s\n",
      "Epoch 4: 100%|█| 800/800 [02:10<00:00,  6.13batch/s, loss=0.528, state0=33276, s\n",
      "Epoch 5: 100%|█| 800/800 [02:10<00:00,  6.15batch/s, loss=0.0676, state0=35617, \n",
      "Epoch 6: 100%|█| 800/800 [02:09<00:00,  6.18batch/s, loss=0.0397, state0=30651, \n",
      "Epoch 7: 100%|█| 800/800 [02:10<00:00,  6.14batch/s, loss=0.167, state0=32477, s\n",
      "Epoch 8: 100%|█| 800/800 [02:10<00:00,  6.15batch/s, loss=0.237, state0=33754, s\n",
      "Epoch 9: 100%|█| 800/800 [02:10<00:00,  6.12batch/s, loss=0.124, state0=33811, s\n"
     ]
    }
   ],
   "source": [
    "result, model = train_segmentation((2,0.1,1e-4,4))"
   ]
  },
  {
   "cell_type": "code",
   "execution_count": 10,
   "id": "a0993376",
   "metadata": {},
   "outputs": [],
   "source": [
    "torch.save(model, \"model_segmentation_2_0p1_1e-4_4_8kexps\")"
   ]
  },
  {
   "cell_type": "code",
   "execution_count": 7,
   "id": "2f8d388e",
   "metadata": {},
   "outputs": [
    {
     "ename": "NameError",
     "evalue": "name 'result_regression' is not defined",
     "output_type": "error",
     "traceback": [
      "\u001b[0;31m---------------------------------------------------------------------------\u001b[0m",
      "\u001b[0;31mNameError\u001b[0m                                 Traceback (most recent call last)",
      "Cell \u001b[0;32mIn[7], line 1\u001b[0m\n\u001b[0;32m----> 1\u001b[0m \u001b[43mresult_regression\u001b[49m\n",
      "\u001b[0;31mNameError\u001b[0m: name 'result_regression' is not defined"
     ]
    }
   ],
   "source": [
    "result_regression"
   ]
  },
  {
   "cell_type": "code",
   "execution_count": 8,
   "id": "2bc72aff",
   "metadata": {},
   "outputs": [
    {
     "data": {
      "text/plain": [
       "torch.Size([10, 4000, 1])"
      ]
     },
     "execution_count": 8,
     "metadata": {},
     "output_type": "execute_result"
    }
   ],
   "source": [
    "torch.randn(10,4000,1).size()"
   ]
  },
  {
   "cell_type": "code",
   "execution_count": 9,
   "id": "4800e925",
   "metadata": {},
   "outputs": [
    {
     "data": {
      "text/plain": [
       "EmetMamba(config=EmetConfig(d_model=3, n_layers=16, dt_rank=1, d_state=16, expand_factor=2, d_conv=4, dt_min=0.001, dt_max=0.1, dt_init='random', dt_scale=1.0, rms_norm_eps=1e-05, bias=False, conv_bias=True, inner_layernorms=False, pscan=True, use_cuda=True, bi_mamba_stacks=2, conv_stack=2, dropout=0.1))"
      ]
     },
     "execution_count": 9,
     "metadata": {},
     "output_type": "execute_result"
    }
   ],
   "source": [
    "model\n",
    "model.eval()"
   ]
  },
  {
   "cell_type": "code",
   "execution_count": 10,
   "id": "a9142e9a",
   "metadata": {},
   "outputs": [],
   "source": [
    "from train_fn import list_directory_tree_with_pathlib"
   ]
  },
  {
   "cell_type": "code",
   "execution_count": 11,
   "id": "fa4dae3d",
   "metadata": {},
   "outputs": [],
   "source": [
    "data_path = \"/media/brownianxgames/Aquisitions/test_IA/public_data_validation_v1/track_2/\"\n",
    "\n",
    "directory_files = list_directory_tree_with_pathlib(data_path)"
   ]
  },
  {
   "cell_type": "code",
   "execution_count": 12,
   "id": "43c0a4ef",
   "metadata": {},
   "outputs": [
    {
     "data": {
      "text/plain": [
       "[PosixPath('/media/brownianxgames/Aquisitions/test_IA/public_data_validation_v1/track_2/exp_11/trajs_fov_10.csv'),\n",
       " PosixPath('/media/brownianxgames/Aquisitions/test_IA/public_data_validation_v1/track_2/exp_11/trajs_fov_16.csv'),\n",
       " PosixPath('/media/brownianxgames/Aquisitions/test_IA/public_data_validation_v1/track_2/exp_11/trajs_fov_0.csv'),\n",
       " PosixPath('/media/brownianxgames/Aquisitions/test_IA/public_data_validation_v1/track_2/exp_11/trajs_fov_5.csv'),\n",
       " PosixPath('/media/brownianxgames/Aquisitions/test_IA/public_data_validation_v1/track_2/exp_11/trajs_fov_9.csv'),\n",
       " PosixPath('/media/brownianxgames/Aquisitions/test_IA/public_data_validation_v1/track_2/exp_11/trajs_fov_8.csv'),\n",
       " PosixPath('/media/brownianxgames/Aquisitions/test_IA/public_data_validation_v1/track_2/exp_11/trajs_fov_24.csv'),\n",
       " PosixPath('/media/brownianxgames/Aquisitions/test_IA/public_data_validation_v1/track_2/exp_11/trajs_fov_12.csv'),\n",
       " PosixPath('/media/brownianxgames/Aquisitions/test_IA/public_data_validation_v1/track_2/exp_11/trajs_fov_2.csv'),\n",
       " PosixPath('/media/brownianxgames/Aquisitions/test_IA/public_data_validation_v1/track_2/exp_11/trajs_fov_25.csv'),\n",
       " PosixPath('/media/brownianxgames/Aquisitions/test_IA/public_data_validation_v1/track_2/exp_11/trajs_fov_18.csv'),\n",
       " PosixPath('/media/brownianxgames/Aquisitions/test_IA/public_data_validation_v1/track_2/exp_11/trajs_fov_21.csv'),\n",
       " PosixPath('/media/brownianxgames/Aquisitions/test_IA/public_data_validation_v1/track_2/exp_11/trajs_fov_1.csv'),\n",
       " PosixPath('/media/brownianxgames/Aquisitions/test_IA/public_data_validation_v1/track_2/exp_11/trajs_fov_19.csv'),\n",
       " PosixPath('/media/brownianxgames/Aquisitions/test_IA/public_data_validation_v1/track_2/exp_11/trajs_fov_6.csv'),\n",
       " PosixPath('/media/brownianxgames/Aquisitions/test_IA/public_data_validation_v1/track_2/exp_11/trajs_fov_4.csv'),\n",
       " PosixPath('/media/brownianxgames/Aquisitions/test_IA/public_data_validation_v1/track_2/exp_11/trajs_fov_3.csv'),\n",
       " PosixPath('/media/brownianxgames/Aquisitions/test_IA/public_data_validation_v1/track_2/exp_11/trajs_fov_15.csv'),\n",
       " PosixPath('/media/brownianxgames/Aquisitions/test_IA/public_data_validation_v1/track_2/exp_11/trajs_fov_14.csv'),\n",
       " PosixPath('/media/brownianxgames/Aquisitions/test_IA/public_data_validation_v1/track_2/exp_11/trajs_fov_20.csv'),\n",
       " PosixPath('/media/brownianxgames/Aquisitions/test_IA/public_data_validation_v1/track_2/exp_11/trajs_fov_23.csv'),\n",
       " PosixPath('/media/brownianxgames/Aquisitions/test_IA/public_data_validation_v1/track_2/exp_11/trajs_fov_13.csv'),\n",
       " PosixPath('/media/brownianxgames/Aquisitions/test_IA/public_data_validation_v1/track_2/exp_11/trajs_fov_29.csv'),\n",
       " PosixPath('/media/brownianxgames/Aquisitions/test_IA/public_data_validation_v1/track_2/exp_11/trajs_fov_22.csv'),\n",
       " PosixPath('/media/brownianxgames/Aquisitions/test_IA/public_data_validation_v1/track_2/exp_11/trajs_fov_11.csv'),\n",
       " PosixPath('/media/brownianxgames/Aquisitions/test_IA/public_data_validation_v1/track_2/exp_11/trajs_fov_28.csv'),\n",
       " PosixPath('/media/brownianxgames/Aquisitions/test_IA/public_data_validation_v1/track_2/exp_11/trajs_fov_17.csv'),\n",
       " PosixPath('/media/brownianxgames/Aquisitions/test_IA/public_data_validation_v1/track_2/exp_11/trajs_fov_7.csv'),\n",
       " PosixPath('/media/brownianxgames/Aquisitions/test_IA/public_data_validation_v1/track_2/exp_11/trajs_fov_26.csv'),\n",
       " PosixPath('/media/brownianxgames/Aquisitions/test_IA/public_data_validation_v1/track_2/exp_11/trajs_fov_27.csv'),\n",
       " PosixPath('/media/brownianxgames/Aquisitions/test_IA/public_data_validation_v1/track_2/exp_1/trajs_fov_10.csv'),\n",
       " PosixPath('/media/brownianxgames/Aquisitions/test_IA/public_data_validation_v1/track_2/exp_1/trajs_fov_16.csv'),\n",
       " PosixPath('/media/brownianxgames/Aquisitions/test_IA/public_data_validation_v1/track_2/exp_1/trajs_fov_0.csv'),\n",
       " PosixPath('/media/brownianxgames/Aquisitions/test_IA/public_data_validation_v1/track_2/exp_1/trajs_fov_5.csv'),\n",
       " PosixPath('/media/brownianxgames/Aquisitions/test_IA/public_data_validation_v1/track_2/exp_1/trajs_fov_9.csv'),\n",
       " PosixPath('/media/brownianxgames/Aquisitions/test_IA/public_data_validation_v1/track_2/exp_1/trajs_fov_8.csv'),\n",
       " PosixPath('/media/brownianxgames/Aquisitions/test_IA/public_data_validation_v1/track_2/exp_1/trajs_fov_24.csv'),\n",
       " PosixPath('/media/brownianxgames/Aquisitions/test_IA/public_data_validation_v1/track_2/exp_1/trajs_fov_12.csv'),\n",
       " PosixPath('/media/brownianxgames/Aquisitions/test_IA/public_data_validation_v1/track_2/exp_1/trajs_fov_2.csv'),\n",
       " PosixPath('/media/brownianxgames/Aquisitions/test_IA/public_data_validation_v1/track_2/exp_1/trajs_fov_25.csv'),\n",
       " PosixPath('/media/brownianxgames/Aquisitions/test_IA/public_data_validation_v1/track_2/exp_1/trajs_fov_18.csv'),\n",
       " PosixPath('/media/brownianxgames/Aquisitions/test_IA/public_data_validation_v1/track_2/exp_1/trajs_fov_21.csv'),\n",
       " PosixPath('/media/brownianxgames/Aquisitions/test_IA/public_data_validation_v1/track_2/exp_1/trajs_fov_1.csv'),\n",
       " PosixPath('/media/brownianxgames/Aquisitions/test_IA/public_data_validation_v1/track_2/exp_1/trajs_fov_19.csv'),\n",
       " PosixPath('/media/brownianxgames/Aquisitions/test_IA/public_data_validation_v1/track_2/exp_1/trajs_fov_6.csv'),\n",
       " PosixPath('/media/brownianxgames/Aquisitions/test_IA/public_data_validation_v1/track_2/exp_1/trajs_fov_4.csv'),\n",
       " PosixPath('/media/brownianxgames/Aquisitions/test_IA/public_data_validation_v1/track_2/exp_1/trajs_fov_3.csv'),\n",
       " PosixPath('/media/brownianxgames/Aquisitions/test_IA/public_data_validation_v1/track_2/exp_1/trajs_fov_15.csv'),\n",
       " PosixPath('/media/brownianxgames/Aquisitions/test_IA/public_data_validation_v1/track_2/exp_1/trajs_fov_14.csv'),\n",
       " PosixPath('/media/brownianxgames/Aquisitions/test_IA/public_data_validation_v1/track_2/exp_1/trajs_fov_20.csv'),\n",
       " PosixPath('/media/brownianxgames/Aquisitions/test_IA/public_data_validation_v1/track_2/exp_1/trajs_fov_23.csv'),\n",
       " PosixPath('/media/brownianxgames/Aquisitions/test_IA/public_data_validation_v1/track_2/exp_1/trajs_fov_13.csv'),\n",
       " PosixPath('/media/brownianxgames/Aquisitions/test_IA/public_data_validation_v1/track_2/exp_1/trajs_fov_29.csv'),\n",
       " PosixPath('/media/brownianxgames/Aquisitions/test_IA/public_data_validation_v1/track_2/exp_1/trajs_fov_22.csv'),\n",
       " PosixPath('/media/brownianxgames/Aquisitions/test_IA/public_data_validation_v1/track_2/exp_1/trajs_fov_11.csv'),\n",
       " PosixPath('/media/brownianxgames/Aquisitions/test_IA/public_data_validation_v1/track_2/exp_1/trajs_fov_28.csv'),\n",
       " PosixPath('/media/brownianxgames/Aquisitions/test_IA/public_data_validation_v1/track_2/exp_1/trajs_fov_17.csv'),\n",
       " PosixPath('/media/brownianxgames/Aquisitions/test_IA/public_data_validation_v1/track_2/exp_1/trajs_fov_7.csv'),\n",
       " PosixPath('/media/brownianxgames/Aquisitions/test_IA/public_data_validation_v1/track_2/exp_1/trajs_fov_26.csv'),\n",
       " PosixPath('/media/brownianxgames/Aquisitions/test_IA/public_data_validation_v1/track_2/exp_1/trajs_fov_27.csv'),\n",
       " PosixPath('/media/brownianxgames/Aquisitions/test_IA/public_data_validation_v1/track_2/exp_3/trajs_fov_10.csv'),\n",
       " PosixPath('/media/brownianxgames/Aquisitions/test_IA/public_data_validation_v1/track_2/exp_3/trajs_fov_16.csv'),\n",
       " PosixPath('/media/brownianxgames/Aquisitions/test_IA/public_data_validation_v1/track_2/exp_3/trajs_fov_0.csv'),\n",
       " PosixPath('/media/brownianxgames/Aquisitions/test_IA/public_data_validation_v1/track_2/exp_3/trajs_fov_5.csv'),\n",
       " PosixPath('/media/brownianxgames/Aquisitions/test_IA/public_data_validation_v1/track_2/exp_3/trajs_fov_9.csv'),\n",
       " PosixPath('/media/brownianxgames/Aquisitions/test_IA/public_data_validation_v1/track_2/exp_3/trajs_fov_8.csv'),\n",
       " PosixPath('/media/brownianxgames/Aquisitions/test_IA/public_data_validation_v1/track_2/exp_3/trajs_fov_24.csv'),\n",
       " PosixPath('/media/brownianxgames/Aquisitions/test_IA/public_data_validation_v1/track_2/exp_3/trajs_fov_12.csv'),\n",
       " PosixPath('/media/brownianxgames/Aquisitions/test_IA/public_data_validation_v1/track_2/exp_3/trajs_fov_2.csv'),\n",
       " PosixPath('/media/brownianxgames/Aquisitions/test_IA/public_data_validation_v1/track_2/exp_3/trajs_fov_25.csv'),\n",
       " PosixPath('/media/brownianxgames/Aquisitions/test_IA/public_data_validation_v1/track_2/exp_3/trajs_fov_18.csv'),\n",
       " PosixPath('/media/brownianxgames/Aquisitions/test_IA/public_data_validation_v1/track_2/exp_3/trajs_fov_21.csv'),\n",
       " PosixPath('/media/brownianxgames/Aquisitions/test_IA/public_data_validation_v1/track_2/exp_3/trajs_fov_1.csv'),\n",
       " PosixPath('/media/brownianxgames/Aquisitions/test_IA/public_data_validation_v1/track_2/exp_3/trajs_fov_19.csv'),\n",
       " PosixPath('/media/brownianxgames/Aquisitions/test_IA/public_data_validation_v1/track_2/exp_3/trajs_fov_6.csv'),\n",
       " PosixPath('/media/brownianxgames/Aquisitions/test_IA/public_data_validation_v1/track_2/exp_3/trajs_fov_4.csv'),\n",
       " PosixPath('/media/brownianxgames/Aquisitions/test_IA/public_data_validation_v1/track_2/exp_3/trajs_fov_3.csv'),\n",
       " PosixPath('/media/brownianxgames/Aquisitions/test_IA/public_data_validation_v1/track_2/exp_3/trajs_fov_15.csv'),\n",
       " PosixPath('/media/brownianxgames/Aquisitions/test_IA/public_data_validation_v1/track_2/exp_3/trajs_fov_14.csv'),\n",
       " PosixPath('/media/brownianxgames/Aquisitions/test_IA/public_data_validation_v1/track_2/exp_3/trajs_fov_20.csv'),\n",
       " PosixPath('/media/brownianxgames/Aquisitions/test_IA/public_data_validation_v1/track_2/exp_3/trajs_fov_23.csv'),\n",
       " PosixPath('/media/brownianxgames/Aquisitions/test_IA/public_data_validation_v1/track_2/exp_3/trajs_fov_13.csv'),\n",
       " PosixPath('/media/brownianxgames/Aquisitions/test_IA/public_data_validation_v1/track_2/exp_3/trajs_fov_29.csv'),\n",
       " PosixPath('/media/brownianxgames/Aquisitions/test_IA/public_data_validation_v1/track_2/exp_3/trajs_fov_22.csv'),\n",
       " PosixPath('/media/brownianxgames/Aquisitions/test_IA/public_data_validation_v1/track_2/exp_3/trajs_fov_11.csv'),\n",
       " PosixPath('/media/brownianxgames/Aquisitions/test_IA/public_data_validation_v1/track_2/exp_3/trajs_fov_28.csv'),\n",
       " PosixPath('/media/brownianxgames/Aquisitions/test_IA/public_data_validation_v1/track_2/exp_3/trajs_fov_17.csv'),\n",
       " PosixPath('/media/brownianxgames/Aquisitions/test_IA/public_data_validation_v1/track_2/exp_3/trajs_fov_7.csv'),\n",
       " PosixPath('/media/brownianxgames/Aquisitions/test_IA/public_data_validation_v1/track_2/exp_3/trajs_fov_26.csv'),\n",
       " PosixPath('/media/brownianxgames/Aquisitions/test_IA/public_data_validation_v1/track_2/exp_3/trajs_fov_27.csv'),\n",
       " PosixPath('/media/brownianxgames/Aquisitions/test_IA/public_data_validation_v1/track_2/exp_6/trajs_fov_10.csv'),\n",
       " PosixPath('/media/brownianxgames/Aquisitions/test_IA/public_data_validation_v1/track_2/exp_6/trajs_fov_16.csv'),\n",
       " PosixPath('/media/brownianxgames/Aquisitions/test_IA/public_data_validation_v1/track_2/exp_6/trajs_fov_0.csv'),\n",
       " PosixPath('/media/brownianxgames/Aquisitions/test_IA/public_data_validation_v1/track_2/exp_6/trajs_fov_5.csv'),\n",
       " PosixPath('/media/brownianxgames/Aquisitions/test_IA/public_data_validation_v1/track_2/exp_6/trajs_fov_9.csv'),\n",
       " PosixPath('/media/brownianxgames/Aquisitions/test_IA/public_data_validation_v1/track_2/exp_6/trajs_fov_8.csv'),\n",
       " PosixPath('/media/brownianxgames/Aquisitions/test_IA/public_data_validation_v1/track_2/exp_6/trajs_fov_24.csv'),\n",
       " PosixPath('/media/brownianxgames/Aquisitions/test_IA/public_data_validation_v1/track_2/exp_6/trajs_fov_12.csv'),\n",
       " PosixPath('/media/brownianxgames/Aquisitions/test_IA/public_data_validation_v1/track_2/exp_6/trajs_fov_2.csv'),\n",
       " PosixPath('/media/brownianxgames/Aquisitions/test_IA/public_data_validation_v1/track_2/exp_6/trajs_fov_25.csv'),\n",
       " PosixPath('/media/brownianxgames/Aquisitions/test_IA/public_data_validation_v1/track_2/exp_6/trajs_fov_18.csv'),\n",
       " PosixPath('/media/brownianxgames/Aquisitions/test_IA/public_data_validation_v1/track_2/exp_6/trajs_fov_21.csv'),\n",
       " PosixPath('/media/brownianxgames/Aquisitions/test_IA/public_data_validation_v1/track_2/exp_6/trajs_fov_1.csv'),\n",
       " PosixPath('/media/brownianxgames/Aquisitions/test_IA/public_data_validation_v1/track_2/exp_6/trajs_fov_19.csv'),\n",
       " PosixPath('/media/brownianxgames/Aquisitions/test_IA/public_data_validation_v1/track_2/exp_6/trajs_fov_6.csv'),\n",
       " PosixPath('/media/brownianxgames/Aquisitions/test_IA/public_data_validation_v1/track_2/exp_6/trajs_fov_4.csv'),\n",
       " PosixPath('/media/brownianxgames/Aquisitions/test_IA/public_data_validation_v1/track_2/exp_6/trajs_fov_3.csv'),\n",
       " PosixPath('/media/brownianxgames/Aquisitions/test_IA/public_data_validation_v1/track_2/exp_6/trajs_fov_15.csv'),\n",
       " PosixPath('/media/brownianxgames/Aquisitions/test_IA/public_data_validation_v1/track_2/exp_6/trajs_fov_14.csv'),\n",
       " PosixPath('/media/brownianxgames/Aquisitions/test_IA/public_data_validation_v1/track_2/exp_6/trajs_fov_20.csv'),\n",
       " PosixPath('/media/brownianxgames/Aquisitions/test_IA/public_data_validation_v1/track_2/exp_6/trajs_fov_23.csv'),\n",
       " PosixPath('/media/brownianxgames/Aquisitions/test_IA/public_data_validation_v1/track_2/exp_6/trajs_fov_13.csv'),\n",
       " PosixPath('/media/brownianxgames/Aquisitions/test_IA/public_data_validation_v1/track_2/exp_6/trajs_fov_29.csv'),\n",
       " PosixPath('/media/brownianxgames/Aquisitions/test_IA/public_data_validation_v1/track_2/exp_6/trajs_fov_22.csv'),\n",
       " PosixPath('/media/brownianxgames/Aquisitions/test_IA/public_data_validation_v1/track_2/exp_6/trajs_fov_11.csv'),\n",
       " PosixPath('/media/brownianxgames/Aquisitions/test_IA/public_data_validation_v1/track_2/exp_6/trajs_fov_28.csv'),\n",
       " PosixPath('/media/brownianxgames/Aquisitions/test_IA/public_data_validation_v1/track_2/exp_6/trajs_fov_17.csv'),\n",
       " PosixPath('/media/brownianxgames/Aquisitions/test_IA/public_data_validation_v1/track_2/exp_6/trajs_fov_7.csv'),\n",
       " PosixPath('/media/brownianxgames/Aquisitions/test_IA/public_data_validation_v1/track_2/exp_6/trajs_fov_26.csv'),\n",
       " PosixPath('/media/brownianxgames/Aquisitions/test_IA/public_data_validation_v1/track_2/exp_6/trajs_fov_27.csv'),\n",
       " PosixPath('/media/brownianxgames/Aquisitions/test_IA/public_data_validation_v1/track_2/exp_5/trajs_fov_10.csv'),\n",
       " PosixPath('/media/brownianxgames/Aquisitions/test_IA/public_data_validation_v1/track_2/exp_5/trajs_fov_16.csv'),\n",
       " PosixPath('/media/brownianxgames/Aquisitions/test_IA/public_data_validation_v1/track_2/exp_5/trajs_fov_0.csv'),\n",
       " PosixPath('/media/brownianxgames/Aquisitions/test_IA/public_data_validation_v1/track_2/exp_5/trajs_fov_5.csv'),\n",
       " PosixPath('/media/brownianxgames/Aquisitions/test_IA/public_data_validation_v1/track_2/exp_5/trajs_fov_9.csv'),\n",
       " PosixPath('/media/brownianxgames/Aquisitions/test_IA/public_data_validation_v1/track_2/exp_5/trajs_fov_8.csv'),\n",
       " PosixPath('/media/brownianxgames/Aquisitions/test_IA/public_data_validation_v1/track_2/exp_5/trajs_fov_24.csv'),\n",
       " PosixPath('/media/brownianxgames/Aquisitions/test_IA/public_data_validation_v1/track_2/exp_5/trajs_fov_12.csv'),\n",
       " PosixPath('/media/brownianxgames/Aquisitions/test_IA/public_data_validation_v1/track_2/exp_5/trajs_fov_2.csv'),\n",
       " PosixPath('/media/brownianxgames/Aquisitions/test_IA/public_data_validation_v1/track_2/exp_5/trajs_fov_25.csv'),\n",
       " PosixPath('/media/brownianxgames/Aquisitions/test_IA/public_data_validation_v1/track_2/exp_5/trajs_fov_18.csv'),\n",
       " PosixPath('/media/brownianxgames/Aquisitions/test_IA/public_data_validation_v1/track_2/exp_5/trajs_fov_21.csv'),\n",
       " PosixPath('/media/brownianxgames/Aquisitions/test_IA/public_data_validation_v1/track_2/exp_5/trajs_fov_1.csv'),\n",
       " PosixPath('/media/brownianxgames/Aquisitions/test_IA/public_data_validation_v1/track_2/exp_5/trajs_fov_19.csv'),\n",
       " PosixPath('/media/brownianxgames/Aquisitions/test_IA/public_data_validation_v1/track_2/exp_5/trajs_fov_6.csv'),\n",
       " PosixPath('/media/brownianxgames/Aquisitions/test_IA/public_data_validation_v1/track_2/exp_5/trajs_fov_4.csv'),\n",
       " PosixPath('/media/brownianxgames/Aquisitions/test_IA/public_data_validation_v1/track_2/exp_5/trajs_fov_3.csv'),\n",
       " PosixPath('/media/brownianxgames/Aquisitions/test_IA/public_data_validation_v1/track_2/exp_5/trajs_fov_15.csv'),\n",
       " PosixPath('/media/brownianxgames/Aquisitions/test_IA/public_data_validation_v1/track_2/exp_5/trajs_fov_14.csv'),\n",
       " PosixPath('/media/brownianxgames/Aquisitions/test_IA/public_data_validation_v1/track_2/exp_5/trajs_fov_20.csv'),\n",
       " PosixPath('/media/brownianxgames/Aquisitions/test_IA/public_data_validation_v1/track_2/exp_5/trajs_fov_23.csv'),\n",
       " PosixPath('/media/brownianxgames/Aquisitions/test_IA/public_data_validation_v1/track_2/exp_5/trajs_fov_13.csv'),\n",
       " PosixPath('/media/brownianxgames/Aquisitions/test_IA/public_data_validation_v1/track_2/exp_5/trajs_fov_29.csv'),\n",
       " PosixPath('/media/brownianxgames/Aquisitions/test_IA/public_data_validation_v1/track_2/exp_5/trajs_fov_22.csv'),\n",
       " PosixPath('/media/brownianxgames/Aquisitions/test_IA/public_data_validation_v1/track_2/exp_5/trajs_fov_11.csv'),\n",
       " PosixPath('/media/brownianxgames/Aquisitions/test_IA/public_data_validation_v1/track_2/exp_5/trajs_fov_28.csv'),\n",
       " PosixPath('/media/brownianxgames/Aquisitions/test_IA/public_data_validation_v1/track_2/exp_5/trajs_fov_17.csv'),\n",
       " PosixPath('/media/brownianxgames/Aquisitions/test_IA/public_data_validation_v1/track_2/exp_5/trajs_fov_7.csv'),\n",
       " PosixPath('/media/brownianxgames/Aquisitions/test_IA/public_data_validation_v1/track_2/exp_5/trajs_fov_26.csv'),\n",
       " PosixPath('/media/brownianxgames/Aquisitions/test_IA/public_data_validation_v1/track_2/exp_5/trajs_fov_27.csv'),\n",
       " PosixPath('/media/brownianxgames/Aquisitions/test_IA/public_data_validation_v1/track_2/exp_12/trajs_fov_10.csv'),\n",
       " PosixPath('/media/brownianxgames/Aquisitions/test_IA/public_data_validation_v1/track_2/exp_12/trajs_fov_16.csv'),\n",
       " PosixPath('/media/brownianxgames/Aquisitions/test_IA/public_data_validation_v1/track_2/exp_12/trajs_fov_0.csv'),\n",
       " PosixPath('/media/brownianxgames/Aquisitions/test_IA/public_data_validation_v1/track_2/exp_12/trajs_fov_5.csv'),\n",
       " PosixPath('/media/brownianxgames/Aquisitions/test_IA/public_data_validation_v1/track_2/exp_12/trajs_fov_9.csv'),\n",
       " PosixPath('/media/brownianxgames/Aquisitions/test_IA/public_data_validation_v1/track_2/exp_12/trajs_fov_8.csv'),\n",
       " PosixPath('/media/brownianxgames/Aquisitions/test_IA/public_data_validation_v1/track_2/exp_12/trajs_fov_24.csv'),\n",
       " PosixPath('/media/brownianxgames/Aquisitions/test_IA/public_data_validation_v1/track_2/exp_12/trajs_fov_12.csv'),\n",
       " PosixPath('/media/brownianxgames/Aquisitions/test_IA/public_data_validation_v1/track_2/exp_12/trajs_fov_2.csv'),\n",
       " PosixPath('/media/brownianxgames/Aquisitions/test_IA/public_data_validation_v1/track_2/exp_12/trajs_fov_25.csv'),\n",
       " PosixPath('/media/brownianxgames/Aquisitions/test_IA/public_data_validation_v1/track_2/exp_12/trajs_fov_18.csv'),\n",
       " PosixPath('/media/brownianxgames/Aquisitions/test_IA/public_data_validation_v1/track_2/exp_12/trajs_fov_21.csv'),\n",
       " PosixPath('/media/brownianxgames/Aquisitions/test_IA/public_data_validation_v1/track_2/exp_12/trajs_fov_1.csv'),\n",
       " PosixPath('/media/brownianxgames/Aquisitions/test_IA/public_data_validation_v1/track_2/exp_12/trajs_fov_19.csv'),\n",
       " PosixPath('/media/brownianxgames/Aquisitions/test_IA/public_data_validation_v1/track_2/exp_12/trajs_fov_6.csv'),\n",
       " PosixPath('/media/brownianxgames/Aquisitions/test_IA/public_data_validation_v1/track_2/exp_12/trajs_fov_4.csv'),\n",
       " PosixPath('/media/brownianxgames/Aquisitions/test_IA/public_data_validation_v1/track_2/exp_12/trajs_fov_3.csv'),\n",
       " PosixPath('/media/brownianxgames/Aquisitions/test_IA/public_data_validation_v1/track_2/exp_12/trajs_fov_15.csv'),\n",
       " PosixPath('/media/brownianxgames/Aquisitions/test_IA/public_data_validation_v1/track_2/exp_12/trajs_fov_14.csv'),\n",
       " PosixPath('/media/brownianxgames/Aquisitions/test_IA/public_data_validation_v1/track_2/exp_12/trajs_fov_20.csv'),\n",
       " PosixPath('/media/brownianxgames/Aquisitions/test_IA/public_data_validation_v1/track_2/exp_12/trajs_fov_23.csv'),\n",
       " PosixPath('/media/brownianxgames/Aquisitions/test_IA/public_data_validation_v1/track_2/exp_12/trajs_fov_13.csv'),\n",
       " PosixPath('/media/brownianxgames/Aquisitions/test_IA/public_data_validation_v1/track_2/exp_12/trajs_fov_29.csv'),\n",
       " PosixPath('/media/brownianxgames/Aquisitions/test_IA/public_data_validation_v1/track_2/exp_12/trajs_fov_22.csv'),\n",
       " PosixPath('/media/brownianxgames/Aquisitions/test_IA/public_data_validation_v1/track_2/exp_12/trajs_fov_11.csv'),\n",
       " PosixPath('/media/brownianxgames/Aquisitions/test_IA/public_data_validation_v1/track_2/exp_12/trajs_fov_28.csv'),\n",
       " PosixPath('/media/brownianxgames/Aquisitions/test_IA/public_data_validation_v1/track_2/exp_12/trajs_fov_17.csv'),\n",
       " PosixPath('/media/brownianxgames/Aquisitions/test_IA/public_data_validation_v1/track_2/exp_12/trajs_fov_7.csv'),\n",
       " PosixPath('/media/brownianxgames/Aquisitions/test_IA/public_data_validation_v1/track_2/exp_12/trajs_fov_26.csv'),\n",
       " PosixPath('/media/brownianxgames/Aquisitions/test_IA/public_data_validation_v1/track_2/exp_12/trajs_fov_27.csv'),\n",
       " PosixPath('/media/brownianxgames/Aquisitions/test_IA/public_data_validation_v1/track_2/exp_8/trajs_fov_10.csv'),\n",
       " PosixPath('/media/brownianxgames/Aquisitions/test_IA/public_data_validation_v1/track_2/exp_8/trajs_fov_16.csv'),\n",
       " PosixPath('/media/brownianxgames/Aquisitions/test_IA/public_data_validation_v1/track_2/exp_8/trajs_fov_0.csv'),\n",
       " PosixPath('/media/brownianxgames/Aquisitions/test_IA/public_data_validation_v1/track_2/exp_8/trajs_fov_5.csv'),\n",
       " PosixPath('/media/brownianxgames/Aquisitions/test_IA/public_data_validation_v1/track_2/exp_8/trajs_fov_9.csv'),\n",
       " PosixPath('/media/brownianxgames/Aquisitions/test_IA/public_data_validation_v1/track_2/exp_8/trajs_fov_8.csv'),\n",
       " PosixPath('/media/brownianxgames/Aquisitions/test_IA/public_data_validation_v1/track_2/exp_8/trajs_fov_24.csv'),\n",
       " PosixPath('/media/brownianxgames/Aquisitions/test_IA/public_data_validation_v1/track_2/exp_8/trajs_fov_12.csv'),\n",
       " PosixPath('/media/brownianxgames/Aquisitions/test_IA/public_data_validation_v1/track_2/exp_8/trajs_fov_2.csv'),\n",
       " PosixPath('/media/brownianxgames/Aquisitions/test_IA/public_data_validation_v1/track_2/exp_8/trajs_fov_25.csv'),\n",
       " PosixPath('/media/brownianxgames/Aquisitions/test_IA/public_data_validation_v1/track_2/exp_8/trajs_fov_18.csv'),\n",
       " PosixPath('/media/brownianxgames/Aquisitions/test_IA/public_data_validation_v1/track_2/exp_8/trajs_fov_21.csv'),\n",
       " PosixPath('/media/brownianxgames/Aquisitions/test_IA/public_data_validation_v1/track_2/exp_8/trajs_fov_1.csv'),\n",
       " PosixPath('/media/brownianxgames/Aquisitions/test_IA/public_data_validation_v1/track_2/exp_8/trajs_fov_19.csv'),\n",
       " PosixPath('/media/brownianxgames/Aquisitions/test_IA/public_data_validation_v1/track_2/exp_8/trajs_fov_6.csv'),\n",
       " PosixPath('/media/brownianxgames/Aquisitions/test_IA/public_data_validation_v1/track_2/exp_8/trajs_fov_4.csv'),\n",
       " PosixPath('/media/brownianxgames/Aquisitions/test_IA/public_data_validation_v1/track_2/exp_8/trajs_fov_3.csv'),\n",
       " PosixPath('/media/brownianxgames/Aquisitions/test_IA/public_data_validation_v1/track_2/exp_8/trajs_fov_15.csv'),\n",
       " PosixPath('/media/brownianxgames/Aquisitions/test_IA/public_data_validation_v1/track_2/exp_8/trajs_fov_14.csv'),\n",
       " PosixPath('/media/brownianxgames/Aquisitions/test_IA/public_data_validation_v1/track_2/exp_8/trajs_fov_20.csv'),\n",
       " PosixPath('/media/brownianxgames/Aquisitions/test_IA/public_data_validation_v1/track_2/exp_8/trajs_fov_23.csv'),\n",
       " PosixPath('/media/brownianxgames/Aquisitions/test_IA/public_data_validation_v1/track_2/exp_8/trajs_fov_13.csv'),\n",
       " PosixPath('/media/brownianxgames/Aquisitions/test_IA/public_data_validation_v1/track_2/exp_8/trajs_fov_29.csv'),\n",
       " PosixPath('/media/brownianxgames/Aquisitions/test_IA/public_data_validation_v1/track_2/exp_8/trajs_fov_22.csv'),\n",
       " PosixPath('/media/brownianxgames/Aquisitions/test_IA/public_data_validation_v1/track_2/exp_8/trajs_fov_11.csv'),\n",
       " PosixPath('/media/brownianxgames/Aquisitions/test_IA/public_data_validation_v1/track_2/exp_8/trajs_fov_28.csv'),\n",
       " PosixPath('/media/brownianxgames/Aquisitions/test_IA/public_data_validation_v1/track_2/exp_8/trajs_fov_17.csv'),\n",
       " PosixPath('/media/brownianxgames/Aquisitions/test_IA/public_data_validation_v1/track_2/exp_8/trajs_fov_7.csv'),\n",
       " PosixPath('/media/brownianxgames/Aquisitions/test_IA/public_data_validation_v1/track_2/exp_8/trajs_fov_26.csv'),\n",
       " PosixPath('/media/brownianxgames/Aquisitions/test_IA/public_data_validation_v1/track_2/exp_8/trajs_fov_27.csv'),\n",
       " PosixPath('/media/brownianxgames/Aquisitions/test_IA/public_data_validation_v1/track_2/exp_9/trajs_fov_10.csv'),\n",
       " PosixPath('/media/brownianxgames/Aquisitions/test_IA/public_data_validation_v1/track_2/exp_9/trajs_fov_16.csv'),\n",
       " PosixPath('/media/brownianxgames/Aquisitions/test_IA/public_data_validation_v1/track_2/exp_9/trajs_fov_0.csv'),\n",
       " PosixPath('/media/brownianxgames/Aquisitions/test_IA/public_data_validation_v1/track_2/exp_9/trajs_fov_5.csv'),\n",
       " PosixPath('/media/brownianxgames/Aquisitions/test_IA/public_data_validation_v1/track_2/exp_9/trajs_fov_9.csv'),\n",
       " PosixPath('/media/brownianxgames/Aquisitions/test_IA/public_data_validation_v1/track_2/exp_9/trajs_fov_8.csv'),\n",
       " PosixPath('/media/brownianxgames/Aquisitions/test_IA/public_data_validation_v1/track_2/exp_9/trajs_fov_24.csv'),\n",
       " PosixPath('/media/brownianxgames/Aquisitions/test_IA/public_data_validation_v1/track_2/exp_9/trajs_fov_12.csv'),\n",
       " PosixPath('/media/brownianxgames/Aquisitions/test_IA/public_data_validation_v1/track_2/exp_9/trajs_fov_2.csv'),\n",
       " PosixPath('/media/brownianxgames/Aquisitions/test_IA/public_data_validation_v1/track_2/exp_9/trajs_fov_25.csv'),\n",
       " PosixPath('/media/brownianxgames/Aquisitions/test_IA/public_data_validation_v1/track_2/exp_9/trajs_fov_18.csv'),\n",
       " PosixPath('/media/brownianxgames/Aquisitions/test_IA/public_data_validation_v1/track_2/exp_9/trajs_fov_21.csv'),\n",
       " PosixPath('/media/brownianxgames/Aquisitions/test_IA/public_data_validation_v1/track_2/exp_9/trajs_fov_1.csv'),\n",
       " PosixPath('/media/brownianxgames/Aquisitions/test_IA/public_data_validation_v1/track_2/exp_9/trajs_fov_19.csv'),\n",
       " PosixPath('/media/brownianxgames/Aquisitions/test_IA/public_data_validation_v1/track_2/exp_9/trajs_fov_6.csv'),\n",
       " PosixPath('/media/brownianxgames/Aquisitions/test_IA/public_data_validation_v1/track_2/exp_9/trajs_fov_4.csv'),\n",
       " PosixPath('/media/brownianxgames/Aquisitions/test_IA/public_data_validation_v1/track_2/exp_9/trajs_fov_3.csv'),\n",
       " PosixPath('/media/brownianxgames/Aquisitions/test_IA/public_data_validation_v1/track_2/exp_9/trajs_fov_15.csv'),\n",
       " PosixPath('/media/brownianxgames/Aquisitions/test_IA/public_data_validation_v1/track_2/exp_9/trajs_fov_14.csv'),\n",
       " PosixPath('/media/brownianxgames/Aquisitions/test_IA/public_data_validation_v1/track_2/exp_9/trajs_fov_20.csv'),\n",
       " PosixPath('/media/brownianxgames/Aquisitions/test_IA/public_data_validation_v1/track_2/exp_9/trajs_fov_23.csv'),\n",
       " PosixPath('/media/brownianxgames/Aquisitions/test_IA/public_data_validation_v1/track_2/exp_9/trajs_fov_13.csv'),\n",
       " PosixPath('/media/brownianxgames/Aquisitions/test_IA/public_data_validation_v1/track_2/exp_9/trajs_fov_29.csv'),\n",
       " PosixPath('/media/brownianxgames/Aquisitions/test_IA/public_data_validation_v1/track_2/exp_9/trajs_fov_22.csv'),\n",
       " PosixPath('/media/brownianxgames/Aquisitions/test_IA/public_data_validation_v1/track_2/exp_9/trajs_fov_11.csv'),\n",
       " PosixPath('/media/brownianxgames/Aquisitions/test_IA/public_data_validation_v1/track_2/exp_9/trajs_fov_28.csv'),\n",
       " PosixPath('/media/brownianxgames/Aquisitions/test_IA/public_data_validation_v1/track_2/exp_9/trajs_fov_17.csv'),\n",
       " PosixPath('/media/brownianxgames/Aquisitions/test_IA/public_data_validation_v1/track_2/exp_9/trajs_fov_7.csv'),\n",
       " PosixPath('/media/brownianxgames/Aquisitions/test_IA/public_data_validation_v1/track_2/exp_9/trajs_fov_26.csv'),\n",
       " PosixPath('/media/brownianxgames/Aquisitions/test_IA/public_data_validation_v1/track_2/exp_9/trajs_fov_27.csv'),\n",
       " PosixPath('/media/brownianxgames/Aquisitions/test_IA/public_data_validation_v1/track_2/exp_4/trajs_fov_10.csv'),\n",
       " PosixPath('/media/brownianxgames/Aquisitions/test_IA/public_data_validation_v1/track_2/exp_4/trajs_fov_16.csv'),\n",
       " PosixPath('/media/brownianxgames/Aquisitions/test_IA/public_data_validation_v1/track_2/exp_4/trajs_fov_0.csv'),\n",
       " PosixPath('/media/brownianxgames/Aquisitions/test_IA/public_data_validation_v1/track_2/exp_4/trajs_fov_5.csv'),\n",
       " PosixPath('/media/brownianxgames/Aquisitions/test_IA/public_data_validation_v1/track_2/exp_4/trajs_fov_9.csv'),\n",
       " PosixPath('/media/brownianxgames/Aquisitions/test_IA/public_data_validation_v1/track_2/exp_4/trajs_fov_8.csv'),\n",
       " PosixPath('/media/brownianxgames/Aquisitions/test_IA/public_data_validation_v1/track_2/exp_4/trajs_fov_24.csv'),\n",
       " PosixPath('/media/brownianxgames/Aquisitions/test_IA/public_data_validation_v1/track_2/exp_4/trajs_fov_12.csv'),\n",
       " PosixPath('/media/brownianxgames/Aquisitions/test_IA/public_data_validation_v1/track_2/exp_4/trajs_fov_2.csv'),\n",
       " PosixPath('/media/brownianxgames/Aquisitions/test_IA/public_data_validation_v1/track_2/exp_4/trajs_fov_25.csv'),\n",
       " PosixPath('/media/brownianxgames/Aquisitions/test_IA/public_data_validation_v1/track_2/exp_4/trajs_fov_18.csv'),\n",
       " PosixPath('/media/brownianxgames/Aquisitions/test_IA/public_data_validation_v1/track_2/exp_4/trajs_fov_21.csv'),\n",
       " PosixPath('/media/brownianxgames/Aquisitions/test_IA/public_data_validation_v1/track_2/exp_4/trajs_fov_1.csv'),\n",
       " PosixPath('/media/brownianxgames/Aquisitions/test_IA/public_data_validation_v1/track_2/exp_4/trajs_fov_19.csv'),\n",
       " PosixPath('/media/brownianxgames/Aquisitions/test_IA/public_data_validation_v1/track_2/exp_4/trajs_fov_6.csv'),\n",
       " PosixPath('/media/brownianxgames/Aquisitions/test_IA/public_data_validation_v1/track_2/exp_4/trajs_fov_4.csv'),\n",
       " PosixPath('/media/brownianxgames/Aquisitions/test_IA/public_data_validation_v1/track_2/exp_4/trajs_fov_3.csv'),\n",
       " PosixPath('/media/brownianxgames/Aquisitions/test_IA/public_data_validation_v1/track_2/exp_4/trajs_fov_15.csv'),\n",
       " PosixPath('/media/brownianxgames/Aquisitions/test_IA/public_data_validation_v1/track_2/exp_4/trajs_fov_14.csv'),\n",
       " PosixPath('/media/brownianxgames/Aquisitions/test_IA/public_data_validation_v1/track_2/exp_4/trajs_fov_20.csv'),\n",
       " PosixPath('/media/brownianxgames/Aquisitions/test_IA/public_data_validation_v1/track_2/exp_4/trajs_fov_23.csv'),\n",
       " PosixPath('/media/brownianxgames/Aquisitions/test_IA/public_data_validation_v1/track_2/exp_4/trajs_fov_13.csv'),\n",
       " PosixPath('/media/brownianxgames/Aquisitions/test_IA/public_data_validation_v1/track_2/exp_4/trajs_fov_29.csv'),\n",
       " PosixPath('/media/brownianxgames/Aquisitions/test_IA/public_data_validation_v1/track_2/exp_4/trajs_fov_22.csv'),\n",
       " PosixPath('/media/brownianxgames/Aquisitions/test_IA/public_data_validation_v1/track_2/exp_4/trajs_fov_11.csv'),\n",
       " PosixPath('/media/brownianxgames/Aquisitions/test_IA/public_data_validation_v1/track_2/exp_4/trajs_fov_28.csv'),\n",
       " PosixPath('/media/brownianxgames/Aquisitions/test_IA/public_data_validation_v1/track_2/exp_4/trajs_fov_17.csv'),\n",
       " PosixPath('/media/brownianxgames/Aquisitions/test_IA/public_data_validation_v1/track_2/exp_4/trajs_fov_7.csv'),\n",
       " PosixPath('/media/brownianxgames/Aquisitions/test_IA/public_data_validation_v1/track_2/exp_4/trajs_fov_26.csv'),\n",
       " PosixPath('/media/brownianxgames/Aquisitions/test_IA/public_data_validation_v1/track_2/exp_4/trajs_fov_27.csv'),\n",
       " PosixPath('/media/brownianxgames/Aquisitions/test_IA/public_data_validation_v1/track_2/exp_0/trajs_fov_10.csv'),\n",
       " PosixPath('/media/brownianxgames/Aquisitions/test_IA/public_data_validation_v1/track_2/exp_0/trajs_fov_16.csv'),\n",
       " PosixPath('/media/brownianxgames/Aquisitions/test_IA/public_data_validation_v1/track_2/exp_0/trajs_fov_0.csv'),\n",
       " PosixPath('/media/brownianxgames/Aquisitions/test_IA/public_data_validation_v1/track_2/exp_0/trajs_fov_5.csv'),\n",
       " PosixPath('/media/brownianxgames/Aquisitions/test_IA/public_data_validation_v1/track_2/exp_0/trajs_fov_9.csv'),\n",
       " PosixPath('/media/brownianxgames/Aquisitions/test_IA/public_data_validation_v1/track_2/exp_0/trajs_fov_8.csv'),\n",
       " PosixPath('/media/brownianxgames/Aquisitions/test_IA/public_data_validation_v1/track_2/exp_0/trajs_fov_24.csv'),\n",
       " PosixPath('/media/brownianxgames/Aquisitions/test_IA/public_data_validation_v1/track_2/exp_0/trajs_fov_12.csv'),\n",
       " PosixPath('/media/brownianxgames/Aquisitions/test_IA/public_data_validation_v1/track_2/exp_0/trajs_fov_2.csv'),\n",
       " PosixPath('/media/brownianxgames/Aquisitions/test_IA/public_data_validation_v1/track_2/exp_0/trajs_fov_25.csv'),\n",
       " PosixPath('/media/brownianxgames/Aquisitions/test_IA/public_data_validation_v1/track_2/exp_0/trajs_fov_18.csv'),\n",
       " PosixPath('/media/brownianxgames/Aquisitions/test_IA/public_data_validation_v1/track_2/exp_0/trajs_fov_21.csv'),\n",
       " PosixPath('/media/brownianxgames/Aquisitions/test_IA/public_data_validation_v1/track_2/exp_0/trajs_fov_1.csv'),\n",
       " PosixPath('/media/brownianxgames/Aquisitions/test_IA/public_data_validation_v1/track_2/exp_0/trajs_fov_19.csv'),\n",
       " PosixPath('/media/brownianxgames/Aquisitions/test_IA/public_data_validation_v1/track_2/exp_0/trajs_fov_6.csv'),\n",
       " PosixPath('/media/brownianxgames/Aquisitions/test_IA/public_data_validation_v1/track_2/exp_0/trajs_fov_4.csv'),\n",
       " PosixPath('/media/brownianxgames/Aquisitions/test_IA/public_data_validation_v1/track_2/exp_0/trajs_fov_3.csv'),\n",
       " PosixPath('/media/brownianxgames/Aquisitions/test_IA/public_data_validation_v1/track_2/exp_0/trajs_fov_15.csv'),\n",
       " PosixPath('/media/brownianxgames/Aquisitions/test_IA/public_data_validation_v1/track_2/exp_0/trajs_fov_14.csv'),\n",
       " PosixPath('/media/brownianxgames/Aquisitions/test_IA/public_data_validation_v1/track_2/exp_0/trajs_fov_20.csv'),\n",
       " PosixPath('/media/brownianxgames/Aquisitions/test_IA/public_data_validation_v1/track_2/exp_0/trajs_fov_23.csv'),\n",
       " PosixPath('/media/brownianxgames/Aquisitions/test_IA/public_data_validation_v1/track_2/exp_0/trajs_fov_13.csv'),\n",
       " PosixPath('/media/brownianxgames/Aquisitions/test_IA/public_data_validation_v1/track_2/exp_0/trajs_fov_29.csv'),\n",
       " PosixPath('/media/brownianxgames/Aquisitions/test_IA/public_data_validation_v1/track_2/exp_0/trajs_fov_22.csv'),\n",
       " PosixPath('/media/brownianxgames/Aquisitions/test_IA/public_data_validation_v1/track_2/exp_0/trajs_fov_11.csv'),\n",
       " PosixPath('/media/brownianxgames/Aquisitions/test_IA/public_data_validation_v1/track_2/exp_0/trajs_fov_28.csv'),\n",
       " PosixPath('/media/brownianxgames/Aquisitions/test_IA/public_data_validation_v1/track_2/exp_0/trajs_fov_17.csv'),\n",
       " PosixPath('/media/brownianxgames/Aquisitions/test_IA/public_data_validation_v1/track_2/exp_0/trajs_fov_7.csv'),\n",
       " PosixPath('/media/brownianxgames/Aquisitions/test_IA/public_data_validation_v1/track_2/exp_0/trajs_fov_26.csv'),\n",
       " PosixPath('/media/brownianxgames/Aquisitions/test_IA/public_data_validation_v1/track_2/exp_0/trajs_fov_27.csv'),\n",
       " PosixPath('/media/brownianxgames/Aquisitions/test_IA/public_data_validation_v1/track_2/exp_7/trajs_fov_10.csv'),\n",
       " PosixPath('/media/brownianxgames/Aquisitions/test_IA/public_data_validation_v1/track_2/exp_7/trajs_fov_16.csv'),\n",
       " PosixPath('/media/brownianxgames/Aquisitions/test_IA/public_data_validation_v1/track_2/exp_7/trajs_fov_0.csv'),\n",
       " PosixPath('/media/brownianxgames/Aquisitions/test_IA/public_data_validation_v1/track_2/exp_7/trajs_fov_5.csv'),\n",
       " PosixPath('/media/brownianxgames/Aquisitions/test_IA/public_data_validation_v1/track_2/exp_7/trajs_fov_9.csv'),\n",
       " PosixPath('/media/brownianxgames/Aquisitions/test_IA/public_data_validation_v1/track_2/exp_7/trajs_fov_8.csv'),\n",
       " PosixPath('/media/brownianxgames/Aquisitions/test_IA/public_data_validation_v1/track_2/exp_7/trajs_fov_24.csv'),\n",
       " PosixPath('/media/brownianxgames/Aquisitions/test_IA/public_data_validation_v1/track_2/exp_7/trajs_fov_12.csv'),\n",
       " PosixPath('/media/brownianxgames/Aquisitions/test_IA/public_data_validation_v1/track_2/exp_7/trajs_fov_2.csv'),\n",
       " PosixPath('/media/brownianxgames/Aquisitions/test_IA/public_data_validation_v1/track_2/exp_7/trajs_fov_25.csv'),\n",
       " PosixPath('/media/brownianxgames/Aquisitions/test_IA/public_data_validation_v1/track_2/exp_7/trajs_fov_18.csv'),\n",
       " PosixPath('/media/brownianxgames/Aquisitions/test_IA/public_data_validation_v1/track_2/exp_7/trajs_fov_21.csv'),\n",
       " PosixPath('/media/brownianxgames/Aquisitions/test_IA/public_data_validation_v1/track_2/exp_7/trajs_fov_1.csv'),\n",
       " PosixPath('/media/brownianxgames/Aquisitions/test_IA/public_data_validation_v1/track_2/exp_7/trajs_fov_19.csv'),\n",
       " PosixPath('/media/brownianxgames/Aquisitions/test_IA/public_data_validation_v1/track_2/exp_7/trajs_fov_6.csv'),\n",
       " PosixPath('/media/brownianxgames/Aquisitions/test_IA/public_data_validation_v1/track_2/exp_7/trajs_fov_4.csv'),\n",
       " PosixPath('/media/brownianxgames/Aquisitions/test_IA/public_data_validation_v1/track_2/exp_7/trajs_fov_3.csv'),\n",
       " PosixPath('/media/brownianxgames/Aquisitions/test_IA/public_data_validation_v1/track_2/exp_7/trajs_fov_15.csv'),\n",
       " PosixPath('/media/brownianxgames/Aquisitions/test_IA/public_data_validation_v1/track_2/exp_7/trajs_fov_14.csv'),\n",
       " PosixPath('/media/brownianxgames/Aquisitions/test_IA/public_data_validation_v1/track_2/exp_7/trajs_fov_20.csv'),\n",
       " PosixPath('/media/brownianxgames/Aquisitions/test_IA/public_data_validation_v1/track_2/exp_7/trajs_fov_23.csv'),\n",
       " PosixPath('/media/brownianxgames/Aquisitions/test_IA/public_data_validation_v1/track_2/exp_7/trajs_fov_13.csv'),\n",
       " PosixPath('/media/brownianxgames/Aquisitions/test_IA/public_data_validation_v1/track_2/exp_7/trajs_fov_29.csv'),\n",
       " PosixPath('/media/brownianxgames/Aquisitions/test_IA/public_data_validation_v1/track_2/exp_7/trajs_fov_22.csv'),\n",
       " PosixPath('/media/brownianxgames/Aquisitions/test_IA/public_data_validation_v1/track_2/exp_7/trajs_fov_11.csv'),\n",
       " PosixPath('/media/brownianxgames/Aquisitions/test_IA/public_data_validation_v1/track_2/exp_7/trajs_fov_28.csv'),\n",
       " PosixPath('/media/brownianxgames/Aquisitions/test_IA/public_data_validation_v1/track_2/exp_7/trajs_fov_17.csv'),\n",
       " PosixPath('/media/brownianxgames/Aquisitions/test_IA/public_data_validation_v1/track_2/exp_7/trajs_fov_7.csv'),\n",
       " PosixPath('/media/brownianxgames/Aquisitions/test_IA/public_data_validation_v1/track_2/exp_7/trajs_fov_26.csv'),\n",
       " PosixPath('/media/brownianxgames/Aquisitions/test_IA/public_data_validation_v1/track_2/exp_7/trajs_fov_27.csv'),\n",
       " PosixPath('/media/brownianxgames/Aquisitions/test_IA/public_data_validation_v1/track_2/exp_10/trajs_fov_10.csv'),\n",
       " PosixPath('/media/brownianxgames/Aquisitions/test_IA/public_data_validation_v1/track_2/exp_10/trajs_fov_16.csv'),\n",
       " PosixPath('/media/brownianxgames/Aquisitions/test_IA/public_data_validation_v1/track_2/exp_10/trajs_fov_0.csv'),\n",
       " PosixPath('/media/brownianxgames/Aquisitions/test_IA/public_data_validation_v1/track_2/exp_10/trajs_fov_5.csv'),\n",
       " PosixPath('/media/brownianxgames/Aquisitions/test_IA/public_data_validation_v1/track_2/exp_10/trajs_fov_9.csv'),\n",
       " PosixPath('/media/brownianxgames/Aquisitions/test_IA/public_data_validation_v1/track_2/exp_10/trajs_fov_8.csv'),\n",
       " PosixPath('/media/brownianxgames/Aquisitions/test_IA/public_data_validation_v1/track_2/exp_10/trajs_fov_24.csv'),\n",
       " PosixPath('/media/brownianxgames/Aquisitions/test_IA/public_data_validation_v1/track_2/exp_10/trajs_fov_12.csv'),\n",
       " PosixPath('/media/brownianxgames/Aquisitions/test_IA/public_data_validation_v1/track_2/exp_10/trajs_fov_2.csv'),\n",
       " PosixPath('/media/brownianxgames/Aquisitions/test_IA/public_data_validation_v1/track_2/exp_10/trajs_fov_25.csv'),\n",
       " PosixPath('/media/brownianxgames/Aquisitions/test_IA/public_data_validation_v1/track_2/exp_10/trajs_fov_18.csv'),\n",
       " PosixPath('/media/brownianxgames/Aquisitions/test_IA/public_data_validation_v1/track_2/exp_10/trajs_fov_21.csv'),\n",
       " PosixPath('/media/brownianxgames/Aquisitions/test_IA/public_data_validation_v1/track_2/exp_10/trajs_fov_1.csv'),\n",
       " PosixPath('/media/brownianxgames/Aquisitions/test_IA/public_data_validation_v1/track_2/exp_10/trajs_fov_19.csv'),\n",
       " PosixPath('/media/brownianxgames/Aquisitions/test_IA/public_data_validation_v1/track_2/exp_10/trajs_fov_6.csv'),\n",
       " PosixPath('/media/brownianxgames/Aquisitions/test_IA/public_data_validation_v1/track_2/exp_10/trajs_fov_4.csv'),\n",
       " PosixPath('/media/brownianxgames/Aquisitions/test_IA/public_data_validation_v1/track_2/exp_10/trajs_fov_3.csv'),\n",
       " PosixPath('/media/brownianxgames/Aquisitions/test_IA/public_data_validation_v1/track_2/exp_10/trajs_fov_15.csv'),\n",
       " PosixPath('/media/brownianxgames/Aquisitions/test_IA/public_data_validation_v1/track_2/exp_10/trajs_fov_14.csv'),\n",
       " PosixPath('/media/brownianxgames/Aquisitions/test_IA/public_data_validation_v1/track_2/exp_10/trajs_fov_20.csv'),\n",
       " PosixPath('/media/brownianxgames/Aquisitions/test_IA/public_data_validation_v1/track_2/exp_10/trajs_fov_23.csv'),\n",
       " PosixPath('/media/brownianxgames/Aquisitions/test_IA/public_data_validation_v1/track_2/exp_10/trajs_fov_13.csv'),\n",
       " PosixPath('/media/brownianxgames/Aquisitions/test_IA/public_data_validation_v1/track_2/exp_10/trajs_fov_29.csv'),\n",
       " PosixPath('/media/brownianxgames/Aquisitions/test_IA/public_data_validation_v1/track_2/exp_10/trajs_fov_22.csv'),\n",
       " PosixPath('/media/brownianxgames/Aquisitions/test_IA/public_data_validation_v1/track_2/exp_10/trajs_fov_11.csv'),\n",
       " PosixPath('/media/brownianxgames/Aquisitions/test_IA/public_data_validation_v1/track_2/exp_10/trajs_fov_28.csv'),\n",
       " PosixPath('/media/brownianxgames/Aquisitions/test_IA/public_data_validation_v1/track_2/exp_10/trajs_fov_17.csv'),\n",
       " PosixPath('/media/brownianxgames/Aquisitions/test_IA/public_data_validation_v1/track_2/exp_10/trajs_fov_7.csv'),\n",
       " PosixPath('/media/brownianxgames/Aquisitions/test_IA/public_data_validation_v1/track_2/exp_10/trajs_fov_26.csv'),\n",
       " PosixPath('/media/brownianxgames/Aquisitions/test_IA/public_data_validation_v1/track_2/exp_10/trajs_fov_27.csv'),\n",
       " PosixPath('/media/brownianxgames/Aquisitions/test_IA/public_data_validation_v1/track_2/exp_2/trajs_fov_10.csv'),\n",
       " PosixPath('/media/brownianxgames/Aquisitions/test_IA/public_data_validation_v1/track_2/exp_2/trajs_fov_16.csv'),\n",
       " PosixPath('/media/brownianxgames/Aquisitions/test_IA/public_data_validation_v1/track_2/exp_2/trajs_fov_0.csv'),\n",
       " PosixPath('/media/brownianxgames/Aquisitions/test_IA/public_data_validation_v1/track_2/exp_2/trajs_fov_5.csv'),\n",
       " PosixPath('/media/brownianxgames/Aquisitions/test_IA/public_data_validation_v1/track_2/exp_2/trajs_fov_9.csv'),\n",
       " PosixPath('/media/brownianxgames/Aquisitions/test_IA/public_data_validation_v1/track_2/exp_2/trajs_fov_8.csv'),\n",
       " PosixPath('/media/brownianxgames/Aquisitions/test_IA/public_data_validation_v1/track_2/exp_2/trajs_fov_24.csv'),\n",
       " PosixPath('/media/brownianxgames/Aquisitions/test_IA/public_data_validation_v1/track_2/exp_2/trajs_fov_12.csv'),\n",
       " PosixPath('/media/brownianxgames/Aquisitions/test_IA/public_data_validation_v1/track_2/exp_2/trajs_fov_2.csv'),\n",
       " PosixPath('/media/brownianxgames/Aquisitions/test_IA/public_data_validation_v1/track_2/exp_2/trajs_fov_25.csv'),\n",
       " PosixPath('/media/brownianxgames/Aquisitions/test_IA/public_data_validation_v1/track_2/exp_2/trajs_fov_18.csv'),\n",
       " PosixPath('/media/brownianxgames/Aquisitions/test_IA/public_data_validation_v1/track_2/exp_2/trajs_fov_21.csv'),\n",
       " PosixPath('/media/brownianxgames/Aquisitions/test_IA/public_data_validation_v1/track_2/exp_2/trajs_fov_1.csv'),\n",
       " PosixPath('/media/brownianxgames/Aquisitions/test_IA/public_data_validation_v1/track_2/exp_2/trajs_fov_19.csv'),\n",
       " PosixPath('/media/brownianxgames/Aquisitions/test_IA/public_data_validation_v1/track_2/exp_2/trajs_fov_6.csv'),\n",
       " PosixPath('/media/brownianxgames/Aquisitions/test_IA/public_data_validation_v1/track_2/exp_2/trajs_fov_4.csv'),\n",
       " PosixPath('/media/brownianxgames/Aquisitions/test_IA/public_data_validation_v1/track_2/exp_2/trajs_fov_3.csv'),\n",
       " PosixPath('/media/brownianxgames/Aquisitions/test_IA/public_data_validation_v1/track_2/exp_2/trajs_fov_15.csv'),\n",
       " PosixPath('/media/brownianxgames/Aquisitions/test_IA/public_data_validation_v1/track_2/exp_2/trajs_fov_14.csv'),\n",
       " PosixPath('/media/brownianxgames/Aquisitions/test_IA/public_data_validation_v1/track_2/exp_2/trajs_fov_20.csv'),\n",
       " PosixPath('/media/brownianxgames/Aquisitions/test_IA/public_data_validation_v1/track_2/exp_2/trajs_fov_23.csv'),\n",
       " PosixPath('/media/brownianxgames/Aquisitions/test_IA/public_data_validation_v1/track_2/exp_2/trajs_fov_13.csv'),\n",
       " PosixPath('/media/brownianxgames/Aquisitions/test_IA/public_data_validation_v1/track_2/exp_2/trajs_fov_29.csv'),\n",
       " PosixPath('/media/brownianxgames/Aquisitions/test_IA/public_data_validation_v1/track_2/exp_2/trajs_fov_22.csv'),\n",
       " PosixPath('/media/brownianxgames/Aquisitions/test_IA/public_data_validation_v1/track_2/exp_2/trajs_fov_11.csv'),\n",
       " PosixPath('/media/brownianxgames/Aquisitions/test_IA/public_data_validation_v1/track_2/exp_2/trajs_fov_28.csv'),\n",
       " PosixPath('/media/brownianxgames/Aquisitions/test_IA/public_data_validation_v1/track_2/exp_2/trajs_fov_17.csv'),\n",
       " PosixPath('/media/brownianxgames/Aquisitions/test_IA/public_data_validation_v1/track_2/exp_2/trajs_fov_7.csv'),\n",
       " PosixPath('/media/brownianxgames/Aquisitions/test_IA/public_data_validation_v1/track_2/exp_2/trajs_fov_26.csv'),\n",
       " PosixPath('/media/brownianxgames/Aquisitions/test_IA/public_data_validation_v1/track_2/exp_2/trajs_fov_27.csv')]"
      ]
     },
     "execution_count": 12,
     "metadata": {},
     "output_type": "execute_result"
    }
   ],
   "source": [
    "directory_files"
   ]
  },
  {
   "cell_type": "code",
   "execution_count": 13,
   "id": "60cacfd6",
   "metadata": {},
   "outputs": [],
   "source": [
    "file = directory_files[0]"
   ]
  },
  {
   "cell_type": "code",
   "execution_count": 14,
   "id": "d3748765",
   "metadata": {},
   "outputs": [
    {
     "data": {
      "text/plain": [
       "PosixPath('/media/brownianxgames/Aquisitions/test_IA/public_data_validation_v1/track_2/exp_11/trajs_fov_10.csv')"
      ]
     },
     "execution_count": 14,
     "metadata": {},
     "output_type": "execute_result"
    }
   ],
   "source": [
    "file"
   ]
  },
  {
   "cell_type": "code",
   "execution_count": 15,
   "id": "e5f54535",
   "metadata": {},
   "outputs": [],
   "source": [
    "from torch.utils.data import Dataset, DataLoader\n",
    "from pathlib import Path\n",
    "import pandas as pd\n",
    "import numpy as np\n",
    "from dataclasses import dataclass\n",
    "\n",
    "\n",
    "# Function to pad an array to a specific shape\n",
    "def to_shape(a, shape):\n",
    "    # Unpack the target shape\n",
    "    y_, x_ = shape\n",
    "\n",
    "    # Get the current shape of the array\n",
    "    y, x = a.shape\n",
    "\n",
    "    # Calculate the padding needed in the y and x directions\n",
    "    y_pad = y_ - y\n",
    "    x_pad = x_ - x\n",
    "    output = np.zeros()\n",
    "    # Pad the array using numpy's pad function\n",
    "    return np.pad(\n",
    "        a,\n",
    "        [(0, 1), (0, 1)],\n",
    "        # Calculate the padding for each dimension\n",
    "        #((y_pad // 2, y_pad // 2 + y_pad % 2), (x_pad // 2, x_pad // 2 + x_pad % 2)),\n",
    "        mode=\"constant\",\n",
    "    )\n",
    "\n",
    "\n",
    "# Function to pad data and labels to a specific shape\n",
    "def apply_padding(data_df, N, T_max):\n",
    "    # Define the final shape of the data and labels\n",
    "    final_shape = (N, T_max, 3)\n",
    "\n",
    "    # Initialize the final data and labels with zeros\n",
    "    final_data = np.zeros(final_shape)\n",
    "    final_label = np.zeros((N, T_max, 3))\n",
    "\n",
    "    # Select a random subset of trajectory indices\n",
    "    if len(data_df[\"traj_idx\"].unique()) < N:\n",
    "        selected_ids = data_df[\"traj_idx\"].unique()\n",
    "    else:\n",
    "        selected_ids = np.random.choice(\n",
    "            data_df[\"traj_idx\"].unique(), size=N, replace=False\n",
    "        )\n",
    "\n",
    "    # Iterate over the selected trajectory indices\n",
    "    for n, id in enumerate(selected_ids):\n",
    "        # Filter the data for the current trajectory index\n",
    "        exp = data_df[data_df[\"traj_idx\"] == id]\n",
    "\n",
    "        # Extract the data and labels for the current trajectory\n",
    "        data = exp[[\"frame\", \"x\", \"y\"]].to_numpy()\n",
    "        # print(exp[\"frame\"])\n",
    "        label = exp[[\"alpha\", \"D\", \"state\"]].to_numpy()\n",
    "\n",
    "        # If the data is longer than T_max, truncate it\n",
    "        if data.shape[0] > T_max:\n",
    "            final_data[n, :, :] = data[:T_max, :]\n",
    "            final_label[n, :, :] = label[:T_max, :]\n",
    "\n",
    "        # Otherwise, pad the data to T_max\n",
    "        else:\n",
    "            # print((label.shape, T_max))\n",
    "            final_data[n, :data.shape[0], :] = data\n",
    "            final_label[n, :data.shape[0], :] = label\n",
    "\n",
    "    # Return the padded data and labels\n",
    "    return final_data, final_label\n",
    "\n",
    "\n",
    "# Define a function to normalize data\n",
    "def normalize_df(data):\n",
    "    # Calculate displacement in x and y directions\n",
    "    # Normalize by substring mean and dividing by variance.\n",
    "\n",
    "    displacement_x = []\n",
    "    displacement_y = []\n",
    "    for _, group in data.groupby(\"traj_idx\"):\n",
    "        x = np.asarray(group[\"x\"])\n",
    "        y = np.asarray(group[\"y\"])\n",
    "        d_x = x[1:] - x[:-1]\n",
    "        d_y = y[1:] - y[:-1]\n",
    "        displacement_x = displacement_x + list(d_x)\n",
    "        displacement_y = displacement_y + list(d_y)\n",
    "\n",
    "    # Calculate variance in x and y directions\n",
    "    variance_x = np.sqrt(np.std(displacement_x))\n",
    "    variance_y = np.sqrt(np.std(displacement_y))\n",
    "\n",
    "    # Normalize data\n",
    "    data.loc[:, \"x\"] = (data[\"x\"] - data[\"x\"].mean()) / variance_x\n",
    "    data.loc[:, \"y\"] = (data[\"y\"] - data[\"y\"].mean()) / variance_y\n",
    "\n",
    "\n",
    "def normalize_np(data):\n",
    "\n",
    "    displacement_x = []\n",
    "    displacement_y = []\n",
    "    for n in range(data.shape[0]):\n",
    "        x = data[n, :, 1]\n",
    "        y = data[n, :, 2]\n",
    "        d_x = x[1:] - x[:-1]\n",
    "        d_y = y[1:] - y[:-1]\n",
    "        displacement_x = displacement_x + list(d_x)\n",
    "        displacement_y = displacement_y + list(d_y)\n",
    "\n",
    "    # Calculate variance in x and y directions\n",
    "    variance_x = np.sqrt(np.std(displacement_x))\n",
    "    variance_y = np.sqrt(np.std(displacement_y))\n",
    "\n",
    "    # Normalize data\n",
    "\n",
    "    data[:, :, 1] = (data[:, :, 1] - np.mean(data[:, :, 1])) / variance_x\n",
    "    data[:, :, 2] = (data[:, :, 2] - np.mean(data[:, :, 2])) / variance_x\n",
    "\n",
    "    return data\n",
    "\n",
    "\n",
    "# Define a function to list directory tree with pathlib\n",
    "def list_directory_tree_with_pathlib(starting_directory):\n",
    "    path_object = Path(starting_directory)\n",
    "    folders = []\n",
    "    for file_path in path_object.rglob(\"*.csv\"):\n",
    "        folders.append(file_path)\n",
    "    return folders\n",
    "\n",
    "\n",
    "# Define a custom dataset class for all data\n",
    "@dataclass\n",
    "class Dataset_all_data(Dataset):\n",
    "    # Initialize filenames and transform flag\n",
    "    # Pad value should be a tuple such as (N, Tmax)\n",
    "    filenames: list\n",
    "    transform: bool = False\n",
    "    pad: None | tuple = None\n",
    "    noise: bool = False\n",
    "\n",
    "    def __len__(self):\n",
    "        # Return the number of files\n",
    "        return len(self.filenames)\n",
    "\n",
    "    def __getitem__(self, idx):\n",
    "        # Read csv file and extract data and label\n",
    "        df = pd.read_csv(self.filenames[idx])\n",
    "\n",
    "        if self.pad is None:\n",
    "            data = df[[\"traj_idx\", \"frame\", \"x\", \"y\"]]\n",
    "            label = np.asarray(df[[\"alpha\", \"D\"]])\n",
    "            label_2 = np.asarray(df[\"state\"])\n",
    "\n",
    "        else:\n",
    "            if len(self.pad) != 2:\n",
    "                raise ValueError(\"pad value should be set as (N, T_max)\")\n",
    "            data, label = apply_padding(df, *self.pad)\n",
    "            label_2 = label[:, :, -1]\n",
    "            label_2[label_2[:, :] > 0] = label_2[label_2[:, :] > 0] \n",
    "            label = label[:, :, :-1]\n",
    "\n",
    "        # Normalize data if transform flag is True\n",
    "        if self.transform:\n",
    "            if self.pad is None:\n",
    "                normalize_df(data)\n",
    "                data = np.asarray(data)\n",
    "            else:\n",
    "                data = normalize_np(data)\n",
    "\n",
    "        if self.noise:\n",
    "            data = add_noise(data)\n",
    "        \n",
    "        # Normalize D between 0 and 1\n",
    "        label[:,:,0] = (np.log(label[:,:,0]) + 6) / 18\n",
    "\n",
    "        # Normaliza alpha between 0 and 1\n",
    "        label[:,:,1] = label[:,:,1] / 2\n",
    "\n",
    "        # Return data and label\n",
    "        return torch.from_numpy(data.astype(np.float32)), (\n",
    "            torch.from_numpy(label.astype(np.float32)),\n",
    "            torch.from_numpy(label_2.astype(np.float32)),\n",
    "        )\n",
    "    \n",
    "def add_noise(data):\n",
    "    noise_amplitude = np.random.choice([0.01, 0.1, 1])\n",
    "    noise = np.random.normal(0, noise_amplitude, data[:,:,1:].shape)\n",
    "    data[:,:,1:] = data[:,:,1:] + data[:,:,1:]*noise\n",
    "    return  data"
   ]
  },
  {
   "cell_type": "code",
   "execution_count": null,
   "id": "fe1d344b",
   "metadata": {},
   "outputs": [],
   "source": []
  },
  {
   "cell_type": "code",
   "execution_count": 20,
   "id": "c53e0439",
   "metadata": {},
   "outputs": [],
   "source": [
    "df = pd.read_csv(file)\n",
    "nb_trajs = len(df[\"traj_idx\"].unique())\n",
    "dataset = np.zeros((nb_trajs, 200,3))\n"
   ]
  },
  {
   "cell_type": "code",
   "execution_count": 17,
   "id": "35d01310",
   "metadata": {},
   "outputs": [],
   "source": [
    "## The bodel take data per batch of 20 so we should take the data and scatter it onto the batch dimension"
   ]
  },
  {
   "cell_type": "code",
   "execution_count": 18,
   "id": "bc63e5f7",
   "metadata": {},
   "outputs": [
    {
     "data": {
      "text/plain": [
       "(2, 20, 200, 3)"
      ]
     },
     "execution_count": 18,
     "metadata": {},
     "output_type": "execute_result"
    }
   ],
   "source": [
    "dataset.shape"
   ]
  },
  {
   "cell_type": "code",
   "execution_count": 21,
   "id": "97bc2317",
   "metadata": {},
   "outputs": [],
   "source": [
    "def apply_padding(data_df):\n",
    "    # Define the finaT_l shape of the data and labels\n",
    "    T_max = 200\n",
    "    selected_ids = data_df[\"traj_idx\"].unique()\n",
    "\n",
    "    final_shape = (len(selected_ids), T_max, 3)\n",
    "\n",
    "    # Initialize the final data and labels with zeros\n",
    "    final_data = np.zeros(final_shape)\n",
    "\n",
    "\n",
    "    # Iterate over the selected trajectory indices\n",
    "    for n, id in enumerate(selected_ids):\n",
    "        # Filter the data for the current trajectory index\n",
    "        exp = data_df[data_df[\"traj_idx\"] == id]\n",
    "\n",
    "        # Extract the data and labels for the current trajectory\n",
    "        data = exp[[\"frame\", \"x\", \"y\"]].to_numpy()\n",
    "        # print(exp[\"frame\"])\n",
    "\n",
    "        # If the data is longer than T_max, truncate it\n",
    "        if data.shape[0] > T_max:\n",
    "            final_data[n, :, :] = data[:T_max, :]\n",
    "\n",
    "        # Otherwise, pad the data to T_max\n",
    "        else:\n",
    "            # print((label.shape, T_max))\n",
    "            final_data[n, :data.shape[0], :] = data\n",
    "    # Return the padded data and labels\n",
    "    return final_data\n"
   ]
  },
  {
   "cell_type": "code",
   "execution_count": 22,
   "id": "6a1f86a4",
   "metadata": {},
   "outputs": [],
   "source": [
    "df_padded = apply_padding(df)"
   ]
  },
  {
   "cell_type": "code",
   "execution_count": 23,
   "id": "c0ba0235",
   "metadata": {},
   "outputs": [
    {
     "data": {
      "text/plain": [
       "(36, 200, 3)"
      ]
     },
     "execution_count": 23,
     "metadata": {},
     "output_type": "execute_result"
    }
   ],
   "source": [
    "df_padded.shape"
   ]
  },
  {
   "cell_type": "code",
   "execution_count": 27,
   "id": "fa2d9525",
   "metadata": {},
   "outputs": [],
   "source": [
    "# if nb_trajs % 20 == 0:\n",
    "\n",
    "#     for i in range(dataset.shape[0]):\n",
    "#         dataset[i,:,:,:] = df_padded[i*20:(i+1)*20, :,:]\n",
    "\n",
    "# else : \n",
    "#     for i in range(dataset.shape[0] - 1):\n",
    "#         dataset[i,:,:,:] = df_padded[i*20:(i+1)*20, :,:]\n",
    "\n",
    "#     #On place i dans la dernière couche\n",
    "#     i+=1\n",
    "#     remaining_trajs = nb_trajs % 20\n",
    "#     dataset[i,:remaining_trajs,:,:] = df_padded[-remaining_trajs:, :, :]\n",
    "#     dataset[i,remaining_trajs:,:,:] = df_padded[:(20 - remaining_trajs), :, :]"
   ]
  },
  {
   "cell_type": "code",
   "execution_count": 27,
   "id": "0b53278b",
   "metadata": {},
   "outputs": [],
   "source": [
    "def read_dataset(file):\n",
    "    df = pd.read_csv(file)\n",
    "    nb_trajs = len(df[\"traj_idx\"].unique())\n",
    "    dataset = np.zeros((np.ceil(nb_trajs/20).astype(int), 20, 200,3))\n",
    "\n",
    "    df_padded = apply_padding(df)\n",
    "\n",
    "    # if nb_trajs % 20 == 0:\n",
    "\n",
    "    #     for i in range(dataset.shape[0]):\n",
    "    #         dataset[i,:,:,:] = df_padded[i*20:(i+1)*20, :,:]\n",
    "\n",
    "    # else : \n",
    "    #     for i in range(dataset.shape[0] - 1):\n",
    "    #         dataset[i,:,:,:] = df_padded[i*20:(i+1)*20, :,:]\n",
    "\n",
    "    #     #On place i dans la dernière couche\n",
    "    #     i+=1\n",
    "    #     remaining_trajs = nb_trajs % 20\n",
    "    #     dataset[i,:remaining_trajs,:,:] = df_padded[-remaining_trajs:, :, :]\n",
    "    #     dataset[i,remaining_trajs:,:,:] = df_padded[:(20 - remaining_trajs), :, :]\n",
    "\n",
    "    return torch.from_numpy(df_padded.astype(np.float32))#, nb_trajs"
   ]
  },
  {
   "cell_type": "code",
   "execution_count": 28,
   "id": "e725e1f7",
   "metadata": {},
   "outputs": [
    {
     "data": {
      "text/plain": [
       "EmetMamba(config=EmetConfig(d_model=3, n_layers=16, dt_rank=1, d_state=16, expand_factor=2, d_conv=4, dt_min=0.001, dt_max=0.1, dt_init='random', dt_scale=1.0, rms_norm_eps=1e-05, bias=False, conv_bias=True, inner_layernorms=False, pscan=True, use_cuda=True, bi_mamba_stacks=2, conv_stack=2, dropout=0.1))"
      ]
     },
     "execution_count": 28,
     "metadata": {},
     "output_type": "execute_result"
    }
   ],
   "source": [
    "model.eval()"
   ]
  },
  {
   "cell_type": "code",
   "execution_count": 29,
   "id": "950b6901",
   "metadata": {},
   "outputs": [],
   "source": [
    "a = {}\n",
    "a[\"2\"] = 4"
   ]
  },
  {
   "cell_type": "code",
   "execution_count": 41,
   "id": "72380a34",
   "metadata": {},
   "outputs": [],
   "source": [
    "results = {}\n",
    "with torch.no_grad():\n",
    "    for file in directory_files:\n",
    "        data= read_dataset(file)\n",
    "        data = data.to(\"cuda\")\n",
    "        \n",
    "        results[file] = (torch.argmax(torch.softmax(model(data), dim=2), dim=2))"
   ]
  },
  {
   "cell_type": "code",
   "execution_count": 44,
   "id": "5bf29a66-959f-4e82-a9fa-6b343e331112",
   "metadata": {},
   "outputs": [
    {
     "data": {
      "text/plain": [
       "torch.Size([43, 200, 3])"
      ]
     },
     "execution_count": 44,
     "metadata": {},
     "output_type": "execute_result"
    }
   ],
   "source": [
    "model(data).size()"
   ]
  },
  {
   "cell_type": "code",
   "execution_count": 32,
   "id": "d858cb5d",
   "metadata": {},
   "outputs": [],
   "source": [
    "# results_regression = {}\n",
    "# with torch.no_grad():\n",
    "#     for file in directory_files:\n",
    "#         data, n_trajs = read_dataset(file)\n",
    "#         # data = data.to(\"cuda\")\n",
    "#         results_regression[file] = (model_regression(data),n_trajs, data)"
   ]
  },
  {
   "cell_type": "code",
   "execution_count": 33,
   "id": "6b740105",
   "metadata": {},
   "outputs": [],
   "source": [
    "keys = list(results.keys())"
   ]
  },
  {
   "cell_type": "code",
   "execution_count": 45,
   "id": "efe8dbc2",
   "metadata": {},
   "outputs": [],
   "source": [
    "i = 30\n",
    "a = results[keys[i]]\n",
    "# b = results_regression[keys[i]][0]\n",
    "# n_traj = results[keys[i]][1]\n",
    "# data =  results_regression[keys[i]][2]"
   ]
  },
  {
   "cell_type": "code",
   "execution_count": 46,
   "id": "267197b4",
   "metadata": {},
   "outputs": [],
   "source": [
    "a = a.to(\"cpu\").numpy()\n",
    "# b = b.to(\"cpu\").numpy()\n",
    "# data = data.to(\"cpu\").numpy()"
   ]
  },
  {
   "cell_type": "code",
   "execution_count": null,
   "id": "2ede3f92",
   "metadata": {},
   "outputs": [],
   "source": []
  },
  {
   "cell_type": "code",
   "execution_count": 47,
   "id": "e817ccd1",
   "metadata": {},
   "outputs": [
    {
     "data": {
      "text/plain": [
       "torch.Size([43, 200, 3])"
      ]
     },
     "execution_count": 47,
     "metadata": {},
     "output_type": "execute_result"
    }
   ],
   "source": [
    "data.shape"
   ]
  },
  {
   "cell_type": "code",
   "execution_count": 48,
   "id": "d23b4391",
   "metadata": {},
   "outputs": [],
   "source": [
    "# a =a.reshape((40,200))\n",
    "# b = b.reshape((40,200, 2))\n",
    "# data = data.reshape((40,200,3))"
   ]
  },
  {
   "cell_type": "code",
   "execution_count": 49,
   "id": "a3cf4576",
   "metadata": {},
   "outputs": [],
   "source": [
    "# b.shape"
   ]
  },
  {
   "cell_type": "code",
   "execution_count": 50,
   "id": "31ac977a-bc82-4048-808a-eb926eea4a2c",
   "metadata": {},
   "outputs": [
    {
     "data": {
      "text/plain": [
       "(37, 200)"
      ]
     },
     "execution_count": 50,
     "metadata": {},
     "output_type": "execute_result"
    }
   ],
   "source": [
    "a.shape"
   ]
  },
  {
   "cell_type": "code",
   "execution_count": 51,
   "id": "7501059b",
   "metadata": {},
   "outputs": [],
   "source": [
    "import matplotlib.pyplot as plt"
   ]
  },
  {
   "cell_type": "code",
   "execution_count": 54,
   "id": "7244ff1b",
   "metadata": {},
   "outputs": [
    {
     "data": {
      "image/png": "[encoded data removed]",
      "text/plain": [
       "<Figure size 1280x960 with 1 Axes>"
      ]
     },
     "metadata": {},
     "output_type": "display_data"
    }
   ],
   "source": [
    "plt.figure(dpi=200)\n",
    "for key in keys:\n",
    "    a = results[keys[i]]\n",
    "    a = a.to(\"cpu\").numpy()\n",
    "    for i in range(a.shape[0]):\n",
    "        \n",
    "        plt.plot(a[i,:])"
   ]
  },
  {
   "cell_type": "code",
   "execution_count": null,
   "id": "75018a2b",
   "metadata": {},
   "outputs": [
    {
     "data": {
      "text/plain": [
       "<matplotlib.legend.Legend at 0x7247403e2cf0>"
      ]
     },
     "execution_count": 39,
     "metadata": {},
     "output_type": "execute_result"
    },
    {
     "data": {
      "image/png": "[encoded data removed]",
      "text/plain": [
       "<Figure size 640x480 with 1 Axes>"
      ]
     },
     "metadata": {},
     "output_type": "display_data"
    }
   ],
   "source": [
    "# plt.plot(a[2,:]/2, label = \"s\")\n",
    "plt.plot(b[2,:,1], label = \"alpha\")\n",
    "plt.plot(data[2,:,1]/1000, label = \"traj\")\n",
    "\n",
    "plt.legend()"
   ]
  },
  {
   "cell_type": "code",
   "execution_count": null,
   "id": "7caba9b9",
   "metadata": {},
   "outputs": [
    {
     "data": {
      "text/plain": [
       "array([[[0.17775464, 0.        ],\n",
       "        [0.17646942, 0.        ],\n",
       "        [0.17435838, 0.        ],\n",
       "        ...,\n",
       "        [0.08771407, 0.        ],\n",
       "        [0.08072676, 0.        ],\n",
       "        [0.08483478, 0.        ]],\n",
       "\n",
       "       [[0.19414604, 0.        ],\n",
       "        [0.19279702, 0.        ],\n",
       "        [0.1903362 , 0.        ],\n",
       "        ...,\n",
       "        [0.22664657, 0.        ],\n",
       "        [0.23403688, 0.        ],\n",
       "        [0.23231827, 0.        ]],\n",
       "\n",
       "       [[0.15592109, 0.        ],\n",
       "        [0.15571618, 0.        ],\n",
       "        [0.15802318, 0.        ],\n",
       "        ...,\n",
       "        [0.08649781, 0.        ],\n",
       "        [0.07796531, 0.        ],\n",
       "        [0.08302252, 0.        ]],\n",
       "\n",
       "       ...,\n",
       "\n",
       "       [[0.22853379, 0.        ],\n",
       "        [0.22723351, 0.        ],\n",
       "        [0.22347172, 0.        ],\n",
       "        ...,\n",
       "        [0.085337  , 0.        ],\n",
       "        [0.07579643, 0.        ],\n",
       "        [0.08135536, 0.        ]],\n",
       "\n",
       "       [[0.1973317 , 0.        ],\n",
       "        [0.19581464, 0.        ],\n",
       "        [0.19274832, 0.        ],\n",
       "        ...,\n",
       "        [0.23584212, 0.        ],\n",
       "        [0.24419934, 0.        ],\n",
       "        [0.24248536, 0.        ]],\n",
       "\n",
       "       [[0.15307046, 0.        ],\n",
       "        [0.15216582, 0.        ],\n",
       "        [0.15439479, 0.        ],\n",
       "        ...,\n",
       "        [0.09169195, 0.        ],\n",
       "        [0.09025533, 0.        ],\n",
       "        [0.09154385, 0.        ]]], dtype=float32)"
      ]
     },
     "execution_count": 40,
     "metadata": {},
     "output_type": "execute_result"
    }
   ],
   "source": [
    "b"
   ]
  },
  {
   "cell_type": "code",
   "execution_count": null,
   "id": "3a0d95d1",
   "metadata": {},
   "outputs": [
    {
     "data": {
      "text/plain": [
       "tensor([[[0.],\n",
       "         [0.],\n",
       "         [0.],\n",
       "         ...,\n",
       "         [0.],\n",
       "         [0.],\n",
       "         [0.]],\n",
       "\n",
       "        [[0.],\n",
       "         [0.],\n",
       "         [0.],\n",
       "         ...,\n",
       "         [0.],\n",
       "         [0.],\n",
       "         [0.]]], device='cuda:0', grad_fn=<ReluBackward0>)"
      ]
     },
     "execution_count": 35,
     "metadata": {},
     "output_type": "execute_result"
    }
   ],
   "source": [
    "model(data)"
   ]
  },
  {
   "cell_type": "code",
   "execution_count": null,
   "id": "79ed0a76",
   "metadata": {},
   "outputs": [],
   "source": [
    "import torch.nn as nn"
   ]
  },
  {
   "cell_type": "code",
   "execution_count": null,
   "id": "caa47f0c",
   "metadata": {},
   "outputs": [],
   "source": [
    "relu = nn.ReLU()"
   ]
  },
  {
   "cell_type": "code",
   "execution_count": null,
   "id": "2fd4589c",
   "metadata": {},
   "outputs": [],
   "source": [
    "test = torch.randn(10,10,2)"
   ]
  },
  {
   "cell_type": "code",
   "execution_count": null,
   "id": "4c12bd4c",
   "metadata": {},
   "outputs": [
    {
     "data": {
      "text/plain": [
       "tensor([[[1.2636, 0.2244],\n",
       "         [0.0000, 1.1753],\n",
       "         [1.8726, 0.8369],\n",
       "         [0.0000, 0.3174],\n",
       "         [0.0000, 0.0000],\n",
       "         [0.3831, 0.2239],\n",
       "         [0.0000, 0.0285],\n",
       "         [1.2042, 0.7172],\n",
       "         [0.0000, 0.9031],\n",
       "         [1.4999, 0.0000]],\n",
       "\n",
       "        [[0.6770, 0.0000],\n",
       "         [0.0000, 0.0000],\n",
       "         [1.7903, 0.0000],\n",
       "         [0.0000, 0.0000],\n",
       "         [0.0000, 0.7431],\n",
       "         [0.1999, 0.0000],\n",
       "         [0.5755, 1.1027],\n",
       "         [0.0366, 0.3679],\n",
       "         [1.5911, 1.9556],\n",
       "         [0.0000, 0.0000]],\n",
       "\n",
       "        [[1.2891, 0.5908],\n",
       "         [0.6584, 1.2545],\n",
       "         [0.4158, 0.0000],\n",
       "         [0.0000, 0.0000],\n",
       "         [0.4222, 0.8100],\n",
       "         [0.6134, 0.8446],\n",
       "         [0.0000, 0.0000],\n",
       "         [0.0000, 0.0000],\n",
       "         [0.1353, 0.0760],\n",
       "         [0.0000, 0.0000]],\n",
       "\n",
       "        [[0.6706, 1.5282],\n",
       "         [0.0000, 0.3768],\n",
       "         [0.3606, 0.0000],\n",
       "         [0.6023, 0.3436],\n",
       "         [0.0000, 0.7277],\n",
       "         [0.0000, 1.4987],\n",
       "         [0.0000, 0.1365],\n",
       "         [0.0000, 1.1763],\n",
       "         [0.6124, 0.0000],\n",
       "         [0.0000, 0.0000]],\n",
       "\n",
       "        [[0.0000, 0.0000],\n",
       "         [0.8530, 0.0000],\n",
       "         [0.0000, 0.0000],\n",
       "         [0.5373, 0.0000],\n",
       "         [0.2022, 1.8703],\n",
       "         [0.0000, 0.0000],\n",
       "         [0.3505, 0.7871],\n",
       "         [1.5896, 0.3599],\n",
       "         [0.0000, 0.0000],\n",
       "         [0.0000, 0.0000]],\n",
       "\n",
       "        [[0.0000, 1.0697],\n",
       "         [0.0000, 0.8269],\n",
       "         [0.0000, 0.0000],\n",
       "         [0.6727, 0.2898],\n",
       "         [1.1186, 0.0000],\n",
       "         [0.0000, 0.9143],\n",
       "         [0.0000, 0.0000],\n",
       "         [0.5266, 0.0000],\n",
       "         [0.0000, 0.0000],\n",
       "         [0.0000, 0.0266]],\n",
       "\n",
       "        [[1.2431, 0.9044],\n",
       "         [1.5275, 0.0000],\n",
       "         [1.1021, 0.0000],\n",
       "         [0.1177, 0.0000],\n",
       "         [0.0000, 0.0000],\n",
       "         [0.0000, 0.0000],\n",
       "         [0.0000, 0.0000],\n",
       "         [0.0000, 0.8084],\n",
       "         [0.1090, 0.0000],\n",
       "         [1.3788, 0.6027]],\n",
       "\n",
       "        [[0.0000, 0.0000],\n",
       "         [0.1415, 0.5972],\n",
       "         [0.1166, 0.0000],\n",
       "         [0.1031, 0.2675],\n",
       "         [0.0000, 0.0000],\n",
       "         [1.4752, 2.3586],\n",
       "         [0.0000, 0.0000],\n",
       "         [0.0000, 1.5294],\n",
       "         [1.6117, 0.5444],\n",
       "         [0.2500, 1.0387]],\n",
       "\n",
       "        [[0.5499, 0.7757],\n",
       "         [0.0000, 0.0000],\n",
       "         [0.1579, 0.0748],\n",
       "         [0.0000, 0.2012],\n",
       "         [0.0000, 0.2322],\n",
       "         [0.0000, 0.0000],\n",
       "         [1.5700, 0.0000],\n",
       "         [0.0000, 1.9753],\n",
       "         [0.0000, 0.0000],\n",
       "         [0.0000, 0.3160]],\n",
       "\n",
       "        [[0.0668, 0.0000],\n",
       "         [0.0434, 0.0000],\n",
       "         [0.1884, 0.6182],\n",
       "         [0.5115, 0.2862],\n",
       "         [0.0000, 1.6729],\n",
       "         [0.0000, 0.1004],\n",
       "         [0.7052, 0.0000],\n",
       "         [2.0943, 0.0627],\n",
       "         [0.1950, 0.0000],\n",
       "         [0.2444, 0.2077]]])"
      ]
     },
     "execution_count": 216,
     "metadata": {},
     "output_type": "execute_result"
    }
   ],
   "source": [
    "relu(test)"
   ]
  },
  {
   "cell_type": "code",
   "execution_count": null,
   "id": "07eef948",
   "metadata": {},
   "outputs": [],
   "source": []
  }
 ],
 "metadata": {
  "kernelspec": {
   "display_name": "Python 3 (ipykernel)",
   "language": "python",
   "name": "python3"
  },
  "language_info": {
   "codemirror_mode": {
    "name": "ipython",
    "version": 3
   },
   "file_extension": ".py",
   "mimetype": "text/x-python",
   "name": "python",
   "nbconvert_exporter": "python",
   "pygments_lexer": "ipython3",
   "version": "3.12.3"
  }
 },
 "nbformat": 4,
 "nbformat_minor": 5
}
