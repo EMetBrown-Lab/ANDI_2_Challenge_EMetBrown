{
 "cells": [
  {
   "cell_type": "code",
   "execution_count": 1,
   "id": "c218a625",
   "metadata": {},
   "outputs": [],
   "source": [
    "import sys\n",
    "sys.path.insert(0,'/media/brownianxgames/Aquisitions/test_IA/mamba_classification')\n",
    "sys.path.insert(0,'/media/brownianxgames/Aquisitions/test_IA/mamba_segmentation')"
   ]
  },
  {
   "cell_type": "code",
   "execution_count": 2,
   "id": "1961f3bd",
   "metadata": {},
   "outputs": [
    {
     "data": {
      "text/plain": [
       "list"
      ]
     },
     "execution_count": 2,
     "metadata": {},
     "output_type": "execute_result"
    }
   ],
   "source": [
    "list"
   ]
  },
  {
   "cell_type": "code",
   "execution_count": 3,
   "id": "d3a4c625-1262-40f8-8bf6-10af6a1f0509",
   "metadata": {},
   "outputs": [],
   "source": [
    "from train_fn import train\n",
    "from train_classification import train as train_classification\n",
    "from train_segmentation import train as train_segmentation\n",
    "\n",
    "import torch"
   ]
  },
  {
   "cell_type": "code",
   "execution_count": 4,
   "id": "1e29ef47-b60d-48c2-ac8a-8cfac322103c",
   "metadata": {},
   "outputs": [],
   "source": [
    "# result_regression, model_regression = train((4,0.1,1e-3,4))"
   ]
  },
  {
   "cell_type": "code",
   "execution_count": null,
   "id": "30d67fc4",
   "metadata": {},
   "outputs": [
    {
     "name": "stdout",
     "output_type": "stream",
     "text": [
      "importing gpu Mamba\n"
     ]
    },
    {
     "name": "stderr",
     "output_type": "stream",
     "text": [
      "Epoch 0: 100%|█| 200/200 [00:38<00:00,  5.21batch/s, loss=0.696, state0=6173, st\n",
      "Epoch 1: 100%|█| 200/200 [00:36<00:00,  5.43batch/s, loss=0.694, state0=7024, st\n",
      "Epoch 2:  61%|▌| 122/200 [00:22<00:14,  5.37batch/s, loss=0.693, state0=7254, st"
     ]
    }
   ],
   "source": [
    "result, model = train_segmentation((1,0.05,1e-2,32))"
   ]
  },
  {
   "cell_type": "code",
   "execution_count": 6,
   "id": "a0993376",
   "metadata": {},
   "outputs": [],
   "source": [
    "# torch.save(model, \"model_segmentation_2_0p1_1e-4_4_8kexps\")"
   ]
  },
  {
   "cell_type": "code",
   "execution_count": 7,
   "id": "2f8d388e",
   "metadata": {},
   "outputs": [
    {
     "data": {
      "text/plain": [
       "{'bi_mamba_stacks': 2,\n",
       " 'n_layers': 4,\n",
       " 'dropout': 0.1,\n",
       " 'learning_rate': 0.001,\n",
       " 'running_classification_total_loss': [1.1102259415388107,\n",
       "  0.8054013884067536,\n",
       "  0.733216917514801,\n",
       "  0.7097407311201096,\n",
       "  0.7030192735791206,\n",
       "  0.6986064550280571,\n",
       "  0.6964536800980567,\n",
       "  0.6953148320317268,\n",
       "  0.6945696589350701,\n",
       "  0.6940681719779969]}"
      ]
     },
     "execution_count": 7,
     "metadata": {},
     "output_type": "execute_result"
    }
   ],
   "source": [
    "result"
   ]
  },
  {
   "cell_type": "code",
   "execution_count": 8,
   "id": "2bc72aff",
   "metadata": {},
   "outputs": [
    {
     "data": {
      "text/plain": [
       "torch.Size([10, 4000, 1])"
      ]
     },
     "execution_count": 8,
     "metadata": {},
     "output_type": "execute_result"
    }
   ],
   "source": [
    "torch.randn(10,4000,1).size()"
   ]
  },
  {
   "cell_type": "code",
   "execution_count": 9,
   "id": "4800e925",
   "metadata": {},
   "outputs": [
    {
     "data": {
      "text/plain": [
       "EmetMamba(config=EmetConfig(d_model=3, n_layers=16, dt_rank=1, d_state=16, expand_factor=2, d_conv=4, dt_min=0.001, dt_max=0.1, dt_init='random', dt_scale=1.0, rms_norm_eps=1e-05, bias=False, conv_bias=True, inner_layernorms=False, pscan=True, use_cuda=True, bi_mamba_stacks=4, conv_stack=8, dropout=0.1))"
      ]
     },
     "execution_count": 9,
     "metadata": {},
     "output_type": "execute_result"
    }
   ],
   "source": [
    "model\n",
    "model.eval()"
   ]
  },
  {
   "cell_type": "code",
   "execution_count": 10,
   "id": "a9142e9a",
   "metadata": {},
   "outputs": [],
   "source": [
    "from train_fn import list_directory_tree_with_pathlib"
   ]
  },
  {
   "cell_type": "code",
   "execution_count": 11,
   "id": "fa4dae3d",
   "metadata": {},
   "outputs": [],
   "source": [
    "data_path = \"/media/brownianxgames/Aquisitions/test_IA/public_data_validation_v1/track_2/\"\n",
    "\n",
    "directory_files = list_directory_tree_with_pathlib(data_path)"
   ]
  },
  {
   "cell_type": "code",
   "execution_count": 12,
   "id": "43c0a4ef",
   "metadata": {},
   "outputs": [
    {
     "data": {
      "text/plain": [
       "[PosixPath('/media/brownianxgames/Aquisitions/test_IA/public_data_validation_v1/track_2/exp_11/trajs_fov_10.csv'),\n",
       " PosixPath('/media/brownianxgames/Aquisitions/test_IA/public_data_validation_v1/track_2/exp_11/trajs_fov_16.csv'),\n",
       " PosixPath('/media/brownianxgames/Aquisitions/test_IA/public_data_validation_v1/track_2/exp_11/trajs_fov_0.csv'),\n",
       " PosixPath('/media/brownianxgames/Aquisitions/test_IA/public_data_validation_v1/track_2/exp_11/trajs_fov_5.csv'),\n",
       " PosixPath('/media/brownianxgames/Aquisitions/test_IA/public_data_validation_v1/track_2/exp_11/trajs_fov_9.csv'),\n",
       " PosixPath('/media/brownianxgames/Aquisitions/test_IA/public_data_validation_v1/track_2/exp_11/trajs_fov_8.csv'),\n",
       " PosixPath('/media/brownianxgames/Aquisitions/test_IA/public_data_validation_v1/track_2/exp_11/trajs_fov_24.csv'),\n",
       " PosixPath('/media/brownianxgames/Aquisitions/test_IA/public_data_validation_v1/track_2/exp_11/trajs_fov_12.csv'),\n",
       " PosixPath('/media/brownianxgames/Aquisitions/test_IA/public_data_validation_v1/track_2/exp_11/trajs_fov_2.csv'),\n",
       " PosixPath('/media/brownianxgames/Aquisitions/test_IA/public_data_validation_v1/track_2/exp_11/trajs_fov_25.csv'),\n",
       " PosixPath('/media/brownianxgames/Aquisitions/test_IA/public_data_validation_v1/track_2/exp_11/trajs_fov_18.csv'),\n",
       " PosixPath('/media/brownianxgames/Aquisitions/test_IA/public_data_validation_v1/track_2/exp_11/trajs_fov_21.csv'),\n",
       " PosixPath('/media/brownianxgames/Aquisitions/test_IA/public_data_validation_v1/track_2/exp_11/trajs_fov_1.csv'),\n",
       " PosixPath('/media/brownianxgames/Aquisitions/test_IA/public_data_validation_v1/track_2/exp_11/trajs_fov_19.csv'),\n",
       " PosixPath('/media/brownianxgames/Aquisitions/test_IA/public_data_validation_v1/track_2/exp_11/trajs_fov_6.csv'),\n",
       " PosixPath('/media/brownianxgames/Aquisitions/test_IA/public_data_validation_v1/track_2/exp_11/trajs_fov_4.csv'),\n",
       " PosixPath('/media/brownianxgames/Aquisitions/test_IA/public_data_validation_v1/track_2/exp_11/trajs_fov_3.csv'),\n",
       " PosixPath('/media/brownianxgames/Aquisitions/test_IA/public_data_validation_v1/track_2/exp_11/trajs_fov_15.csv'),\n",
       " PosixPath('/media/brownianxgames/Aquisitions/test_IA/public_data_validation_v1/track_2/exp_11/trajs_fov_14.csv'),\n",
       " PosixPath('/media/brownianxgames/Aquisitions/test_IA/public_data_validation_v1/track_2/exp_11/trajs_fov_20.csv'),\n",
       " PosixPath('/media/brownianxgames/Aquisitions/test_IA/public_data_validation_v1/track_2/exp_11/trajs_fov_23.csv'),\n",
       " PosixPath('/media/brownianxgames/Aquisitions/test_IA/public_data_validation_v1/track_2/exp_11/trajs_fov_13.csv'),\n",
       " PosixPath('/media/brownianxgames/Aquisitions/test_IA/public_data_validation_v1/track_2/exp_11/trajs_fov_29.csv'),\n",
       " PosixPath('/media/brownianxgames/Aquisitions/test_IA/public_data_validation_v1/track_2/exp_11/trajs_fov_22.csv'),\n",
       " PosixPath('/media/brownianxgames/Aquisitions/test_IA/public_data_validation_v1/track_2/exp_11/trajs_fov_11.csv'),\n",
       " PosixPath('/media/brownianxgames/Aquisitions/test_IA/public_data_validation_v1/track_2/exp_11/trajs_fov_28.csv'),\n",
       " PosixPath('/media/brownianxgames/Aquisitions/test_IA/public_data_validation_v1/track_2/exp_11/trajs_fov_17.csv'),\n",
       " PosixPath('/media/brownianxgames/Aquisitions/test_IA/public_data_validation_v1/track_2/exp_11/trajs_fov_7.csv'),\n",
       " PosixPath('/media/brownianxgames/Aquisitions/test_IA/public_data_validation_v1/track_2/exp_11/trajs_fov_26.csv'),\n",
       " PosixPath('/media/brownianxgames/Aquisitions/test_IA/public_data_validation_v1/track_2/exp_11/trajs_fov_27.csv'),\n",
       " PosixPath('/media/brownianxgames/Aquisitions/test_IA/public_data_validation_v1/track_2/exp_1/trajs_fov_10.csv'),\n",
       " PosixPath('/media/brownianxgames/Aquisitions/test_IA/public_data_validation_v1/track_2/exp_1/trajs_fov_16.csv'),\n",
       " PosixPath('/media/brownianxgames/Aquisitions/test_IA/public_data_validation_v1/track_2/exp_1/trajs_fov_0.csv'),\n",
       " PosixPath('/media/brownianxgames/Aquisitions/test_IA/public_data_validation_v1/track_2/exp_1/trajs_fov_5.csv'),\n",
       " PosixPath('/media/brownianxgames/Aquisitions/test_IA/public_data_validation_v1/track_2/exp_1/trajs_fov_9.csv'),\n",
       " PosixPath('/media/brownianxgames/Aquisitions/test_IA/public_data_validation_v1/track_2/exp_1/trajs_fov_8.csv'),\n",
       " PosixPath('/media/brownianxgames/Aquisitions/test_IA/public_data_validation_v1/track_2/exp_1/trajs_fov_24.csv'),\n",
       " PosixPath('/media/brownianxgames/Aquisitions/test_IA/public_data_validation_v1/track_2/exp_1/trajs_fov_12.csv'),\n",
       " PosixPath('/media/brownianxgames/Aquisitions/test_IA/public_data_validation_v1/track_2/exp_1/trajs_fov_2.csv'),\n",
       " PosixPath('/media/brownianxgames/Aquisitions/test_IA/public_data_validation_v1/track_2/exp_1/trajs_fov_25.csv'),\n",
       " PosixPath('/media/brownianxgames/Aquisitions/test_IA/public_data_validation_v1/track_2/exp_1/trajs_fov_18.csv'),\n",
       " PosixPath('/media/brownianxgames/Aquisitions/test_IA/public_data_validation_v1/track_2/exp_1/trajs_fov_21.csv'),\n",
       " PosixPath('/media/brownianxgames/Aquisitions/test_IA/public_data_validation_v1/track_2/exp_1/trajs_fov_1.csv'),\n",
       " PosixPath('/media/brownianxgames/Aquisitions/test_IA/public_data_validation_v1/track_2/exp_1/trajs_fov_19.csv'),\n",
       " PosixPath('/media/brownianxgames/Aquisitions/test_IA/public_data_validation_v1/track_2/exp_1/trajs_fov_6.csv'),\n",
       " PosixPath('/media/brownianxgames/Aquisitions/test_IA/public_data_validation_v1/track_2/exp_1/trajs_fov_4.csv'),\n",
       " PosixPath('/media/brownianxgames/Aquisitions/test_IA/public_data_validation_v1/track_2/exp_1/trajs_fov_3.csv'),\n",
       " PosixPath('/media/brownianxgames/Aquisitions/test_IA/public_data_validation_v1/track_2/exp_1/trajs_fov_15.csv'),\n",
       " PosixPath('/media/brownianxgames/Aquisitions/test_IA/public_data_validation_v1/track_2/exp_1/trajs_fov_14.csv'),\n",
       " PosixPath('/media/brownianxgames/Aquisitions/test_IA/public_data_validation_v1/track_2/exp_1/trajs_fov_20.csv'),\n",
       " PosixPath('/media/brownianxgames/Aquisitions/test_IA/public_data_validation_v1/track_2/exp_1/trajs_fov_23.csv'),\n",
       " PosixPath('/media/brownianxgames/Aquisitions/test_IA/public_data_validation_v1/track_2/exp_1/trajs_fov_13.csv'),\n",
       " PosixPath('/media/brownianxgames/Aquisitions/test_IA/public_data_validation_v1/track_2/exp_1/trajs_fov_29.csv'),\n",
       " PosixPath('/media/brownianxgames/Aquisitions/test_IA/public_data_validation_v1/track_2/exp_1/trajs_fov_22.csv'),\n",
       " PosixPath('/media/brownianxgames/Aquisitions/test_IA/public_data_validation_v1/track_2/exp_1/trajs_fov_11.csv'),\n",
       " PosixPath('/media/brownianxgames/Aquisitions/test_IA/public_data_validation_v1/track_2/exp_1/trajs_fov_28.csv'),\n",
       " PosixPath('/media/brownianxgames/Aquisitions/test_IA/public_data_validation_v1/track_2/exp_1/trajs_fov_17.csv'),\n",
       " PosixPath('/media/brownianxgames/Aquisitions/test_IA/public_data_validation_v1/track_2/exp_1/trajs_fov_7.csv'),\n",
       " PosixPath('/media/brownianxgames/Aquisitions/test_IA/public_data_validation_v1/track_2/exp_1/trajs_fov_26.csv'),\n",
       " PosixPath('/media/brownianxgames/Aquisitions/test_IA/public_data_validation_v1/track_2/exp_1/trajs_fov_27.csv'),\n",
       " PosixPath('/media/brownianxgames/Aquisitions/test_IA/public_data_validation_v1/track_2/exp_3/trajs_fov_10.csv'),\n",
       " PosixPath('/media/brownianxgames/Aquisitions/test_IA/public_data_validation_v1/track_2/exp_3/trajs_fov_16.csv'),\n",
       " PosixPath('/media/brownianxgames/Aquisitions/test_IA/public_data_validation_v1/track_2/exp_3/trajs_fov_0.csv'),\n",
       " PosixPath('/media/brownianxgames/Aquisitions/test_IA/public_data_validation_v1/track_2/exp_3/trajs_fov_5.csv'),\n",
       " PosixPath('/media/brownianxgames/Aquisitions/test_IA/public_data_validation_v1/track_2/exp_3/trajs_fov_9.csv'),\n",
       " PosixPath('/media/brownianxgames/Aquisitions/test_IA/public_data_validation_v1/track_2/exp_3/trajs_fov_8.csv'),\n",
       " PosixPath('/media/brownianxgames/Aquisitions/test_IA/public_data_validation_v1/track_2/exp_3/trajs_fov_24.csv'),\n",
       " PosixPath('/media/brownianxgames/Aquisitions/test_IA/public_data_validation_v1/track_2/exp_3/trajs_fov_12.csv'),\n",
       " PosixPath('/media/brownianxgames/Aquisitions/test_IA/public_data_validation_v1/track_2/exp_3/trajs_fov_2.csv'),\n",
       " PosixPath('/media/brownianxgames/Aquisitions/test_IA/public_data_validation_v1/track_2/exp_3/trajs_fov_25.csv'),\n",
       " PosixPath('/media/brownianxgames/Aquisitions/test_IA/public_data_validation_v1/track_2/exp_3/trajs_fov_18.csv'),\n",
       " PosixPath('/media/brownianxgames/Aquisitions/test_IA/public_data_validation_v1/track_2/exp_3/trajs_fov_21.csv'),\n",
       " PosixPath('/media/brownianxgames/Aquisitions/test_IA/public_data_validation_v1/track_2/exp_3/trajs_fov_1.csv'),\n",
       " PosixPath('/media/brownianxgames/Aquisitions/test_IA/public_data_validation_v1/track_2/exp_3/trajs_fov_19.csv'),\n",
       " PosixPath('/media/brownianxgames/Aquisitions/test_IA/public_data_validation_v1/track_2/exp_3/trajs_fov_6.csv'),\n",
       " PosixPath('/media/brownianxgames/Aquisitions/test_IA/public_data_validation_v1/track_2/exp_3/trajs_fov_4.csv'),\n",
       " PosixPath('/media/brownianxgames/Aquisitions/test_IA/public_data_validation_v1/track_2/exp_3/trajs_fov_3.csv'),\n",
       " PosixPath('/media/brownianxgames/Aquisitions/test_IA/public_data_validation_v1/track_2/exp_3/trajs_fov_15.csv'),\n",
       " PosixPath('/media/brownianxgames/Aquisitions/test_IA/public_data_validation_v1/track_2/exp_3/trajs_fov_14.csv'),\n",
       " PosixPath('/media/brownianxgames/Aquisitions/test_IA/public_data_validation_v1/track_2/exp_3/trajs_fov_20.csv'),\n",
       " PosixPath('/media/brownianxgames/Aquisitions/test_IA/public_data_validation_v1/track_2/exp_3/trajs_fov_23.csv'),\n",
       " PosixPath('/media/brownianxgames/Aquisitions/test_IA/public_data_validation_v1/track_2/exp_3/trajs_fov_13.csv'),\n",
       " PosixPath('/media/brownianxgames/Aquisitions/test_IA/public_data_validation_v1/track_2/exp_3/trajs_fov_29.csv'),\n",
       " PosixPath('/media/brownianxgames/Aquisitions/test_IA/public_data_validation_v1/track_2/exp_3/trajs_fov_22.csv'),\n",
       " PosixPath('/media/brownianxgames/Aquisitions/test_IA/public_data_validation_v1/track_2/exp_3/trajs_fov_11.csv'),\n",
       " PosixPath('/media/brownianxgames/Aquisitions/test_IA/public_data_validation_v1/track_2/exp_3/trajs_fov_28.csv'),\n",
       " PosixPath('/media/brownianxgames/Aquisitions/test_IA/public_data_validation_v1/track_2/exp_3/trajs_fov_17.csv'),\n",
       " PosixPath('/media/brownianxgames/Aquisitions/test_IA/public_data_validation_v1/track_2/exp_3/trajs_fov_7.csv'),\n",
       " PosixPath('/media/brownianxgames/Aquisitions/test_IA/public_data_validation_v1/track_2/exp_3/trajs_fov_26.csv'),\n",
       " PosixPath('/media/brownianxgames/Aquisitions/test_IA/public_data_validation_v1/track_2/exp_3/trajs_fov_27.csv'),\n",
       " PosixPath('/media/brownianxgames/Aquisitions/test_IA/public_data_validation_v1/track_2/exp_6/trajs_fov_10.csv'),\n",
       " PosixPath('/media/brownianxgames/Aquisitions/test_IA/public_data_validation_v1/track_2/exp_6/trajs_fov_16.csv'),\n",
       " PosixPath('/media/brownianxgames/Aquisitions/test_IA/public_data_validation_v1/track_2/exp_6/trajs_fov_0.csv'),\n",
       " PosixPath('/media/brownianxgames/Aquisitions/test_IA/public_data_validation_v1/track_2/exp_6/trajs_fov_5.csv'),\n",
       " PosixPath('/media/brownianxgames/Aquisitions/test_IA/public_data_validation_v1/track_2/exp_6/trajs_fov_9.csv'),\n",
       " PosixPath('/media/brownianxgames/Aquisitions/test_IA/public_data_validation_v1/track_2/exp_6/trajs_fov_8.csv'),\n",
       " PosixPath('/media/brownianxgames/Aquisitions/test_IA/public_data_validation_v1/track_2/exp_6/trajs_fov_24.csv'),\n",
       " PosixPath('/media/brownianxgames/Aquisitions/test_IA/public_data_validation_v1/track_2/exp_6/trajs_fov_12.csv'),\n",
       " PosixPath('/media/brownianxgames/Aquisitions/test_IA/public_data_validation_v1/track_2/exp_6/trajs_fov_2.csv'),\n",
       " PosixPath('/media/brownianxgames/Aquisitions/test_IA/public_data_validation_v1/track_2/exp_6/trajs_fov_25.csv'),\n",
       " PosixPath('/media/brownianxgames/Aquisitions/test_IA/public_data_validation_v1/track_2/exp_6/trajs_fov_18.csv'),\n",
       " PosixPath('/media/brownianxgames/Aquisitions/test_IA/public_data_validation_v1/track_2/exp_6/trajs_fov_21.csv'),\n",
       " PosixPath('/media/brownianxgames/Aquisitions/test_IA/public_data_validation_v1/track_2/exp_6/trajs_fov_1.csv'),\n",
       " PosixPath('/media/brownianxgames/Aquisitions/test_IA/public_data_validation_v1/track_2/exp_6/trajs_fov_19.csv'),\n",
       " PosixPath('/media/brownianxgames/Aquisitions/test_IA/public_data_validation_v1/track_2/exp_6/trajs_fov_6.csv'),\n",
       " PosixPath('/media/brownianxgames/Aquisitions/test_IA/public_data_validation_v1/track_2/exp_6/trajs_fov_4.csv'),\n",
       " PosixPath('/media/brownianxgames/Aquisitions/test_IA/public_data_validation_v1/track_2/exp_6/trajs_fov_3.csv'),\n",
       " PosixPath('/media/brownianxgames/Aquisitions/test_IA/public_data_validation_v1/track_2/exp_6/trajs_fov_15.csv'),\n",
       " PosixPath('/media/brownianxgames/Aquisitions/test_IA/public_data_validation_v1/track_2/exp_6/trajs_fov_14.csv'),\n",
       " PosixPath('/media/brownianxgames/Aquisitions/test_IA/public_data_validation_v1/track_2/exp_6/trajs_fov_20.csv'),\n",
       " PosixPath('/media/brownianxgames/Aquisitions/test_IA/public_data_validation_v1/track_2/exp_6/trajs_fov_23.csv'),\n",
       " PosixPath('/media/brownianxgames/Aquisitions/test_IA/public_data_validation_v1/track_2/exp_6/trajs_fov_13.csv'),\n",
       " PosixPath('/media/brownianxgames/Aquisitions/test_IA/public_data_validation_v1/track_2/exp_6/trajs_fov_29.csv'),\n",
       " PosixPath('/media/brownianxgames/Aquisitions/test_IA/public_data_validation_v1/track_2/exp_6/trajs_fov_22.csv'),\n",
       " PosixPath('/media/brownianxgames/Aquisitions/test_IA/public_data_validation_v1/track_2/exp_6/trajs_fov_11.csv'),\n",
       " PosixPath('/media/brownianxgames/Aquisitions/test_IA/public_data_validation_v1/track_2/exp_6/trajs_fov_28.csv'),\n",
       " PosixPath('/media/brownianxgames/Aquisitions/test_IA/public_data_validation_v1/track_2/exp_6/trajs_fov_17.csv'),\n",
       " PosixPath('/media/brownianxgames/Aquisitions/test_IA/public_data_validation_v1/track_2/exp_6/trajs_fov_7.csv'),\n",
       " PosixPath('/media/brownianxgames/Aquisitions/test_IA/public_data_validation_v1/track_2/exp_6/trajs_fov_26.csv'),\n",
       " PosixPath('/media/brownianxgames/Aquisitions/test_IA/public_data_validation_v1/track_2/exp_6/trajs_fov_27.csv'),\n",
       " PosixPath('/media/brownianxgames/Aquisitions/test_IA/public_data_validation_v1/track_2/exp_5/trajs_fov_10.csv'),\n",
       " PosixPath('/media/brownianxgames/Aquisitions/test_IA/public_data_validation_v1/track_2/exp_5/trajs_fov_16.csv'),\n",
       " PosixPath('/media/brownianxgames/Aquisitions/test_IA/public_data_validation_v1/track_2/exp_5/trajs_fov_0.csv'),\n",
       " PosixPath('/media/brownianxgames/Aquisitions/test_IA/public_data_validation_v1/track_2/exp_5/trajs_fov_5.csv'),\n",
       " PosixPath('/media/brownianxgames/Aquisitions/test_IA/public_data_validation_v1/track_2/exp_5/trajs_fov_9.csv'),\n",
       " PosixPath('/media/brownianxgames/Aquisitions/test_IA/public_data_validation_v1/track_2/exp_5/trajs_fov_8.csv'),\n",
       " PosixPath('/media/brownianxgames/Aquisitions/test_IA/public_data_validation_v1/track_2/exp_5/trajs_fov_24.csv'),\n",
       " PosixPath('/media/brownianxgames/Aquisitions/test_IA/public_data_validation_v1/track_2/exp_5/trajs_fov_12.csv'),\n",
       " PosixPath('/media/brownianxgames/Aquisitions/test_IA/public_data_validation_v1/track_2/exp_5/trajs_fov_2.csv'),\n",
       " PosixPath('/media/brownianxgames/Aquisitions/test_IA/public_data_validation_v1/track_2/exp_5/trajs_fov_25.csv'),\n",
       " PosixPath('/media/brownianxgames/Aquisitions/test_IA/public_data_validation_v1/track_2/exp_5/trajs_fov_18.csv'),\n",
       " PosixPath('/media/brownianxgames/Aquisitions/test_IA/public_data_validation_v1/track_2/exp_5/trajs_fov_21.csv'),\n",
       " PosixPath('/media/brownianxgames/Aquisitions/test_IA/public_data_validation_v1/track_2/exp_5/trajs_fov_1.csv'),\n",
       " PosixPath('/media/brownianxgames/Aquisitions/test_IA/public_data_validation_v1/track_2/exp_5/trajs_fov_19.csv'),\n",
       " PosixPath('/media/brownianxgames/Aquisitions/test_IA/public_data_validation_v1/track_2/exp_5/trajs_fov_6.csv'),\n",
       " PosixPath('/media/brownianxgames/Aquisitions/test_IA/public_data_validation_v1/track_2/exp_5/trajs_fov_4.csv'),\n",
       " PosixPath('/media/brownianxgames/Aquisitions/test_IA/public_data_validation_v1/track_2/exp_5/trajs_fov_3.csv'),\n",
       " PosixPath('/media/brownianxgames/Aquisitions/test_IA/public_data_validation_v1/track_2/exp_5/trajs_fov_15.csv'),\n",
       " PosixPath('/media/brownianxgames/Aquisitions/test_IA/public_data_validation_v1/track_2/exp_5/trajs_fov_14.csv'),\n",
       " PosixPath('/media/brownianxgames/Aquisitions/test_IA/public_data_validation_v1/track_2/exp_5/trajs_fov_20.csv'),\n",
       " PosixPath('/media/brownianxgames/Aquisitions/test_IA/public_data_validation_v1/track_2/exp_5/trajs_fov_23.csv'),\n",
       " PosixPath('/media/brownianxgames/Aquisitions/test_IA/public_data_validation_v1/track_2/exp_5/trajs_fov_13.csv'),\n",
       " PosixPath('/media/brownianxgames/Aquisitions/test_IA/public_data_validation_v1/track_2/exp_5/trajs_fov_29.csv'),\n",
       " PosixPath('/media/brownianxgames/Aquisitions/test_IA/public_data_validation_v1/track_2/exp_5/trajs_fov_22.csv'),\n",
       " PosixPath('/media/brownianxgames/Aquisitions/test_IA/public_data_validation_v1/track_2/exp_5/trajs_fov_11.csv'),\n",
       " PosixPath('/media/brownianxgames/Aquisitions/test_IA/public_data_validation_v1/track_2/exp_5/trajs_fov_28.csv'),\n",
       " PosixPath('/media/brownianxgames/Aquisitions/test_IA/public_data_validation_v1/track_2/exp_5/trajs_fov_17.csv'),\n",
       " PosixPath('/media/brownianxgames/Aquisitions/test_IA/public_data_validation_v1/track_2/exp_5/trajs_fov_7.csv'),\n",
       " PosixPath('/media/brownianxgames/Aquisitions/test_IA/public_data_validation_v1/track_2/exp_5/trajs_fov_26.csv'),\n",
       " PosixPath('/media/brownianxgames/Aquisitions/test_IA/public_data_validation_v1/track_2/exp_5/trajs_fov_27.csv'),\n",
       " PosixPath('/media/brownianxgames/Aquisitions/test_IA/public_data_validation_v1/track_2/exp_12/trajs_fov_10.csv'),\n",
       " PosixPath('/media/brownianxgames/Aquisitions/test_IA/public_data_validation_v1/track_2/exp_12/trajs_fov_16.csv'),\n",
       " PosixPath('/media/brownianxgames/Aquisitions/test_IA/public_data_validation_v1/track_2/exp_12/trajs_fov_0.csv'),\n",
       " PosixPath('/media/brownianxgames/Aquisitions/test_IA/public_data_validation_v1/track_2/exp_12/trajs_fov_5.csv'),\n",
       " PosixPath('/media/brownianxgames/Aquisitions/test_IA/public_data_validation_v1/track_2/exp_12/trajs_fov_9.csv'),\n",
       " PosixPath('/media/brownianxgames/Aquisitions/test_IA/public_data_validation_v1/track_2/exp_12/trajs_fov_8.csv'),\n",
       " PosixPath('/media/brownianxgames/Aquisitions/test_IA/public_data_validation_v1/track_2/exp_12/trajs_fov_24.csv'),\n",
       " PosixPath('/media/brownianxgames/Aquisitions/test_IA/public_data_validation_v1/track_2/exp_12/trajs_fov_12.csv'),\n",
       " PosixPath('/media/brownianxgames/Aquisitions/test_IA/public_data_validation_v1/track_2/exp_12/trajs_fov_2.csv'),\n",
       " PosixPath('/media/brownianxgames/Aquisitions/test_IA/public_data_validation_v1/track_2/exp_12/trajs_fov_25.csv'),\n",
       " PosixPath('/media/brownianxgames/Aquisitions/test_IA/public_data_validation_v1/track_2/exp_12/trajs_fov_18.csv'),\n",
       " PosixPath('/media/brownianxgames/Aquisitions/test_IA/public_data_validation_v1/track_2/exp_12/trajs_fov_21.csv'),\n",
       " PosixPath('/media/brownianxgames/Aquisitions/test_IA/public_data_validation_v1/track_2/exp_12/trajs_fov_1.csv'),\n",
       " PosixPath('/media/brownianxgames/Aquisitions/test_IA/public_data_validation_v1/track_2/exp_12/trajs_fov_19.csv'),\n",
       " PosixPath('/media/brownianxgames/Aquisitions/test_IA/public_data_validation_v1/track_2/exp_12/trajs_fov_6.csv'),\n",
       " PosixPath('/media/brownianxgames/Aquisitions/test_IA/public_data_validation_v1/track_2/exp_12/trajs_fov_4.csv'),\n",
       " PosixPath('/media/brownianxgames/Aquisitions/test_IA/public_data_validation_v1/track_2/exp_12/trajs_fov_3.csv'),\n",
       " PosixPath('/media/brownianxgames/Aquisitions/test_IA/public_data_validation_v1/track_2/exp_12/trajs_fov_15.csv'),\n",
       " PosixPath('/media/brownianxgames/Aquisitions/test_IA/public_data_validation_v1/track_2/exp_12/trajs_fov_14.csv'),\n",
       " PosixPath('/media/brownianxgames/Aquisitions/test_IA/public_data_validation_v1/track_2/exp_12/trajs_fov_20.csv'),\n",
       " PosixPath('/media/brownianxgames/Aquisitions/test_IA/public_data_validation_v1/track_2/exp_12/trajs_fov_23.csv'),\n",
       " PosixPath('/media/brownianxgames/Aquisitions/test_IA/public_data_validation_v1/track_2/exp_12/trajs_fov_13.csv'),\n",
       " PosixPath('/media/brownianxgames/Aquisitions/test_IA/public_data_validation_v1/track_2/exp_12/trajs_fov_29.csv'),\n",
       " PosixPath('/media/brownianxgames/Aquisitions/test_IA/public_data_validation_v1/track_2/exp_12/trajs_fov_22.csv'),\n",
       " PosixPath('/media/brownianxgames/Aquisitions/test_IA/public_data_validation_v1/track_2/exp_12/trajs_fov_11.csv'),\n",
       " PosixPath('/media/brownianxgames/Aquisitions/test_IA/public_data_validation_v1/track_2/exp_12/trajs_fov_28.csv'),\n",
       " PosixPath('/media/brownianxgames/Aquisitions/test_IA/public_data_validation_v1/track_2/exp_12/trajs_fov_17.csv'),\n",
       " PosixPath('/media/brownianxgames/Aquisitions/test_IA/public_data_validation_v1/track_2/exp_12/trajs_fov_7.csv'),\n",
       " PosixPath('/media/brownianxgames/Aquisitions/test_IA/public_data_validation_v1/track_2/exp_12/trajs_fov_26.csv'),\n",
       " PosixPath('/media/brownianxgames/Aquisitions/test_IA/public_data_validation_v1/track_2/exp_12/trajs_fov_27.csv'),\n",
       " PosixPath('/media/brownianxgames/Aquisitions/test_IA/public_data_validation_v1/track_2/exp_8/trajs_fov_10.csv'),\n",
       " PosixPath('/media/brownianxgames/Aquisitions/test_IA/public_data_validation_v1/track_2/exp_8/trajs_fov_16.csv'),\n",
       " PosixPath('/media/brownianxgames/Aquisitions/test_IA/public_data_validation_v1/track_2/exp_8/trajs_fov_0.csv'),\n",
       " PosixPath('/media/brownianxgames/Aquisitions/test_IA/public_data_validation_v1/track_2/exp_8/trajs_fov_5.csv'),\n",
       " PosixPath('/media/brownianxgames/Aquisitions/test_IA/public_data_validation_v1/track_2/exp_8/trajs_fov_9.csv'),\n",
       " PosixPath('/media/brownianxgames/Aquisitions/test_IA/public_data_validation_v1/track_2/exp_8/trajs_fov_8.csv'),\n",
       " PosixPath('/media/brownianxgames/Aquisitions/test_IA/public_data_validation_v1/track_2/exp_8/trajs_fov_24.csv'),\n",
       " PosixPath('/media/brownianxgames/Aquisitions/test_IA/public_data_validation_v1/track_2/exp_8/trajs_fov_12.csv'),\n",
       " PosixPath('/media/brownianxgames/Aquisitions/test_IA/public_data_validation_v1/track_2/exp_8/trajs_fov_2.csv'),\n",
       " PosixPath('/media/brownianxgames/Aquisitions/test_IA/public_data_validation_v1/track_2/exp_8/trajs_fov_25.csv'),\n",
       " PosixPath('/media/brownianxgames/Aquisitions/test_IA/public_data_validation_v1/track_2/exp_8/trajs_fov_18.csv'),\n",
       " PosixPath('/media/brownianxgames/Aquisitions/test_IA/public_data_validation_v1/track_2/exp_8/trajs_fov_21.csv'),\n",
       " PosixPath('/media/brownianxgames/Aquisitions/test_IA/public_data_validation_v1/track_2/exp_8/trajs_fov_1.csv'),\n",
       " PosixPath('/media/brownianxgames/Aquisitions/test_IA/public_data_validation_v1/track_2/exp_8/trajs_fov_19.csv'),\n",
       " PosixPath('/media/brownianxgames/Aquisitions/test_IA/public_data_validation_v1/track_2/exp_8/trajs_fov_6.csv'),\n",
       " PosixPath('/media/brownianxgames/Aquisitions/test_IA/public_data_validation_v1/track_2/exp_8/trajs_fov_4.csv'),\n",
       " PosixPath('/media/brownianxgames/Aquisitions/test_IA/public_data_validation_v1/track_2/exp_8/trajs_fov_3.csv'),\n",
       " PosixPath('/media/brownianxgames/Aquisitions/test_IA/public_data_validation_v1/track_2/exp_8/trajs_fov_15.csv'),\n",
       " PosixPath('/media/brownianxgames/Aquisitions/test_IA/public_data_validation_v1/track_2/exp_8/trajs_fov_14.csv'),\n",
       " PosixPath('/media/brownianxgames/Aquisitions/test_IA/public_data_validation_v1/track_2/exp_8/trajs_fov_20.csv'),\n",
       " PosixPath('/media/brownianxgames/Aquisitions/test_IA/public_data_validation_v1/track_2/exp_8/trajs_fov_23.csv'),\n",
       " PosixPath('/media/brownianxgames/Aquisitions/test_IA/public_data_validation_v1/track_2/exp_8/trajs_fov_13.csv'),\n",
       " PosixPath('/media/brownianxgames/Aquisitions/test_IA/public_data_validation_v1/track_2/exp_8/trajs_fov_29.csv'),\n",
       " PosixPath('/media/brownianxgames/Aquisitions/test_IA/public_data_validation_v1/track_2/exp_8/trajs_fov_22.csv'),\n",
       " PosixPath('/media/brownianxgames/Aquisitions/test_IA/public_data_validation_v1/track_2/exp_8/trajs_fov_11.csv'),\n",
       " PosixPath('/media/brownianxgames/Aquisitions/test_IA/public_data_validation_v1/track_2/exp_8/trajs_fov_28.csv'),\n",
       " PosixPath('/media/brownianxgames/Aquisitions/test_IA/public_data_validation_v1/track_2/exp_8/trajs_fov_17.csv'),\n",
       " PosixPath('/media/brownianxgames/Aquisitions/test_IA/public_data_validation_v1/track_2/exp_8/trajs_fov_7.csv'),\n",
       " PosixPath('/media/brownianxgames/Aquisitions/test_IA/public_data_validation_v1/track_2/exp_8/trajs_fov_26.csv'),\n",
       " PosixPath('/media/brownianxgames/Aquisitions/test_IA/public_data_validation_v1/track_2/exp_8/trajs_fov_27.csv'),\n",
       " PosixPath('/media/brownianxgames/Aquisitions/test_IA/public_data_validation_v1/track_2/exp_9/trajs_fov_10.csv'),\n",
       " PosixPath('/media/brownianxgames/Aquisitions/test_IA/public_data_validation_v1/track_2/exp_9/trajs_fov_16.csv'),\n",
       " PosixPath('/media/brownianxgames/Aquisitions/test_IA/public_data_validation_v1/track_2/exp_9/trajs_fov_0.csv'),\n",
       " PosixPath('/media/brownianxgames/Aquisitions/test_IA/public_data_validation_v1/track_2/exp_9/trajs_fov_5.csv'),\n",
       " PosixPath('/media/brownianxgames/Aquisitions/test_IA/public_data_validation_v1/track_2/exp_9/trajs_fov_9.csv'),\n",
       " PosixPath('/media/brownianxgames/Aquisitions/test_IA/public_data_validation_v1/track_2/exp_9/trajs_fov_8.csv'),\n",
       " PosixPath('/media/brownianxgames/Aquisitions/test_IA/public_data_validation_v1/track_2/exp_9/trajs_fov_24.csv'),\n",
       " PosixPath('/media/brownianxgames/Aquisitions/test_IA/public_data_validation_v1/track_2/exp_9/trajs_fov_12.csv'),\n",
       " PosixPath('/media/brownianxgames/Aquisitions/test_IA/public_data_validation_v1/track_2/exp_9/trajs_fov_2.csv'),\n",
       " PosixPath('/media/brownianxgames/Aquisitions/test_IA/public_data_validation_v1/track_2/exp_9/trajs_fov_25.csv'),\n",
       " PosixPath('/media/brownianxgames/Aquisitions/test_IA/public_data_validation_v1/track_2/exp_9/trajs_fov_18.csv'),\n",
       " PosixPath('/media/brownianxgames/Aquisitions/test_IA/public_data_validation_v1/track_2/exp_9/trajs_fov_21.csv'),\n",
       " PosixPath('/media/brownianxgames/Aquisitions/test_IA/public_data_validation_v1/track_2/exp_9/trajs_fov_1.csv'),\n",
       " PosixPath('/media/brownianxgames/Aquisitions/test_IA/public_data_validation_v1/track_2/exp_9/trajs_fov_19.csv'),\n",
       " PosixPath('/media/brownianxgames/Aquisitions/test_IA/public_data_validation_v1/track_2/exp_9/trajs_fov_6.csv'),\n",
       " PosixPath('/media/brownianxgames/Aquisitions/test_IA/public_data_validation_v1/track_2/exp_9/trajs_fov_4.csv'),\n",
       " PosixPath('/media/brownianxgames/Aquisitions/test_IA/public_data_validation_v1/track_2/exp_9/trajs_fov_3.csv'),\n",
       " PosixPath('/media/brownianxgames/Aquisitions/test_IA/public_data_validation_v1/track_2/exp_9/trajs_fov_15.csv'),\n",
       " PosixPath('/media/brownianxgames/Aquisitions/test_IA/public_data_validation_v1/track_2/exp_9/trajs_fov_14.csv'),\n",
       " PosixPath('/media/brownianxgames/Aquisitions/test_IA/public_data_validation_v1/track_2/exp_9/trajs_fov_20.csv'),\n",
       " PosixPath('/media/brownianxgames/Aquisitions/test_IA/public_data_validation_v1/track_2/exp_9/trajs_fov_23.csv'),\n",
       " PosixPath('/media/brownianxgames/Aquisitions/test_IA/public_data_validation_v1/track_2/exp_9/trajs_fov_13.csv'),\n",
       " PosixPath('/media/brownianxgames/Aquisitions/test_IA/public_data_validation_v1/track_2/exp_9/trajs_fov_29.csv'),\n",
       " PosixPath('/media/brownianxgames/Aquisitions/test_IA/public_data_validation_v1/track_2/exp_9/trajs_fov_22.csv'),\n",
       " PosixPath('/media/brownianxgames/Aquisitions/test_IA/public_data_validation_v1/track_2/exp_9/trajs_fov_11.csv'),\n",
       " PosixPath('/media/brownianxgames/Aquisitions/test_IA/public_data_validation_v1/track_2/exp_9/trajs_fov_28.csv'),\n",
       " PosixPath('/media/brownianxgames/Aquisitions/test_IA/public_data_validation_v1/track_2/exp_9/trajs_fov_17.csv'),\n",
       " PosixPath('/media/brownianxgames/Aquisitions/test_IA/public_data_validation_v1/track_2/exp_9/trajs_fov_7.csv'),\n",
       " PosixPath('/media/brownianxgames/Aquisitions/test_IA/public_data_validation_v1/track_2/exp_9/trajs_fov_26.csv'),\n",
       " PosixPath('/media/brownianxgames/Aquisitions/test_IA/public_data_validation_v1/track_2/exp_9/trajs_fov_27.csv'),\n",
       " PosixPath('/media/brownianxgames/Aquisitions/test_IA/public_data_validation_v1/track_2/exp_4/trajs_fov_10.csv'),\n",
       " PosixPath('/media/brownianxgames/Aquisitions/test_IA/public_data_validation_v1/track_2/exp_4/trajs_fov_16.csv'),\n",
       " PosixPath('/media/brownianxgames/Aquisitions/test_IA/public_data_validation_v1/track_2/exp_4/trajs_fov_0.csv'),\n",
       " PosixPath('/media/brownianxgames/Aquisitions/test_IA/public_data_validation_v1/track_2/exp_4/trajs_fov_5.csv'),\n",
       " PosixPath('/media/brownianxgames/Aquisitions/test_IA/public_data_validation_v1/track_2/exp_4/trajs_fov_9.csv'),\n",
       " PosixPath('/media/brownianxgames/Aquisitions/test_IA/public_data_validation_v1/track_2/exp_4/trajs_fov_8.csv'),\n",
       " PosixPath('/media/brownianxgames/Aquisitions/test_IA/public_data_validation_v1/track_2/exp_4/trajs_fov_24.csv'),\n",
       " PosixPath('/media/brownianxgames/Aquisitions/test_IA/public_data_validation_v1/track_2/exp_4/trajs_fov_12.csv'),\n",
       " PosixPath('/media/brownianxgames/Aquisitions/test_IA/public_data_validation_v1/track_2/exp_4/trajs_fov_2.csv'),\n",
       " PosixPath('/media/brownianxgames/Aquisitions/test_IA/public_data_validation_v1/track_2/exp_4/trajs_fov_25.csv'),\n",
       " PosixPath('/media/brownianxgames/Aquisitions/test_IA/public_data_validation_v1/track_2/exp_4/trajs_fov_18.csv'),\n",
       " PosixPath('/media/brownianxgames/Aquisitions/test_IA/public_data_validation_v1/track_2/exp_4/trajs_fov_21.csv'),\n",
       " PosixPath('/media/brownianxgames/Aquisitions/test_IA/public_data_validation_v1/track_2/exp_4/trajs_fov_1.csv'),\n",
       " PosixPath('/media/brownianxgames/Aquisitions/test_IA/public_data_validation_v1/track_2/exp_4/trajs_fov_19.csv'),\n",
       " PosixPath('/media/brownianxgames/Aquisitions/test_IA/public_data_validation_v1/track_2/exp_4/trajs_fov_6.csv'),\n",
       " PosixPath('/media/brownianxgames/Aquisitions/test_IA/public_data_validation_v1/track_2/exp_4/trajs_fov_4.csv'),\n",
       " PosixPath('/media/brownianxgames/Aquisitions/test_IA/public_data_validation_v1/track_2/exp_4/trajs_fov_3.csv'),\n",
       " PosixPath('/media/brownianxgames/Aquisitions/test_IA/public_data_validation_v1/track_2/exp_4/trajs_fov_15.csv'),\n",
       " PosixPath('/media/brownianxgames/Aquisitions/test_IA/public_data_validation_v1/track_2/exp_4/trajs_fov_14.csv'),\n",
       " PosixPath('/media/brownianxgames/Aquisitions/test_IA/public_data_validation_v1/track_2/exp_4/trajs_fov_20.csv'),\n",
       " PosixPath('/media/brownianxgames/Aquisitions/test_IA/public_data_validation_v1/track_2/exp_4/trajs_fov_23.csv'),\n",
       " PosixPath('/media/brownianxgames/Aquisitions/test_IA/public_data_validation_v1/track_2/exp_4/trajs_fov_13.csv'),\n",
       " PosixPath('/media/brownianxgames/Aquisitions/test_IA/public_data_validation_v1/track_2/exp_4/trajs_fov_29.csv'),\n",
       " PosixPath('/media/brownianxgames/Aquisitions/test_IA/public_data_validation_v1/track_2/exp_4/trajs_fov_22.csv'),\n",
       " PosixPath('/media/brownianxgames/Aquisitions/test_IA/public_data_validation_v1/track_2/exp_4/trajs_fov_11.csv'),\n",
       " PosixPath('/media/brownianxgames/Aquisitions/test_IA/public_data_validation_v1/track_2/exp_4/trajs_fov_28.csv'),\n",
       " PosixPath('/media/brownianxgames/Aquisitions/test_IA/public_data_validation_v1/track_2/exp_4/trajs_fov_17.csv'),\n",
       " PosixPath('/media/brownianxgames/Aquisitions/test_IA/public_data_validation_v1/track_2/exp_4/trajs_fov_7.csv'),\n",
       " PosixPath('/media/brownianxgames/Aquisitions/test_IA/public_data_validation_v1/track_2/exp_4/trajs_fov_26.csv'),\n",
       " PosixPath('/media/brownianxgames/Aquisitions/test_IA/public_data_validation_v1/track_2/exp_4/trajs_fov_27.csv'),\n",
       " PosixPath('/media/brownianxgames/Aquisitions/test_IA/public_data_validation_v1/track_2/exp_0/trajs_fov_10.csv'),\n",
       " PosixPath('/media/brownianxgames/Aquisitions/test_IA/public_data_validation_v1/track_2/exp_0/trajs_fov_16.csv'),\n",
       " PosixPath('/media/brownianxgames/Aquisitions/test_IA/public_data_validation_v1/track_2/exp_0/trajs_fov_0.csv'),\n",
       " PosixPath('/media/brownianxgames/Aquisitions/test_IA/public_data_validation_v1/track_2/exp_0/trajs_fov_5.csv'),\n",
       " PosixPath('/media/brownianxgames/Aquisitions/test_IA/public_data_validation_v1/track_2/exp_0/trajs_fov_9.csv'),\n",
       " PosixPath('/media/brownianxgames/Aquisitions/test_IA/public_data_validation_v1/track_2/exp_0/trajs_fov_8.csv'),\n",
       " PosixPath('/media/brownianxgames/Aquisitions/test_IA/public_data_validation_v1/track_2/exp_0/trajs_fov_24.csv'),\n",
       " PosixPath('/media/brownianxgames/Aquisitions/test_IA/public_data_validation_v1/track_2/exp_0/trajs_fov_12.csv'),\n",
       " PosixPath('/media/brownianxgames/Aquisitions/test_IA/public_data_validation_v1/track_2/exp_0/trajs_fov_2.csv'),\n",
       " PosixPath('/media/brownianxgames/Aquisitions/test_IA/public_data_validation_v1/track_2/exp_0/trajs_fov_25.csv'),\n",
       " PosixPath('/media/brownianxgames/Aquisitions/test_IA/public_data_validation_v1/track_2/exp_0/trajs_fov_18.csv'),\n",
       " PosixPath('/media/brownianxgames/Aquisitions/test_IA/public_data_validation_v1/track_2/exp_0/trajs_fov_21.csv'),\n",
       " PosixPath('/media/brownianxgames/Aquisitions/test_IA/public_data_validation_v1/track_2/exp_0/trajs_fov_1.csv'),\n",
       " PosixPath('/media/brownianxgames/Aquisitions/test_IA/public_data_validation_v1/track_2/exp_0/trajs_fov_19.csv'),\n",
       " PosixPath('/media/brownianxgames/Aquisitions/test_IA/public_data_validation_v1/track_2/exp_0/trajs_fov_6.csv'),\n",
       " PosixPath('/media/brownianxgames/Aquisitions/test_IA/public_data_validation_v1/track_2/exp_0/trajs_fov_4.csv'),\n",
       " PosixPath('/media/brownianxgames/Aquisitions/test_IA/public_data_validation_v1/track_2/exp_0/trajs_fov_3.csv'),\n",
       " PosixPath('/media/brownianxgames/Aquisitions/test_IA/public_data_validation_v1/track_2/exp_0/trajs_fov_15.csv'),\n",
       " PosixPath('/media/brownianxgames/Aquisitions/test_IA/public_data_validation_v1/track_2/exp_0/trajs_fov_14.csv'),\n",
       " PosixPath('/media/brownianxgames/Aquisitions/test_IA/public_data_validation_v1/track_2/exp_0/trajs_fov_20.csv'),\n",
       " PosixPath('/media/brownianxgames/Aquisitions/test_IA/public_data_validation_v1/track_2/exp_0/trajs_fov_23.csv'),\n",
       " PosixPath('/media/brownianxgames/Aquisitions/test_IA/public_data_validation_v1/track_2/exp_0/trajs_fov_13.csv'),\n",
       " PosixPath('/media/brownianxgames/Aquisitions/test_IA/public_data_validation_v1/track_2/exp_0/trajs_fov_29.csv'),\n",
       " PosixPath('/media/brownianxgames/Aquisitions/test_IA/public_data_validation_v1/track_2/exp_0/trajs_fov_22.csv'),\n",
       " PosixPath('/media/brownianxgames/Aquisitions/test_IA/public_data_validation_v1/track_2/exp_0/trajs_fov_11.csv'),\n",
       " PosixPath('/media/brownianxgames/Aquisitions/test_IA/public_data_validation_v1/track_2/exp_0/trajs_fov_28.csv'),\n",
       " PosixPath('/media/brownianxgames/Aquisitions/test_IA/public_data_validation_v1/track_2/exp_0/trajs_fov_17.csv'),\n",
       " PosixPath('/media/brownianxgames/Aquisitions/test_IA/public_data_validation_v1/track_2/exp_0/trajs_fov_7.csv'),\n",
       " PosixPath('/media/brownianxgames/Aquisitions/test_IA/public_data_validation_v1/track_2/exp_0/trajs_fov_26.csv'),\n",
       " PosixPath('/media/brownianxgames/Aquisitions/test_IA/public_data_validation_v1/track_2/exp_0/trajs_fov_27.csv'),\n",
       " PosixPath('/media/brownianxgames/Aquisitions/test_IA/public_data_validation_v1/track_2/exp_7/trajs_fov_10.csv'),\n",
       " PosixPath('/media/brownianxgames/Aquisitions/test_IA/public_data_validation_v1/track_2/exp_7/trajs_fov_16.csv'),\n",
       " PosixPath('/media/brownianxgames/Aquisitions/test_IA/public_data_validation_v1/track_2/exp_7/trajs_fov_0.csv'),\n",
       " PosixPath('/media/brownianxgames/Aquisitions/test_IA/public_data_validation_v1/track_2/exp_7/trajs_fov_5.csv'),\n",
       " PosixPath('/media/brownianxgames/Aquisitions/test_IA/public_data_validation_v1/track_2/exp_7/trajs_fov_9.csv'),\n",
       " PosixPath('/media/brownianxgames/Aquisitions/test_IA/public_data_validation_v1/track_2/exp_7/trajs_fov_8.csv'),\n",
       " PosixPath('/media/brownianxgames/Aquisitions/test_IA/public_data_validation_v1/track_2/exp_7/trajs_fov_24.csv'),\n",
       " PosixPath('/media/brownianxgames/Aquisitions/test_IA/public_data_validation_v1/track_2/exp_7/trajs_fov_12.csv'),\n",
       " PosixPath('/media/brownianxgames/Aquisitions/test_IA/public_data_validation_v1/track_2/exp_7/trajs_fov_2.csv'),\n",
       " PosixPath('/media/brownianxgames/Aquisitions/test_IA/public_data_validation_v1/track_2/exp_7/trajs_fov_25.csv'),\n",
       " PosixPath('/media/brownianxgames/Aquisitions/test_IA/public_data_validation_v1/track_2/exp_7/trajs_fov_18.csv'),\n",
       " PosixPath('/media/brownianxgames/Aquisitions/test_IA/public_data_validation_v1/track_2/exp_7/trajs_fov_21.csv'),\n",
       " PosixPath('/media/brownianxgames/Aquisitions/test_IA/public_data_validation_v1/track_2/exp_7/trajs_fov_1.csv'),\n",
       " PosixPath('/media/brownianxgames/Aquisitions/test_IA/public_data_validation_v1/track_2/exp_7/trajs_fov_19.csv'),\n",
       " PosixPath('/media/brownianxgames/Aquisitions/test_IA/public_data_validation_v1/track_2/exp_7/trajs_fov_6.csv'),\n",
       " PosixPath('/media/brownianxgames/Aquisitions/test_IA/public_data_validation_v1/track_2/exp_7/trajs_fov_4.csv'),\n",
       " PosixPath('/media/brownianxgames/Aquisitions/test_IA/public_data_validation_v1/track_2/exp_7/trajs_fov_3.csv'),\n",
       " PosixPath('/media/brownianxgames/Aquisitions/test_IA/public_data_validation_v1/track_2/exp_7/trajs_fov_15.csv'),\n",
       " PosixPath('/media/brownianxgames/Aquisitions/test_IA/public_data_validation_v1/track_2/exp_7/trajs_fov_14.csv'),\n",
       " PosixPath('/media/brownianxgames/Aquisitions/test_IA/public_data_validation_v1/track_2/exp_7/trajs_fov_20.csv'),\n",
       " PosixPath('/media/brownianxgames/Aquisitions/test_IA/public_data_validation_v1/track_2/exp_7/trajs_fov_23.csv'),\n",
       " PosixPath('/media/brownianxgames/Aquisitions/test_IA/public_data_validation_v1/track_2/exp_7/trajs_fov_13.csv'),\n",
       " PosixPath('/media/brownianxgames/Aquisitions/test_IA/public_data_validation_v1/track_2/exp_7/trajs_fov_29.csv'),\n",
       " PosixPath('/media/brownianxgames/Aquisitions/test_IA/public_data_validation_v1/track_2/exp_7/trajs_fov_22.csv'),\n",
       " PosixPath('/media/brownianxgames/Aquisitions/test_IA/public_data_validation_v1/track_2/exp_7/trajs_fov_11.csv'),\n",
       " PosixPath('/media/brownianxgames/Aquisitions/test_IA/public_data_validation_v1/track_2/exp_7/trajs_fov_28.csv'),\n",
       " PosixPath('/media/brownianxgames/Aquisitions/test_IA/public_data_validation_v1/track_2/exp_7/trajs_fov_17.csv'),\n",
       " PosixPath('/media/brownianxgames/Aquisitions/test_IA/public_data_validation_v1/track_2/exp_7/trajs_fov_7.csv'),\n",
       " PosixPath('/media/brownianxgames/Aquisitions/test_IA/public_data_validation_v1/track_2/exp_7/trajs_fov_26.csv'),\n",
       " PosixPath('/media/brownianxgames/Aquisitions/test_IA/public_data_validation_v1/track_2/exp_7/trajs_fov_27.csv'),\n",
       " PosixPath('/media/brownianxgames/Aquisitions/test_IA/public_data_validation_v1/track_2/exp_10/trajs_fov_10.csv'),\n",
       " PosixPath('/media/brownianxgames/Aquisitions/test_IA/public_data_validation_v1/track_2/exp_10/trajs_fov_16.csv'),\n",
       " PosixPath('/media/brownianxgames/Aquisitions/test_IA/public_data_validation_v1/track_2/exp_10/trajs_fov_0.csv'),\n",
       " PosixPath('/media/brownianxgames/Aquisitions/test_IA/public_data_validation_v1/track_2/exp_10/trajs_fov_5.csv'),\n",
       " PosixPath('/media/brownianxgames/Aquisitions/test_IA/public_data_validation_v1/track_2/exp_10/trajs_fov_9.csv'),\n",
       " PosixPath('/media/brownianxgames/Aquisitions/test_IA/public_data_validation_v1/track_2/exp_10/trajs_fov_8.csv'),\n",
       " PosixPath('/media/brownianxgames/Aquisitions/test_IA/public_data_validation_v1/track_2/exp_10/trajs_fov_24.csv'),\n",
       " PosixPath('/media/brownianxgames/Aquisitions/test_IA/public_data_validation_v1/track_2/exp_10/trajs_fov_12.csv'),\n",
       " PosixPath('/media/brownianxgames/Aquisitions/test_IA/public_data_validation_v1/track_2/exp_10/trajs_fov_2.csv'),\n",
       " PosixPath('/media/brownianxgames/Aquisitions/test_IA/public_data_validation_v1/track_2/exp_10/trajs_fov_25.csv'),\n",
       " PosixPath('/media/brownianxgames/Aquisitions/test_IA/public_data_validation_v1/track_2/exp_10/trajs_fov_18.csv'),\n",
       " PosixPath('/media/brownianxgames/Aquisitions/test_IA/public_data_validation_v1/track_2/exp_10/trajs_fov_21.csv'),\n",
       " PosixPath('/media/brownianxgames/Aquisitions/test_IA/public_data_validation_v1/track_2/exp_10/trajs_fov_1.csv'),\n",
       " PosixPath('/media/brownianxgames/Aquisitions/test_IA/public_data_validation_v1/track_2/exp_10/trajs_fov_19.csv'),\n",
       " PosixPath('/media/brownianxgames/Aquisitions/test_IA/public_data_validation_v1/track_2/exp_10/trajs_fov_6.csv'),\n",
       " PosixPath('/media/brownianxgames/Aquisitions/test_IA/public_data_validation_v1/track_2/exp_10/trajs_fov_4.csv'),\n",
       " PosixPath('/media/brownianxgames/Aquisitions/test_IA/public_data_validation_v1/track_2/exp_10/trajs_fov_3.csv'),\n",
       " PosixPath('/media/brownianxgames/Aquisitions/test_IA/public_data_validation_v1/track_2/exp_10/trajs_fov_15.csv'),\n",
       " PosixPath('/media/brownianxgames/Aquisitions/test_IA/public_data_validation_v1/track_2/exp_10/trajs_fov_14.csv'),\n",
       " PosixPath('/media/brownianxgames/Aquisitions/test_IA/public_data_validation_v1/track_2/exp_10/trajs_fov_20.csv'),\n",
       " PosixPath('/media/brownianxgames/Aquisitions/test_IA/public_data_validation_v1/track_2/exp_10/trajs_fov_23.csv'),\n",
       " PosixPath('/media/brownianxgames/Aquisitions/test_IA/public_data_validation_v1/track_2/exp_10/trajs_fov_13.csv'),\n",
       " PosixPath('/media/brownianxgames/Aquisitions/test_IA/public_data_validation_v1/track_2/exp_10/trajs_fov_29.csv'),\n",
       " PosixPath('/media/brownianxgames/Aquisitions/test_IA/public_data_validation_v1/track_2/exp_10/trajs_fov_22.csv'),\n",
       " PosixPath('/media/brownianxgames/Aquisitions/test_IA/public_data_validation_v1/track_2/exp_10/trajs_fov_11.csv'),\n",
       " PosixPath('/media/brownianxgames/Aquisitions/test_IA/public_data_validation_v1/track_2/exp_10/trajs_fov_28.csv'),\n",
       " PosixPath('/media/brownianxgames/Aquisitions/test_IA/public_data_validation_v1/track_2/exp_10/trajs_fov_17.csv'),\n",
       " PosixPath('/media/brownianxgames/Aquisitions/test_IA/public_data_validation_v1/track_2/exp_10/trajs_fov_7.csv'),\n",
       " PosixPath('/media/brownianxgames/Aquisitions/test_IA/public_data_validation_v1/track_2/exp_10/trajs_fov_26.csv'),\n",
       " PosixPath('/media/brownianxgames/Aquisitions/test_IA/public_data_validation_v1/track_2/exp_10/trajs_fov_27.csv'),\n",
       " PosixPath('/media/brownianxgames/Aquisitions/test_IA/public_data_validation_v1/track_2/exp_2/trajs_fov_10.csv'),\n",
       " PosixPath('/media/brownianxgames/Aquisitions/test_IA/public_data_validation_v1/track_2/exp_2/trajs_fov_16.csv'),\n",
       " PosixPath('/media/brownianxgames/Aquisitions/test_IA/public_data_validation_v1/track_2/exp_2/trajs_fov_0.csv'),\n",
       " PosixPath('/media/brownianxgames/Aquisitions/test_IA/public_data_validation_v1/track_2/exp_2/trajs_fov_5.csv'),\n",
       " PosixPath('/media/brownianxgames/Aquisitions/test_IA/public_data_validation_v1/track_2/exp_2/trajs_fov_9.csv'),\n",
       " PosixPath('/media/brownianxgames/Aquisitions/test_IA/public_data_validation_v1/track_2/exp_2/trajs_fov_8.csv'),\n",
       " PosixPath('/media/brownianxgames/Aquisitions/test_IA/public_data_validation_v1/track_2/exp_2/trajs_fov_24.csv'),\n",
       " PosixPath('/media/brownianxgames/Aquisitions/test_IA/public_data_validation_v1/track_2/exp_2/trajs_fov_12.csv'),\n",
       " PosixPath('/media/brownianxgames/Aquisitions/test_IA/public_data_validation_v1/track_2/exp_2/trajs_fov_2.csv'),\n",
       " PosixPath('/media/brownianxgames/Aquisitions/test_IA/public_data_validation_v1/track_2/exp_2/trajs_fov_25.csv'),\n",
       " PosixPath('/media/brownianxgames/Aquisitions/test_IA/public_data_validation_v1/track_2/exp_2/trajs_fov_18.csv'),\n",
       " PosixPath('/media/brownianxgames/Aquisitions/test_IA/public_data_validation_v1/track_2/exp_2/trajs_fov_21.csv'),\n",
       " PosixPath('/media/brownianxgames/Aquisitions/test_IA/public_data_validation_v1/track_2/exp_2/trajs_fov_1.csv'),\n",
       " PosixPath('/media/brownianxgames/Aquisitions/test_IA/public_data_validation_v1/track_2/exp_2/trajs_fov_19.csv'),\n",
       " PosixPath('/media/brownianxgames/Aquisitions/test_IA/public_data_validation_v1/track_2/exp_2/trajs_fov_6.csv'),\n",
       " PosixPath('/media/brownianxgames/Aquisitions/test_IA/public_data_validation_v1/track_2/exp_2/trajs_fov_4.csv'),\n",
       " PosixPath('/media/brownianxgames/Aquisitions/test_IA/public_data_validation_v1/track_2/exp_2/trajs_fov_3.csv'),\n",
       " PosixPath('/media/brownianxgames/Aquisitions/test_IA/public_data_validation_v1/track_2/exp_2/trajs_fov_15.csv'),\n",
       " PosixPath('/media/brownianxgames/Aquisitions/test_IA/public_data_validation_v1/track_2/exp_2/trajs_fov_14.csv'),\n",
       " PosixPath('/media/brownianxgames/Aquisitions/test_IA/public_data_validation_v1/track_2/exp_2/trajs_fov_20.csv'),\n",
       " PosixPath('/media/brownianxgames/Aquisitions/test_IA/public_data_validation_v1/track_2/exp_2/trajs_fov_23.csv'),\n",
       " PosixPath('/media/brownianxgames/Aquisitions/test_IA/public_data_validation_v1/track_2/exp_2/trajs_fov_13.csv'),\n",
       " PosixPath('/media/brownianxgames/Aquisitions/test_IA/public_data_validation_v1/track_2/exp_2/trajs_fov_29.csv'),\n",
       " PosixPath('/media/brownianxgames/Aquisitions/test_IA/public_data_validation_v1/track_2/exp_2/trajs_fov_22.csv'),\n",
       " PosixPath('/media/brownianxgames/Aquisitions/test_IA/public_data_validation_v1/track_2/exp_2/trajs_fov_11.csv'),\n",
       " PosixPath('/media/brownianxgames/Aquisitions/test_IA/public_data_validation_v1/track_2/exp_2/trajs_fov_28.csv'),\n",
       " PosixPath('/media/brownianxgames/Aquisitions/test_IA/public_data_validation_v1/track_2/exp_2/trajs_fov_17.csv'),\n",
       " PosixPath('/media/brownianxgames/Aquisitions/test_IA/public_data_validation_v1/track_2/exp_2/trajs_fov_7.csv'),\n",
       " PosixPath('/media/brownianxgames/Aquisitions/test_IA/public_data_validation_v1/track_2/exp_2/trajs_fov_26.csv'),\n",
       " PosixPath('/media/brownianxgames/Aquisitions/test_IA/public_data_validation_v1/track_2/exp_2/trajs_fov_27.csv')]"
      ]
     },
     "execution_count": 12,
     "metadata": {},
     "output_type": "execute_result"
    }
   ],
   "source": [
    "directory_files"
   ]
  },
  {
   "cell_type": "code",
   "execution_count": 13,
   "id": "60cacfd6",
   "metadata": {},
   "outputs": [],
   "source": [
    "file = directory_files[0]"
   ]
  },
  {
   "cell_type": "code",
   "execution_count": 14,
   "id": "d3748765",
   "metadata": {},
   "outputs": [
    {
     "data": {
      "text/plain": [
       "PosixPath('/media/brownianxgames/Aquisitions/test_IA/public_data_validation_v1/track_2/exp_11/trajs_fov_10.csv')"
      ]
     },
     "execution_count": 14,
     "metadata": {},
     "output_type": "execute_result"
    }
   ],
   "source": [
    "file"
   ]
  },
  {
   "cell_type": "code",
   "execution_count": 15,
   "id": "e5f54535",
   "metadata": {},
   "outputs": [],
   "source": [
    "from torch.utils.data import Dataset, DataLoader\n",
    "from pathlib import Path\n",
    "import pandas as pd\n",
    "import numpy as np\n",
    "from dataclasses import dataclass\n",
    "\n",
    "\n",
    "# Function to pad an array to a specific shape\n",
    "def to_shape(a, shape):\n",
    "    # Unpack the target shape\n",
    "    y_, x_ = shape\n",
    "\n",
    "    # Get the current shape of the array\n",
    "    y, x = a.shape\n",
    "\n",
    "    # Calculate the padding needed in the y and x directions\n",
    "    y_pad = y_ - y\n",
    "    x_pad = x_ - x\n",
    "    output = np.zeros()\n",
    "    # Pad the array using numpy's pad function\n",
    "    return np.pad(\n",
    "        a,\n",
    "        [(0, 1), (0, 1)],\n",
    "        # Calculate the padding for each dimension\n",
    "        #((y_pad // 2, y_pad // 2 + y_pad % 2), (x_pad // 2, x_pad // 2 + x_pad % 2)),\n",
    "        mode=\"constant\",\n",
    "    )\n",
    "\n",
    "\n",
    "# Function to pad data and labels to a specific shape\n",
    "def apply_padding(data_df, N, T_max):\n",
    "    # Define the final shape of the data and labels\n",
    "    final_shape = (N, T_max, 3)\n",
    "\n",
    "    # Initialize the final data and labels with zeros\n",
    "    final_data = np.zeros(final_shape)\n",
    "    final_label = np.zeros((N, T_max, 3))\n",
    "\n",
    "    # Select a random subset of trajectory indices\n",
    "    if len(data_df[\"traj_idx\"].unique()) < N:\n",
    "        selected_ids = data_df[\"traj_idx\"].unique()\n",
    "    else:\n",
    "        selected_ids = np.random.choice(\n",
    "            data_df[\"traj_idx\"].unique(), size=N, replace=False\n",
    "        )\n",
    "\n",
    "    # Iterate over the selected trajectory indices\n",
    "    for n, id in enumerate(selected_ids):\n",
    "        # Filter the data for the current trajectory index\n",
    "        exp = data_df[data_df[\"traj_idx\"] == id]\n",
    "\n",
    "        # Extract the data and labels for the current trajectory\n",
    "        data = exp[[\"frame\", \"x\", \"y\"]].to_numpy()\n",
    "        # print(exp[\"frame\"])\n",
    "        label = exp[[\"alpha\", \"D\", \"state\"]].to_numpy()\n",
    "\n",
    "        # If the data is longer than T_max, truncate it\n",
    "        if data.shape[0] > T_max:\n",
    "            final_data[n, :, :] = data[:T_max, :]\n",
    "            final_label[n, :, :] = label[:T_max, :]\n",
    "\n",
    "        # Otherwise, pad the data to T_max\n",
    "        else:\n",
    "            # print((label.shape, T_max))\n",
    "            final_data[n, :data.shape[0], :] = data\n",
    "            final_label[n, :data.shape[0], :] = label\n",
    "\n",
    "    # Return the padded data and labels\n",
    "    return final_data, final_label\n",
    "\n",
    "\n",
    "# Define a function to normalize data\n",
    "def normalize_df(data):\n",
    "    # Calculate displacement in x and y directions\n",
    "    # Normalize by substring mean and dividing by variance.\n",
    "\n",
    "    displacement_x = []\n",
    "    displacement_y = []\n",
    "    for _, group in data.groupby(\"traj_idx\"):\n",
    "        x = np.asarray(group[\"x\"])\n",
    "        y = np.asarray(group[\"y\"])\n",
    "        d_x = x[1:] - x[:-1]\n",
    "        d_y = y[1:] - y[:-1]\n",
    "        displacement_x = displacement_x + list(d_x)\n",
    "        displacement_y = displacement_y + list(d_y)\n",
    "\n",
    "    # Calculate variance in x and y directions\n",
    "    variance_x = np.sqrt(np.std(displacement_x))\n",
    "    variance_y = np.sqrt(np.std(displacement_y))\n",
    "\n",
    "    # Normalize data\n",
    "    data.loc[:, \"x\"] = (data[\"x\"] - data[\"x\"].mean()) / variance_x\n",
    "    data.loc[:, \"y\"] = (data[\"y\"] - data[\"y\"].mean()) / variance_y\n",
    "\n",
    "\n",
    "def normalize_np(data):\n",
    "\n",
    "    displacement_x = []\n",
    "    displacement_y = []\n",
    "    for n in range(data.shape[0]):\n",
    "        x = data[n, :, 1]\n",
    "        y = data[n, :, 2]\n",
    "        d_x = x[1:] - x[:-1]\n",
    "        d_y = y[1:] - y[:-1]\n",
    "        displacement_x = displacement_x + list(d_x)\n",
    "        displacement_y = displacement_y + list(d_y)\n",
    "\n",
    "    # Calculate variance in x and y directions\n",
    "    variance_x = np.sqrt(np.std(displacement_x))\n",
    "    variance_y = np.sqrt(np.std(displacement_y))\n",
    "\n",
    "    # Normalize data\n",
    "\n",
    "    data[:, :, 1] = (data[:, :, 1] - np.mean(data[:, :, 1])) / variance_x\n",
    "    data[:, :, 2] = (data[:, :, 2] - np.mean(data[:, :, 2])) / variance_x\n",
    "\n",
    "    return data\n",
    "\n",
    "\n",
    "# Define a function to list directory tree with pathlib\n",
    "def list_directory_tree_with_pathlib(starting_directory):\n",
    "    path_object = Path(starting_directory)\n",
    "    folders = []\n",
    "    for file_path in path_object.rglob(\"*.csv\"):\n",
    "        folders.append(file_path)\n",
    "    return folders\n",
    "\n",
    "\n",
    "# Define a custom dataset class for all data\n",
    "@dataclass\n",
    "class Dataset_all_data(Dataset):\n",
    "    # Initialize filenames and transform flag\n",
    "    # Pad value should be a tuple such as (N, Tmax)\n",
    "    filenames: list\n",
    "    transform: bool = False\n",
    "    pad: None | tuple = None\n",
    "    noise: bool = False\n",
    "\n",
    "    def __len__(self):\n",
    "        # Return the number of files\n",
    "        return len(self.filenames)\n",
    "\n",
    "    def __getitem__(self, idx):\n",
    "        # Read csv file and extract data and label\n",
    "        df = pd.read_csv(self.filenames[idx])\n",
    "\n",
    "        if self.pad is None:\n",
    "            data = df[[\"traj_idx\", \"frame\", \"x\", \"y\"]]\n",
    "            label = np.asarray(df[[\"alpha\", \"D\"]])\n",
    "            label_2 = np.asarray(df[\"state\"])\n",
    "\n",
    "        else:\n",
    "            if len(self.pad) != 2:\n",
    "                raise ValueError(\"pad value should be set as (N, T_max)\")\n",
    "            data, label = apply_padding(df, *self.pad)\n",
    "            label_2 = label[:, :, -1]\n",
    "            label_2[label_2[:, :] > 0] = label_2[label_2[:, :] > 0] \n",
    "            label = label[:, :, :-1]\n",
    "\n",
    "        # Normalize data if transform flag is True\n",
    "        if self.transform:\n",
    "            if self.pad is None:\n",
    "                normalize_df(data)\n",
    "                data = np.asarray(data)\n",
    "            else:\n",
    "                data = normalize_np(data)\n",
    "\n",
    "        if self.noise:\n",
    "            data = add_noise(data)\n",
    "        \n",
    "        # Normalize D between 0 and 1\n",
    "        label[:,:,0] = (np.log(label[:,:,0]) + 6) / 18\n",
    "\n",
    "        # Normaliza alpha between 0 and 1\n",
    "        label[:,:,1] = label[:,:,1] / 2\n",
    "\n",
    "        # Return data and label\n",
    "        return torch.from_numpy(data.astype(np.float32)), (\n",
    "            torch.from_numpy(label.astype(np.float32)),\n",
    "            torch.from_numpy(label_2.astype(np.float32)),\n",
    "        )\n",
    "    \n",
    "def add_noise(data):\n",
    "    noise_amplitude = np.random.choice([0.01, 0.1, 1])\n",
    "    noise = np.random.normal(0, noise_amplitude, data[:,:,1:].shape)\n",
    "    data[:,:,1:] = data[:,:,1:] + data[:,:,1:]*noise\n",
    "    return  data"
   ]
  },
  {
   "cell_type": "code",
   "execution_count": null,
   "id": "fe1d344b",
   "metadata": {},
   "outputs": [],
   "source": []
  },
  {
   "cell_type": "code",
   "execution_count": 16,
   "id": "c53e0439",
   "metadata": {},
   "outputs": [],
   "source": [
    "df = pd.read_csv(file)\n",
    "nb_trajs = len(df[\"traj_idx\"].unique())\n",
    "dataset = np.zeros((nb_trajs, 200,3))\n"
   ]
  },
  {
   "cell_type": "code",
   "execution_count": 17,
   "id": "35d01310",
   "metadata": {},
   "outputs": [],
   "source": [
    "## The bodel take data per batch of 20 so we should take the data and scatter it onto the batch dimension"
   ]
  },
  {
   "cell_type": "code",
   "execution_count": 18,
   "id": "bc63e5f7",
   "metadata": {},
   "outputs": [
    {
     "data": {
      "text/plain": [
       "(36, 200, 3)"
      ]
     },
     "execution_count": 18,
     "metadata": {},
     "output_type": "execute_result"
    }
   ],
   "source": [
    "dataset.shape"
   ]
  },
  {
   "cell_type": "code",
   "execution_count": 19,
   "id": "97bc2317",
   "metadata": {},
   "outputs": [],
   "source": [
    "def apply_padding(data_df):\n",
    "    # Define the finaT_l shape of the data and labels\n",
    "    T_max = 200\n",
    "    selected_ids = data_df[\"traj_idx\"].unique()\n",
    "\n",
    "    final_shape = (len(selected_ids), T_max, 3)\n",
    "\n",
    "    # Initialize the final data and labels with zeros\n",
    "    final_data = np.zeros(final_shape)\n",
    "\n",
    "\n",
    "    # Iterate over the selected trajectory indices\n",
    "    for n, id in enumerate(selected_ids):\n",
    "        # Filter the data for the current trajectory index\n",
    "        exp = data_df[data_df[\"traj_idx\"] == id]\n",
    "\n",
    "        # Extract the data and labels for the current trajectory\n",
    "        data = exp[[\"frame\", \"x\", \"y\"]].to_numpy()\n",
    "        # print(exp[\"frame\"])\n",
    "\n",
    "        # If the data is longer than T_max, truncate it\n",
    "        if data.shape[0] > T_max:\n",
    "            final_data[n, :, :] = data[:T_max, :]\n",
    "\n",
    "        # Otherwise, pad the data to T_max\n",
    "        else:\n",
    "            # print((label.shape, T_max))\n",
    "            final_data[n, :data.shape[0], :] = data\n",
    "    # Return the padded data and labels\n",
    "    return final_data\n"
   ]
  },
  {
   "cell_type": "code",
   "execution_count": 20,
   "id": "6a1f86a4",
   "metadata": {},
   "outputs": [],
   "source": [
    "df_padded = apply_padding(df)"
   ]
  },
  {
   "cell_type": "code",
   "execution_count": 21,
   "id": "c0ba0235",
   "metadata": {},
   "outputs": [
    {
     "data": {
      "text/plain": [
       "(36, 200, 3)"
      ]
     },
     "execution_count": 21,
     "metadata": {},
     "output_type": "execute_result"
    }
   ],
   "source": [
    "df_padded.shape"
   ]
  },
  {
   "cell_type": "code",
   "execution_count": 22,
   "id": "fa2d9525",
   "metadata": {},
   "outputs": [],
   "source": [
    "# if nb_trajs % 20 == 0:\n",
    "\n",
    "#     for i in range(dataset.shape[0]):\n",
    "#         dataset[i,:,:,:] = df_padded[i*20:(i+1)*20, :,:]\n",
    "\n",
    "# else : \n",
    "#     for i in range(dataset.shape[0] - 1):\n",
    "#         dataset[i,:,:,:] = df_padded[i*20:(i+1)*20, :,:]\n",
    "\n",
    "#     #On place i dans la dernière couche\n",
    "#     i+=1\n",
    "#     remaining_trajs = nb_trajs % 20\n",
    "#     dataset[i,:remaining_trajs,:,:] = df_padded[-remaining_trajs:, :, :]\n",
    "#     dataset[i,remaining_trajs:,:,:] = df_padded[:(20 - remaining_trajs), :, :]"
   ]
  },
  {
   "cell_type": "code",
   "execution_count": 23,
   "id": "0b53278b",
   "metadata": {},
   "outputs": [],
   "source": [
    "def read_dataset(file):\n",
    "    df = pd.read_csv(file)\n",
    "    nb_trajs = len(df[\"traj_idx\"].unique())\n",
    "    dataset = np.zeros((np.ceil(nb_trajs/20).astype(int), 20, 200,3))\n",
    "\n",
    "    df_padded = apply_padding(df)\n",
    "\n",
    "    # if nb_trajs % 20 == 0:\n",
    "\n",
    "    #     for i in range(dataset.shape[0]):\n",
    "    #         dataset[i,:,:,:] = df_padded[i*20:(i+1)*20, :,:]\n",
    "\n",
    "    # else : \n",
    "    #     for i in range(dataset.shape[0] - 1):\n",
    "    #         dataset[i,:,:,:] = df_padded[i*20:(i+1)*20, :,:]\n",
    "\n",
    "    #     #On place i dans la dernière couche\n",
    "    #     i+=1\n",
    "    #     remaining_trajs = nb_trajs % 20\n",
    "    #     dataset[i,:remaining_trajs,:,:] = df_padded[-remaining_trajs:, :, :]\n",
    "    #     dataset[i,remaining_trajs:,:,:] = df_padded[:(20 - remaining_trajs), :, :]\n",
    "\n",
    "    return torch.from_numpy(df_padded[:,:,:].astype(np.float32))#, nb_trajs"
   ]
  },
  {
   "cell_type": "code",
   "execution_count": 24,
   "id": "e725e1f7",
   "metadata": {},
   "outputs": [
    {
     "data": {
      "text/plain": [
       "EmetMamba(config=EmetConfig(d_model=3, n_layers=16, dt_rank=1, d_state=16, expand_factor=2, d_conv=4, dt_min=0.001, dt_max=0.1, dt_init='random', dt_scale=1.0, rms_norm_eps=1e-05, bias=False, conv_bias=True, inner_layernorms=False, pscan=True, use_cuda=True, bi_mamba_stacks=4, conv_stack=8, dropout=0.1))"
      ]
     },
     "execution_count": 24,
     "metadata": {},
     "output_type": "execute_result"
    }
   ],
   "source": [
    "model.eval()"
   ]
  },
  {
   "cell_type": "code",
   "execution_count": 25,
   "id": "950b6901",
   "metadata": {},
   "outputs": [],
   "source": [
    "a = {}\n",
    "a[\"2\"] = 4"
   ]
  },
  {
   "cell_type": "code",
   "execution_count": 26,
   "id": "72380a34",
   "metadata": {},
   "outputs": [],
   "source": [
    "results = {}\n",
    "with torch.no_grad():\n",
    "    for file in directory_files:\n",
    "        data= read_dataset(file)\n",
    "        data = data.to(\"cuda\")\n",
    "        \n",
    "        results[file] = (torch.argmax(torch.softmax(model(data), dim=2), dim=2))"
   ]
  },
  {
   "cell_type": "code",
   "execution_count": 27,
   "id": "5bf29a66-959f-4e82-a9fa-6b343e331112",
   "metadata": {},
   "outputs": [
    {
     "data": {
      "text/plain": [
       "tensor([[[1.0156e-04, 4.9726e-01, 5.0264e-01],\n",
       "         [1.0376e-04, 4.9721e-01, 5.0268e-01],\n",
       "         [9.3017e-05, 4.9750e-01, 5.0241e-01],\n",
       "         ...,\n",
       "         [8.3619e-05, 4.9818e-01, 5.0173e-01],\n",
       "         [8.3911e-05, 4.9869e-01, 5.0123e-01],\n",
       "         [1.2688e-04, 5.0108e-01, 4.9879e-01]],\n",
       "\n",
       "        [[1.0997e-04, 4.9711e-01, 5.0278e-01],\n",
       "         [1.1251e-04, 4.9707e-01, 5.0282e-01],\n",
       "         [1.0965e-04, 4.9711e-01, 5.0278e-01],\n",
       "         ...,\n",
       "         [8.3196e-05, 4.9839e-01, 5.0152e-01],\n",
       "         [8.5722e-05, 4.9896e-01, 5.0095e-01],\n",
       "         [1.3875e-04, 5.0147e-01, 4.9839e-01]],\n",
       "\n",
       "        [[9.7612e-05, 4.9736e-01, 5.0255e-01],\n",
       "         [9.5070e-05, 4.9743e-01, 5.0247e-01],\n",
       "         [9.1464e-05, 4.9756e-01, 5.0235e-01],\n",
       "         ...,\n",
       "         [9.9808e-05, 4.9730e-01, 5.0260e-01],\n",
       "         [9.5663e-05, 4.9741e-01, 5.0249e-01],\n",
       "         [8.9572e-05, 4.9765e-01, 5.0226e-01]],\n",
       "\n",
       "        ...,\n",
       "\n",
       "        [[9.8332e-05, 4.9734e-01, 5.0256e-01],\n",
       "         [9.5143e-05, 4.9743e-01, 5.0248e-01],\n",
       "         [9.0351e-05, 4.9761e-01, 5.0230e-01],\n",
       "         ...,\n",
       "         [8.4213e-05, 4.9807e-01, 5.0184e-01],\n",
       "         [8.3379e-05, 4.9854e-01, 5.0137e-01],\n",
       "         [1.1940e-04, 5.0080e-01, 4.9908e-01]],\n",
       "\n",
       "        [[9.4932e-05, 4.9744e-01, 5.0247e-01],\n",
       "         [9.2486e-05, 4.9752e-01, 5.0239e-01],\n",
       "         [9.1508e-05, 4.9756e-01, 5.0235e-01],\n",
       "         ...,\n",
       "         [8.4240e-05, 4.9807e-01, 5.0185e-01],\n",
       "         [8.3362e-05, 4.9854e-01, 5.0138e-01],\n",
       "         [1.1896e-04, 5.0078e-01, 4.9910e-01]],\n",
       "\n",
       "        [[9.7917e-05, 4.9735e-01, 5.0255e-01],\n",
       "         [9.4733e-05, 4.9744e-01, 5.0246e-01],\n",
       "         [8.4876e-05, 4.9799e-01, 5.0193e-01],\n",
       "         ...,\n",
       "         [1.4298e-04, 4.9679e-01, 5.0307e-01],\n",
       "         [1.1281e-04, 4.9706e-01, 5.0282e-01],\n",
       "         [9.9103e-05, 4.9732e-01, 5.0258e-01]]], device='cuda:0',\n",
       "       grad_fn=<SoftmaxBackward0>)"
      ]
     },
     "execution_count": 27,
     "metadata": {},
     "output_type": "execute_result"
    }
   ],
   "source": [
    "torch.softmax(model(data), dim=2)"
   ]
  },
  {
   "cell_type": "code",
   "execution_count": 28,
   "id": "d858cb5d",
   "metadata": {},
   "outputs": [],
   "source": [
    "# results_regression = {}\n",
    "# with torch.no_grad():\n",
    "#     for file in directory_files:\n",
    "#         data, n_trajs = read_dataset(file)\n",
    "#         # data = data.to(\"cuda\")\n",
    "#         results_regression[file] = (model_regression(data),n_trajs, data)"
   ]
  },
  {
   "cell_type": "code",
   "execution_count": 29,
   "id": "6b740105",
   "metadata": {},
   "outputs": [],
   "source": [
    "keys = list(results.keys())"
   ]
  },
  {
   "cell_type": "code",
   "execution_count": 30,
   "id": "efe8dbc2",
   "metadata": {},
   "outputs": [],
   "source": [
    "i = 30\n",
    "a = results[keys[i]]\n",
    "# b = results_regression[keys[i]][0]\n",
    "# n_traj = results[keys[i]][1]\n",
    "# data =  results_regression[keys[i]][2]"
   ]
  },
  {
   "cell_type": "code",
   "execution_count": 31,
   "id": "267197b4",
   "metadata": {},
   "outputs": [],
   "source": [
    "a = a.to(\"cpu\").numpy()\n",
    "# b = b.to(\"cpu\").numpy()\n",
    "# data = data.to(\"cpu\").numpy()"
   ]
  },
  {
   "cell_type": "code",
   "execution_count": null,
   "id": "2ede3f92",
   "metadata": {},
   "outputs": [],
   "source": []
  },
  {
   "cell_type": "code",
   "execution_count": 32,
   "id": "e817ccd1",
   "metadata": {},
   "outputs": [
    {
     "data": {
      "text/plain": [
       "torch.Size([43, 200, 3])"
      ]
     },
     "execution_count": 32,
     "metadata": {},
     "output_type": "execute_result"
    }
   ],
   "source": [
    "data.shape"
   ]
  },
  {
   "cell_type": "code",
   "execution_count": 33,
   "id": "d23b4391",
   "metadata": {},
   "outputs": [],
   "source": [
    "# a =a.reshape((40,200))\n",
    "# b = b.reshape((40,200, 2))\n",
    "# data = data.reshape((40,200,3))"
   ]
  },
  {
   "cell_type": "code",
   "execution_count": 34,
   "id": "a3cf4576",
   "metadata": {},
   "outputs": [],
   "source": [
    "# b.shape"
   ]
  },
  {
   "cell_type": "code",
   "execution_count": 35,
   "id": "31ac977a-bc82-4048-808a-eb926eea4a2c",
   "metadata": {},
   "outputs": [
    {
     "data": {
      "text/plain": [
       "(37, 200)"
      ]
     },
     "execution_count": 35,
     "metadata": {},
     "output_type": "execute_result"
    }
   ],
   "source": [
    "a.shape"
   ]
  },
  {
   "cell_type": "code",
   "execution_count": 36,
   "id": "7501059b",
   "metadata": {},
   "outputs": [],
   "source": [
    "import matplotlib.pyplot as plt"
   ]
  },
  {
   "cell_type": "code",
   "execution_count": 37,
   "id": "7244ff1b",
   "metadata": {},
   "outputs": [
    {
     "data": {
      "image/png": "[encoded data removed]",
      "text/plain": [
       "<Figure size 1280x960 with 1 Axes>"
      ]
     },
     "metadata": {},
     "output_type": "display_data"
    }
   ],
   "source": [
    "plt.figure(dpi=200)\n",
    "for key in keys:\n",
    "    a = results[keys[i]]\n",
    "    a = a.to(\"cpu\").numpy()\n",
    "    for i in range(a.shape[0]):\n",
    "        \n",
    "        plt.plot(a[i,:])"
   ]
  },
  {
   "cell_type": "code",
   "execution_count": 38,
   "id": "75018a2b",
   "metadata": {},
   "outputs": [
    {
     "ename": "NameError",
     "evalue": "name 'b' is not defined",
     "output_type": "error",
     "traceback": [
      "\u001b[0;31m---------------------------------------------------------------------------\u001b[0m",
      "\u001b[0;31mNameError\u001b[0m                                 Traceback (most recent call last)",
      "Cell \u001b[0;32mIn[38], line 2\u001b[0m\n\u001b[1;32m      1\u001b[0m \u001b[38;5;66;03m# plt.plot(a[2,:]/2, label = \"s\")\u001b[39;00m\n\u001b[0;32m----> 2\u001b[0m plt\u001b[38;5;241m.\u001b[39mplot(\u001b[43mb\u001b[49m[\u001b[38;5;241m2\u001b[39m,:,\u001b[38;5;241m1\u001b[39m], label \u001b[38;5;241m=\u001b[39m \u001b[38;5;124m\"\u001b[39m\u001b[38;5;124malpha\u001b[39m\u001b[38;5;124m\"\u001b[39m)\n\u001b[1;32m      3\u001b[0m plt\u001b[38;5;241m.\u001b[39mplot(data[\u001b[38;5;241m2\u001b[39m,:,\u001b[38;5;241m1\u001b[39m]\u001b[38;5;241m/\u001b[39m\u001b[38;5;241m1000\u001b[39m, label \u001b[38;5;241m=\u001b[39m \u001b[38;5;124m\"\u001b[39m\u001b[38;5;124mtraj\u001b[39m\u001b[38;5;124m\"\u001b[39m)\n\u001b[1;32m      5\u001b[0m plt\u001b[38;5;241m.\u001b[39mlegend()\n",
      "\u001b[0;31mNameError\u001b[0m: name 'b' is not defined"
     ]
    }
   ],
   "source": [
    "# plt.plot(a[2,:]/2, label = \"s\")\n",
    "plt.plot(b[2,:,1], label = \"alpha\")\n",
    "plt.plot(data[2,:,1]/1000, label = \"traj\")\n",
    "\n",
    "plt.legend()"
   ]
  },
  {
   "cell_type": "code",
   "execution_count": null,
   "id": "7caba9b9",
   "metadata": {},
   "outputs": [],
   "source": [
    "b"
   ]
  },
  {
   "cell_type": "code",
   "execution_count": null,
   "id": "3a0d95d1",
   "metadata": {},
   "outputs": [],
   "source": [
    "model(data)"
   ]
  },
  {
   "cell_type": "code",
   "execution_count": null,
   "id": "79ed0a76",
   "metadata": {},
   "outputs": [],
   "source": [
    "import torch.nn as nn"
   ]
  },
  {
   "cell_type": "code",
   "execution_count": null,
   "id": "caa47f0c",
   "metadata": {},
   "outputs": [],
   "source": [
    "relu = nn.ReLU()"
   ]
  },
  {
   "cell_type": "code",
   "execution_count": null,
   "id": "2fd4589c",
   "metadata": {},
   "outputs": [],
   "source": [
    "test = torch.randn(10,10,2)"
   ]
  },
  {
   "cell_type": "code",
   "execution_count": null,
   "id": "4c12bd4c",
   "metadata": {},
   "outputs": [
    {
     "data": {
      "text/plain": [
       "tensor([[[1.2636, 0.2244],\n",
       "         [0.0000, 1.1753],\n",
       "         [1.8726, 0.8369],\n",
       "         [0.0000, 0.3174],\n",
       "         [0.0000, 0.0000],\n",
       "         [0.3831, 0.2239],\n",
       "         [0.0000, 0.0285],\n",
       "         [1.2042, 0.7172],\n",
       "         [0.0000, 0.9031],\n",
       "         [1.4999, 0.0000]],\n",
       "\n",
       "        [[0.6770, 0.0000],\n",
       "         [0.0000, 0.0000],\n",
       "         [1.7903, 0.0000],\n",
       "         [0.0000, 0.0000],\n",
       "         [0.0000, 0.7431],\n",
       "         [0.1999, 0.0000],\n",
       "         [0.5755, 1.1027],\n",
       "         [0.0366, 0.3679],\n",
       "         [1.5911, 1.9556],\n",
       "         [0.0000, 0.0000]],\n",
       "\n",
       "        [[1.2891, 0.5908],\n",
       "         [0.6584, 1.2545],\n",
       "         [0.4158, 0.0000],\n",
       "         [0.0000, 0.0000],\n",
       "         [0.4222, 0.8100],\n",
       "         [0.6134, 0.8446],\n",
       "         [0.0000, 0.0000],\n",
       "         [0.0000, 0.0000],\n",
       "         [0.1353, 0.0760],\n",
       "         [0.0000, 0.0000]],\n",
       "\n",
       "        [[0.6706, 1.5282],\n",
       "         [0.0000, 0.3768],\n",
       "         [0.3606, 0.0000],\n",
       "         [0.6023, 0.3436],\n",
       "         [0.0000, 0.7277],\n",
       "         [0.0000, 1.4987],\n",
       "         [0.0000, 0.1365],\n",
       "         [0.0000, 1.1763],\n",
       "         [0.6124, 0.0000],\n",
       "         [0.0000, 0.0000]],\n",
       "\n",
       "        [[0.0000, 0.0000],\n",
       "         [0.8530, 0.0000],\n",
       "         [0.0000, 0.0000],\n",
       "         [0.5373, 0.0000],\n",
       "         [0.2022, 1.8703],\n",
       "         [0.0000, 0.0000],\n",
       "         [0.3505, 0.7871],\n",
       "         [1.5896, 0.3599],\n",
       "         [0.0000, 0.0000],\n",
       "         [0.0000, 0.0000]],\n",
       "\n",
       "        [[0.0000, 1.0697],\n",
       "         [0.0000, 0.8269],\n",
       "         [0.0000, 0.0000],\n",
       "         [0.6727, 0.2898],\n",
       "         [1.1186, 0.0000],\n",
       "         [0.0000, 0.9143],\n",
       "         [0.0000, 0.0000],\n",
       "         [0.5266, 0.0000],\n",
       "         [0.0000, 0.0000],\n",
       "         [0.0000, 0.0266]],\n",
       "\n",
       "        [[1.2431, 0.9044],\n",
       "         [1.5275, 0.0000],\n",
       "         [1.1021, 0.0000],\n",
       "         [0.1177, 0.0000],\n",
       "         [0.0000, 0.0000],\n",
       "         [0.0000, 0.0000],\n",
       "         [0.0000, 0.0000],\n",
       "         [0.0000, 0.8084],\n",
       "         [0.1090, 0.0000],\n",
       "         [1.3788, 0.6027]],\n",
       "\n",
       "        [[0.0000, 0.0000],\n",
       "         [0.1415, 0.5972],\n",
       "         [0.1166, 0.0000],\n",
       "         [0.1031, 0.2675],\n",
       "         [0.0000, 0.0000],\n",
       "         [1.4752, 2.3586],\n",
       "         [0.0000, 0.0000],\n",
       "         [0.0000, 1.5294],\n",
       "         [1.6117, 0.5444],\n",
       "         [0.2500, 1.0387]],\n",
       "\n",
       "        [[0.5499, 0.7757],\n",
       "         [0.0000, 0.0000],\n",
       "         [0.1579, 0.0748],\n",
       "         [0.0000, 0.2012],\n",
       "         [0.0000, 0.2322],\n",
       "         [0.0000, 0.0000],\n",
       "         [1.5700, 0.0000],\n",
       "         [0.0000, 1.9753],\n",
       "         [0.0000, 0.0000],\n",
       "         [0.0000, 0.3160]],\n",
       "\n",
       "        [[0.0668, 0.0000],\n",
       "         [0.0434, 0.0000],\n",
       "         [0.1884, 0.6182],\n",
       "         [0.5115, 0.2862],\n",
       "         [0.0000, 1.6729],\n",
       "         [0.0000, 0.1004],\n",
       "         [0.7052, 0.0000],\n",
       "         [2.0943, 0.0627],\n",
       "         [0.1950, 0.0000],\n",
       "         [0.2444, 0.2077]]])"
      ]
     },
     "execution_count": 216,
     "metadata": {},
     "output_type": "execute_result"
    }
   ],
   "source": [
    "relu(test)"
   ]
  },
  {
   "cell_type": "code",
   "execution_count": null,
   "id": "07eef948",
   "metadata": {},
   "outputs": [],
   "source": []
  }
 ],
 "metadata": {
  "kernelspec": {
   "display_name": "Python 3 (ipykernel)",
   "language": "python",
   "name": "python3"
  },
  "language_info": {
   "codemirror_mode": {
    "name": "ipython",
    "version": 3
   },
   "file_extension": ".py",
   "mimetype": "text/x-python",
   "name": "python",
   "nbconvert_exporter": "python",
   "pygments_lexer": "ipython3",
   "version": "3.12.3"
  }
 },
 "nbformat": 4,
 "nbformat_minor": 5
}
