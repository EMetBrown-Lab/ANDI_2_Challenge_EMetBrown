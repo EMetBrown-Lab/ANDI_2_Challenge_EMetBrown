{
 "cells": [
  {
   "cell_type": "code",
   "execution_count": 1,
   "metadata": {},
   "outputs": [],
   "source": [
    "from EmetMamba import EmetConfig, EmetMamba\n",
    "import torch"
   ]
  },
  {
   "cell_type": "markdown",
   "metadata": {},
   "source": [
    "# Creating the Dataset"
   ]
  },
  {
   "cell_type": "code",
   "execution_count": 2,
   "metadata": {},
   "outputs": [],
   "source": [
    "from torch.utils.data import Dataset, DataLoader\n",
    "from pathlib import Path\n",
    "import pandas as pd\n",
    "import numpy as np\n",
    "from dataclasses import dataclass\n",
    "\n",
    "\n",
    "# Function to pad an array to a specific shape\n",
    "def to_shape(a, shape):\n",
    "    # Unpack the target shape\n",
    "    y_, x_ = shape\n",
    "\n",
    "    # Get the current shape of the array\n",
    "    y, x = a.shape\n",
    "\n",
    "    # Calculate the padding needed in the y and x directions\n",
    "    y_pad = y_ - y\n",
    "    x_pad = x_ - x\n",
    "    output = np.zeros()\n",
    "    # Pad the array using numpy's pad function\n",
    "    return np.pad(\n",
    "        a,\n",
    "        [(0, 1), (0, 1)],\n",
    "        # Calculate the padding for each dimension\n",
    "        #((y_pad // 2, y_pad // 2 + y_pad % 2), (x_pad // 2, x_pad // 2 + x_pad % 2)),\n",
    "        mode=\"constant\",\n",
    "    )\n",
    "\n",
    "\n",
    "# Function to pad data and labels to a specific shape\n",
    "def apply_padding(data_df, N, T_max):\n",
    "    # Define the final shape of the data and labels\n",
    "    final_shape = (N, T_max, 3)\n",
    "\n",
    "    # Initialize the final data and labels with zeros\n",
    "    final_data = np.zeros(final_shape)\n",
    "    final_label = np.zeros((N, T_max, 3))\n",
    "\n",
    "    # Select a random subset of trajectory indices\n",
    "    if len(data_df[\"traj_idx\"].unique()) < N:\n",
    "        selected_ids = data_df[\"traj_idx\"].unique()\n",
    "    else:\n",
    "        selected_ids = np.random.choice(\n",
    "            data_df[\"traj_idx\"].unique(), size=N, replace=False\n",
    "        )\n",
    "\n",
    "    # Iterate over the selected trajectory indices\n",
    "    for n, id in enumerate(selected_ids):\n",
    "        # Filter the data for the current trajectory index\n",
    "        exp = data_df[data_df[\"traj_idx\"] == id]\n",
    "\n",
    "        # Extract the data and labels for the current trajectory\n",
    "        data = exp[[\"frame\", \"x\", \"y\"]].to_numpy()\n",
    "        # print(exp[\"frame\"])\n",
    "        label = exp[[\"alpha\", \"D\", \"state\"]].to_numpy()\n",
    "\n",
    "        # If the data is longer than T_max, truncate it\n",
    "        if data.shape[0] > T_max:\n",
    "            final_data[n, :, :] = data[:T_max, :]\n",
    "            final_label[n, :, :] = label[:T_max, :]\n",
    "\n",
    "        # Otherwise, pad the data to T_max\n",
    "        else:\n",
    "            # print((label.shape, T_max))\n",
    "            final_data[n, :data.shape[0], :] = data\n",
    "            final_label[n, :data.shape[0], :] = label\n",
    "\n",
    "    # Return the padded data and labels\n",
    "    return final_data, final_label\n",
    "\n",
    "\n",
    "# Define a function to normalize data\n",
    "def normalize_df(data):\n",
    "    # Calculate displacement in x and y directions\n",
    "    # Normalize by substring mean and dividing by variance.\n",
    "\n",
    "    displacement_x = []\n",
    "    displacement_y = []\n",
    "    for _, group in data.groupby(\"traj_idx\"):\n",
    "        x = np.asarray(group[\"x\"])\n",
    "        y = np.asarray(group[\"y\"])\n",
    "        d_x = x[1:] - x[:-1]\n",
    "        d_y = y[1:] - y[:-1]\n",
    "        displacement_x = displacement_x + list(d_x)\n",
    "        displacement_y = displacement_y + list(d_y)\n",
    "\n",
    "    # Calculate variance in x and y directions\n",
    "    variance_x = np.sqrt(np.std(displacement_x))\n",
    "    variance_y = np.sqrt(np.std(displacement_y))\n",
    "\n",
    "    # Normalize data\n",
    "    data.loc[:, \"x\"] = (data[\"x\"] - data[\"x\"].mean()) / variance_x\n",
    "    data.loc[:, \"y\"] = (data[\"y\"] - data[\"y\"].mean()) / variance_y\n",
    "\n",
    "\n",
    "def normalize_np(data):\n",
    "\n",
    "    displacement_x = []\n",
    "    displacement_y = []\n",
    "    for n in range(data.shape[0]):\n",
    "        x = data[n, :, 1]\n",
    "        y = data[n, :, 2]\n",
    "        d_x = x[1:] - x[:-1]\n",
    "        d_y = y[1:] - y[:-1]\n",
    "        displacement_x = displacement_x + list(d_x)\n",
    "        displacement_y = displacement_y + list(d_y)\n",
    "\n",
    "    # Calculate variance in x and y directions\n",
    "    variance_x = np.sqrt(np.std(displacement_x))\n",
    "    variance_y = np.sqrt(np.std(displacement_y))\n",
    "\n",
    "    # Normalize data\n",
    "\n",
    "    data[:, :, 1] = (data[:, :, 1] - np.mean(data[:, :, 1])) / variance_x\n",
    "    data[:, :, 2] = (data[:, :, 2] - np.mean(data[:, :, 2])) / variance_x\n",
    "\n",
    "    return data\n",
    "\n",
    "\n",
    "# Define a function to list directory tree with pathlib\n",
    "def list_directory_tree_with_pathlib(starting_directory):\n",
    "    path_object = Path(starting_directory)\n",
    "    folders = []\n",
    "    for file_path in path_object.rglob(\"*.csv\"):\n",
    "        folders.append(file_path)\n",
    "    return folders\n",
    "\n",
    "\n",
    "# Define a custom dataset class for all data\n",
    "@dataclass\n",
    "class Dataset_all_data(Dataset):\n",
    "    # Initialize filenames and transform flag\n",
    "    # Pad value should be a tuple such as (N, Tmax)\n",
    "    filenames: list\n",
    "    transform: bool = False\n",
    "    pad: None | tuple = None\n",
    "    noise: bool = False\n",
    "\n",
    "    def __len__(self):\n",
    "        # Return the number of files\n",
    "        return len(self.filenames)\n",
    "\n",
    "    def __getitem__(self, idx):\n",
    "        # Read csv file and extract data and label\n",
    "        df = pd.read_csv(self.filenames[idx])\n",
    "\n",
    "        if self.pad is None:\n",
    "            data = df[[\"traj_idx\", \"frame\", \"x\", \"y\"]]\n",
    "            label = np.asarray(df[[\"alpha\", \"D\"]])\n",
    "            label_2 = np.asarray(df[\"state\"])\n",
    "\n",
    "        else:\n",
    "            if len(self.pad) != 2:\n",
    "                raise ValueError(\"pad value should be set as (N, T_max)\")\n",
    "            data, label = apply_padding(df, *self.pad)\n",
    "            label_2 = label[:, :, -1]\n",
    "            label_2[label_2[:, :] > 0] = label_2[label_2[:, :] > 0] - 1\n",
    "            label = label[:, :, :-1]\n",
    "\n",
    "        # Normalize data if transform flag is True\n",
    "        if self.transform:\n",
    "            if self.pad is None:\n",
    "                normalize_df(data)\n",
    "                data = np.asarray(data)\n",
    "            else:\n",
    "                data = normalize_np(data)\n",
    "\n",
    "        if self.noise:\n",
    "            data = add_noise(data)\n",
    "            \n",
    "\n",
    "        # Return data and label\n",
    "        return torch.from_numpy(data.astype(np.float32)), (\n",
    "            torch.from_numpy(label.astype(np.float32)),\n",
    "            torch.from_numpy(label_2.astype(np.float32)),\n",
    "        )\n",
    "    \n",
    "def add_noise(data):\n",
    "    noise_amplitude = np.random.choice([0.01, 0.1, 1])\n",
    "    noise = np.random.normal(0, noise_amplitude, data[:,:,1:].shape)\n",
    "    data[:,:,1:] = data[:,:,1:] + data[:,:,1:]*noise\n",
    "    return  data"
   ]
  },
  {
   "cell_type": "code",
   "execution_count": 3,
   "metadata": {},
   "outputs": [],
   "source": [
    "# [x[\"frame\"].iloc[-1] - x[\"frame\"].iloc[0] for _, x in df.groupby(\"traj_idx\")]"
   ]
  },
  {
   "cell_type": "code",
   "execution_count": 4,
   "metadata": {},
   "outputs": [],
   "source": [
    "all_data_set = list_directory_tree_with_pathlib(\n",
    "    r\"/home/m.lavaud/Documents/Zeus/I2/T_500_const_100_to_150/batch_T_Const_1\",\n",
    ")"
   ]
  },
  {
   "cell_type": "code",
   "execution_count": null,
   "metadata": {},
   "outputs": [],
   "source": []
  },
  {
   "cell_type": "code",
   "execution_count": null,
   "metadata": {},
   "outputs": [],
   "source": []
  },
  {
   "cell_type": "code",
   "execution_count": 5,
   "metadata": {},
   "outputs": [],
   "source": [
    "import random\n",
    "\n",
    "random.shuffle(all_data_set)"
   ]
  },
  {
   "cell_type": "code",
   "execution_count": 6,
   "metadata": {},
   "outputs": [],
   "source": [
    "training_dataset = Dataset_all_data(all_data_set, transform=False, noise=True, pad=(50, 200))"
   ]
  },
  {
   "cell_type": "code",
   "execution_count": 7,
   "metadata": {},
   "outputs": [],
   "source": [
    "a = next(iter(training_dataset))"
   ]
  },
  {
   "cell_type": "code",
   "execution_count": 8,
   "metadata": {},
   "outputs": [
    {
     "data": {
      "text/plain": [
       "tensor([301., 302., 303., 304., 305., 306., 307., 308., 309., 310., 311., 312.,\n",
       "        313., 314., 315., 316., 317., 318., 319., 320., 321., 322., 323., 324.,\n",
       "        325., 326., 327., 328., 329., 330., 331., 332., 333., 334., 335., 336.,\n",
       "        337., 338., 339., 340., 341., 342., 343., 344., 345., 346., 347., 348.,\n",
       "        349., 350., 351., 352., 353., 354., 355., 356., 357., 358., 359., 360.,\n",
       "        361., 362., 363., 364., 365., 366., 367., 368., 369., 370., 371., 372.,\n",
       "        373., 374., 375., 376., 377., 378., 379., 380., 381., 382., 383., 384.,\n",
       "        385., 386., 387., 388., 389., 390., 391., 392., 393., 394., 395., 396.,\n",
       "        397., 398., 399., 400., 401., 402., 403., 404., 405., 406., 407.,   0.,\n",
       "          0.,   0.,   0.,   0.,   0.,   0.,   0.,   0.,   0.,   0.,   0.,   0.,\n",
       "          0.,   0.,   0.,   0.,   0.,   0.,   0.,   0.,   0.,   0.,   0.,   0.,\n",
       "          0.,   0.,   0.,   0.,   0.,   0.,   0.,   0.,   0.,   0.,   0.,   0.,\n",
       "          0.,   0.,   0.,   0.,   0.,   0.,   0.,   0.,   0.,   0.,   0.,   0.,\n",
       "          0.,   0.,   0.,   0.,   0.,   0.,   0.,   0.,   0.,   0.,   0.,   0.,\n",
       "          0.,   0.,   0.,   0.,   0.,   0.,   0.,   0.,   0.,   0.,   0.,   0.,\n",
       "          0.,   0.,   0.,   0.,   0.,   0.,   0.,   0.,   0.,   0.,   0.,   0.,\n",
       "          0.,   0.,   0.,   0.,   0.,   0.,   0.,   0.])"
      ]
     },
     "execution_count": 8,
     "metadata": {},
     "output_type": "execute_result"
    }
   ],
   "source": [
    "a[0][6,:,0]"
   ]
  },
  {
   "cell_type": "code",
   "execution_count": 9,
   "metadata": {},
   "outputs": [],
   "source": [
    "import torch.nn as nn\n",
    "import torch.optim as optim"
   ]
  },
  {
   "cell_type": "markdown",
   "metadata": {},
   "source": [
    "## Setting up the model\n",
    "\n",
    "The different hyperparameters are below, and will have to be modified "
   ]
  },
  {
   "cell_type": "code",
   "execution_count": 10,
   "metadata": {},
   "outputs": [
    {
     "name": "stdout",
     "output_type": "stream",
     "text": [
      "importing gpu Mamba\n"
     ]
    },
    {
     "name": "stderr",
     "output_type": "stream",
     "text": [
      "/home/m.lavaud/miniconda3/envs/torch/lib/python3.12/site-packages/tqdm/auto.py:21: TqdmWarning: IProgress not found. Please update jupyter and ipywidgets. See https://ipywidgets.readthedocs.io/en/stable/user_install.html\n",
      "  from .autonotebook import tqdm as notebook_tqdm\n"
     ]
    }
   ],
   "source": [
    "learning_rate = 1e-2\n",
    "max_epochs = 10\n",
    "max_particles = 20\n",
    "max_traj_len = 200\n",
    "\n",
    "\n",
    "training_dataset = Dataset_all_data(\n",
    "    all_data_set[:500], transform=False, pad=(max_particles, max_traj_len)\n",
    ")\n",
    "dataloader = DataLoader(training_dataset, shuffle=True, batch_size=10, num_workers=1)\n",
    "len_exp = max_particles * max_traj_len\n",
    "\n",
    "\n",
    "config = EmetConfig(\n",
    "    d_model=3,\n",
    "    n_layers=16,\n",
    "    dt_rank=\"auto\",\n",
    "    d_state=16,\n",
    "    expand_factor=2,\n",
    "    d_conv=4,\n",
    "    dt_min=0.001,\n",
    "    dt_max=0.1,\n",
    "    dt_init=\"random\",\n",
    "    dt_scale=1.0,\n",
    "    rms_norm_eps=1e-5,\n",
    "    bias=False,\n",
    "    conv_bias=True,\n",
    "    inner_layernorms=False,\n",
    "    pscan=True,\n",
    "    use_cuda=True,\n",
    "    bi_mamba_stacks=1,\n",
    "    conv_stack=3,\n",
    "    dropout=0.05,\n",
    ")"
   ]
  },
  {
   "cell_type": "code",
   "execution_count": 11,
   "metadata": {},
   "outputs": [],
   "source": [
    "model = EmetMamba(config=config)"
   ]
  },
  {
   "cell_type": "code",
   "execution_count": 12,
   "metadata": {},
   "outputs": [
    {
     "data": {
      "text/plain": [
       "EmetMamba(config=EmetConfig(d_model=3, n_layers=16, dt_rank=1, d_state=16, expand_factor=2, d_conv=4, dt_min=0.001, dt_max=0.1, dt_init='random', dt_scale=1.0, rms_norm_eps=1e-05, bias=False, conv_bias=True, inner_layernorms=False, pscan=True, use_cuda=True, bi_mamba_stacks=1, conv_stack=3, dropout=0.05))"
      ]
     },
     "execution_count": 12,
     "metadata": {},
     "output_type": "execute_result"
    }
   ],
   "source": [
    "model.train()"
   ]
  },
  {
   "cell_type": "code",
   "execution_count": 13,
   "metadata": {},
   "outputs": [],
   "source": [
    "from tqdm import tqdm"
   ]
  },
  {
   "cell_type": "code",
   "execution_count": 14,
   "metadata": {},
   "outputs": [
    {
     "name": "stderr",
     "output_type": "stream",
     "text": [
      "  0%|          | 0/50 [00:00<?, ?batch/s]"
     ]
    },
    {
     "name": "stderr",
     "output_type": "stream",
     "text": [
      "Epoch 0: 100%|██████████| 50/50 [01:16<00:00,  1.54s/batch, loss=0.496]\n",
      "Epoch 1: 100%|██████████| 50/50 [01:01<00:00,  1.23s/batch, loss=0.746]\n",
      "Epoch 2: 100%|██████████| 50/50 [01:02<00:00,  1.24s/batch, loss=0.49] \n",
      "Epoch 3: 100%|██████████| 50/50 [01:03<00:00,  1.27s/batch, loss=0.62] \n",
      "Epoch 4: 100%|██████████| 50/50 [01:00<00:00,  1.20s/batch, loss=0.528]\n",
      "Epoch 5: 100%|██████████| 50/50 [01:01<00:00,  1.22s/batch, loss=0.788]\n",
      "Epoch 6: 100%|██████████| 50/50 [01:02<00:00,  1.25s/batch, loss=0.279]\n",
      "Epoch 7: 100%|██████████| 50/50 [01:00<00:00,  1.22s/batch, loss=0.246]\n",
      "Epoch 8: 100%|██████████| 50/50 [01:00<00:00,  1.20s/batch, loss=0.49] \n",
      "Epoch 9: 100%|██████████| 50/50 [01:01<00:00,  1.22s/batch, loss=0.353]\n"
     ]
    },
    {
     "data": {
      "text/plain": [
       "EmetMamba(config=EmetConfig(d_model=3, n_layers=16, dt_rank=1, d_state=16, expand_factor=2, d_conv=4, dt_min=0.001, dt_max=0.1, dt_init='random', dt_scale=1.0, rms_norm_eps=1e-05, bias=False, conv_bias=True, inner_layernorms=False, pscan=True, use_cuda=True, bi_mamba_stacks=1, conv_stack=3, dropout=0.05))"
      ]
     },
     "execution_count": 14,
     "metadata": {},
     "output_type": "execute_result"
    }
   ],
   "source": [
    "classification_criterion = nn.CrossEntropyLoss()\n",
    "# Define optimizer\n",
    "running_total_loss = []\n",
    "running_classification_loss = []\n",
    "running_regression_loss = []\n",
    "model = EmetMamba(config=config)\n",
    "optimizer = optim.Adam(model.parameters(), lr=learning_rate)\n",
    "# Training loop\n",
    "\n",
    "class RMSLELoss(nn.Module):\n",
    "    def __init__(self):\n",
    "        super().__init__()\n",
    "        self.mse = nn.MSELoss()\n",
    "        \n",
    "    def forward(self, pred, actual):\n",
    "        return torch.sqrt(self.mse(torch.log(pred + 1), torch.log(actual + 1)))\n",
    "\n",
    "\n",
    "regression_criterion = RMSLELoss()\n",
    "\n",
    "for epoch in range(max_epochs):\n",
    "    with tqdm(dataloader, unit=\"batch\") as tepoch:\n",
    "        running_loss = []\n",
    "        for inputs, (regression_targets, classification_targets) in tepoch:\n",
    "        # for inputs, classification_targets in tepoch:\n",
    "            tepoch.set_description(f\"Epoch {epoch}\")\n",
    "\n",
    "            inputs = inputs.to(\"cuda\")\n",
    "            # classification_targets = torch.flatten(\n",
    "            #     classification_targets, start_dim=1, end_dim=2\n",
    "            # ).type(torch.LongTensor)\n",
    "            # classification_targets = classification_targets.to(\"cuda\")\n",
    "\n",
    "            regression_targets = torch.flatten(\n",
    "                regression_targets, start_dim=1, end_dim=2\n",
    "            ).to(\"cuda\")\n",
    "            optimizer.zero_grad()\n",
    "            #classification_output, regression_output = model(inputs)\n",
    "\n",
    "            regression_output = model(inputs)\n",
    "\n",
    "            regression_loss = regression_criterion(\n",
    "                regression_output, regression_targets\n",
    "            )\n",
    "            # classification_loss = classification_criterion(\n",
    "            #     classification_output.view(-1, 3).to(\"cpu\"),\n",
    "            #     classification_targets.view(-1).to(\"cpu\"),\n",
    "            # )\n",
    "            # classification_loss = classification_loss.to(\"cuda\")\n",
    "            total_loss =  regression_loss #classification_loss \n",
    "            total_loss.backward()\n",
    "            optimizer.step()\n",
    "\n",
    "            tepoch.set_postfix(\n",
    "                loss=total_loss.item(),\n",
    "                # regression_loss=regression_loss.item(),\n",
    "                # classification_loss=classification_loss.item(),\n",
    "            )\n",
    "            running_loss.append(total_loss.item())\n",
    "        running_total_loss.append(np.mean(running_loss))\n",
    "        # running_regression_loss.append(classification_loss.item())\n",
    "        # running_regression_loss.append(regression_loss.item())\n",
    "# Evaluation\n",
    "model.eval()"
   ]
  },
  {
   "cell_type": "code",
   "execution_count": 17,
   "metadata": {},
   "outputs": [],
   "source": [
    "import matplotlib.pyplot as plt"
   ]
  },
  {
   "cell_type": "code",
   "execution_count": 18,
   "metadata": {},
   "outputs": [
    {
     "data": {
      "text/plain": [
       "[<matplotlib.lines.Line2D at 0x74f81205b2f0>]"
      ]
     },
     "execution_count": 18,
     "metadata": {},
     "output_type": "execute_result"
    },
    {
     "data": {
      "image/png": "[encoded data removed]",
      "text/plain": [
       "<Figure size 640x480 with 1 Axes>"
      ]
     },
     "metadata": {},
     "output_type": "display_data"
    }
   ],
   "source": [
    "plt.figure()\n",
    "plt.plot(running_total_loss)\n"
   ]
  },
  {
   "cell_type": "markdown",
   "metadata": {},
   "source": []
  }
 ],
 "metadata": {
  "kernelspec": {
   "display_name": "torch",
   "language": "python",
   "name": "python3"
  },
  "language_info": {
   "codemirror_mode": {
    "name": "ipython",
    "version": 3
   },
   "file_extension": ".py",
   "mimetype": "text/x-python",
   "name": "python",
   "nbconvert_exporter": "python",
   "pygments_lexer": "ipython3",
   "version": "3.12.3"
  }
 },
 "nbformat": 4,
 "nbformat_minor": 2
}
