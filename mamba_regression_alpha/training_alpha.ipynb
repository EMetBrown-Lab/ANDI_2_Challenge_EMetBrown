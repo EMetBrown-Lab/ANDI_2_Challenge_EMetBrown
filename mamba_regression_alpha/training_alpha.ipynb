{
 "cells": [
  {
   "cell_type": "code",
   "execution_count": 7,
   "id": "e6bd027a-e648-467a-b41e-edd86e51af5e",
   "metadata": {},
   "outputs": [],
   "source": [
    "from train_alpha import train\n",
    "import torch"
   ]
  },
  {
   "cell_type": "code",
   "execution_count": 3,
   "id": "1eb60073-82f2-460e-be26-e95c027d2ad6",
   "metadata": {},
   "outputs": [
    {
     "name": "stdout",
     "output_type": "stream",
     "text": [
      "importing gpu Mamba\n"
     ]
    },
    {
     "name": "stderr",
     "output_type": "stream",
     "text": [
      "Epoch 0: 100%|█████████████████| 800/800 [02:10<00:00,  6.15batch/s, loss=0.347]\n",
      "Epoch 1: 100%|█████████████████| 800/800 [02:09<00:00,  6.18batch/s, loss=0.377]\n",
      "Epoch 2: 100%|█████████████████| 800/800 [02:09<00:00,  6.18batch/s, loss=0.507]\n",
      "Epoch 3: 100%|███████████████████| 800/800 [02:09<00:00,  6.16batch/s, loss=0.6]\n",
      "Epoch 4: 100%|█████████████████| 800/800 [02:10<00:00,  6.15batch/s, loss=0.356]\n",
      "Epoch 5: 100%|█████████████████| 800/800 [02:09<00:00,  6.18batch/s, loss=0.271]\n",
      "Epoch 6: 100%|█████████████████| 800/800 [02:10<00:00,  6.14batch/s, loss=0.431]\n",
      "Epoch 7: 100%|█████████████████| 800/800 [02:10<00:00,  6.14batch/s, loss=0.314]\n",
      "Epoch 8: 100%|█████████████████| 800/800 [02:07<00:00,  6.27batch/s, loss=0.313]\n",
      "Epoch 9: 100%|██████████████████| 800/800 [02:05<00:00,  6.39batch/s, loss=0.56]\n"
     ]
    }
   ],
   "source": [
    "result, model = train((2,0.1,1e-3,8))"
   ]
  },
  {
   "cell_type": "code",
   "execution_count": 8,
   "id": "f2465c2b-b877-4ace-9491-5e49be40fc9c",
   "metadata": {},
   "outputs": [],
   "source": [
    "torch.save(model, \"model_alpha_2_0p1_1e-4_8_8kexps\")"
   ]
  },
  {
   "cell_type": "code",
   "execution_count": 9,
   "id": "8a40ef70-a4b7-4810-b171-5f87e38aad16",
   "metadata": {},
   "outputs": [
    {
     "data": {
      "text/plain": [
       "{'bi_mamba_stacks': 2,\n",
       " 'n_layers': 8,\n",
       " 'dropout': 0.1,\n",
       " 'learning_rate': 0.001,\n",
       " 'running_regression_total_loss': [0.4046241774316877,\n",
       "  0.3854392212163657,\n",
       "  0.3836742155905813,\n",
       "  0.3849485807307065,\n",
       "  0.3862828047107905,\n",
       "  0.38416287339292465,\n",
       "  0.3833316780906171,\n",
       "  0.3856102884374559,\n",
       "  0.38347977004013956,\n",
       "  0.38297127939760683],\n",
       " 'running_test_loss': [0.0008224133905023336,\n",
       "  0.0007433623317629099,\n",
       "  0.0007730923648923636,\n",
       "  0.000762130182236433,\n",
       "  0.0006659425441175699,\n",
       "  0.0007089884821325541,\n",
       "  0.0006850401870906353,\n",
       "  0.0007180025018751621,\n",
       "  0.0007761581316590309,\n",
       "  0.0007761523984372616]}"
      ]
     },
     "execution_count": 9,
     "metadata": {},
     "output_type": "execute_result"
    }
   ],
   "source": [
    "result"
   ]
  },
  {
   "cell_type": "code",
   "execution_count": null,
   "id": "d55b6683-ea3f-45ed-8809-7942cce0c979",
   "metadata": {},
   "outputs": [],
   "source": []
  }
 ],
 "metadata": {
  "kernelspec": {
   "display_name": "Python 3 (ipykernel)",
   "language": "python",
   "name": "python3"
  },
  "language_info": {
   "codemirror_mode": {
    "name": "ipython",
    "version": 3
   },
   "file_extension": ".py",
   "mimetype":