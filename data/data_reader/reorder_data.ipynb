{
 "cells": [
  {
   "cell_type": "code",
   "execution_count": 164,
   "metadata": {},
   "outputs": [],
   "source": [
    "from glob import glob\n",
    "from pathlib import Path\n",
    "import os\n",
    "import shutil\n"
   ]
  },
  {
   "cell_type": "code",
   "execution_count": 2,
   "metadata": {},
   "outputs": [],
   "source": [
    "def list_files(starting_directory):\n",
    "    files = []\n",
    "    for root, directories, files in os.walk(starting_directory):\n",
    "        for file in files:\n",
    "            files.append(file)\n",
    "    return files"
   ]
  },
  {
   "cell_type": "code",
   "execution_count": 87,
   "metadata": {},
   "outputs": [],
   "source": [
    "def list_directory_tree_with_pathlib(starting_directory):\n",
    "    path_object = Path(starting_directory)\n",
    "    folders = []\n",
    "    for file_path in path_object.rglob('*'):\n",
    "        if file_path.is_file():\n",
    "            continue\n",
    "        elif file_path.is_dir():\n",
    "            if not file_path.parent == Path(\"data/small_batch_1/\"):\n",
    "                folders.append(file_path)\n",
    "    return folders"
   ]
  },
  {
   "cell_type": "code",
   "execution_count": 92,
   "metadata": {},
   "outputs": [],
   "source": [
    "folders = list(set(list_directory_tree_with_pathlib(\"data/small_batch_1/\")))"
   ]
  },
  {
   "cell_type": "code",
   "execution_count": 93,
   "metadata": {},
   "outputs": [],
   "source": [
    "folder = folders[0]"
   ]
  },
  {
   "cell_type": "code",
   "execution_count": 118,
   "metadata": {},
   "outputs": [],
   "source": [
    "files = [i for i in folder.glob(\"*.csv\")]"
   ]
  },
  {
   "cell_type": "code",
   "execution_count": 134,
   "metadata": {},
   "outputs": [],
   "source": [
    "a = [str(i).split(\"_\")[-3] for i in files]"
   ]
  },
  {
   "cell_type": "code",
   "execution_count": 165,
   "metadata": {},
   "outputs": [],
   "source": [
    "for folder in folders:\n",
    "    files = [i for i in folder.glob(\"*.csv\")]\n",
    "    a = [str(i).split(\"_\")[-3] for i in files]\n",
    "    for n in a:\n",
    "        files_to_move  = [i for i in folder.glob(\"*\" + a[0] + \"_fov_0.*\")]\n",
    "        path_to_file = files_to_move[0].parent / n\n",
    "        path_to_file.mkdir(parents=True, exist_ok=True)\n",
    "        for i in files_to_move:\n",
    "            shutil.move(i, path_to_file) \n"
   ]
  }
 ],
 "metadata": {
  "kernelspec": {
   "display_name": "Python 3 (ipykernel)",
   "language": "python",
   "name": "python3"
  },
  "language_info": {
   "codemirror_mode": {
    "name": "ipython",
    "version": 3
   },
   "file_extension": ".py",
   "mimetype": "text/x-python",
   "name": "python",
   "nbconvert_exporter": "python",
   "pygments_lexer": "ipython3",
   "version": "3.10.14"
  }
 },
 "nbformat": 4,
 "nbformat_minor": 2
}
