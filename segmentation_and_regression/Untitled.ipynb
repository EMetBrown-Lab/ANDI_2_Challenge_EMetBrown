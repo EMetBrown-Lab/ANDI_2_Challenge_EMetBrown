{
 "cells": [
  {
   "cell_type": "code",
   "execution_count": 1,
   "id": "c218a625",
   "metadata": {},
   "outputs": [],
   "source": [
    "import sys\n",
    "# sys.path.insert(0,'/home/m.lavaud/ANDI_2_Challenge_EMetBrown/mamba_classification')"
   ]
  },
  {
   "cell_type": "code",
   "execution_count": 2,
   "id": "1961f3bd",
   "metadata": {},
   "outputs": [
    {
     "data": {
      "text/plain": [
       "list"
      ]
     },
     "execution_count": 2,
     "metadata": {},
     "output_type": "execute_result"
    }
   ],
   "source": [
    "list"
   ]
  },
  {
   "cell_type": "code",
   "execution_count": 3,
   "id": "d3a4c625-1262-40f8-8bf6-10af6a1f0509",
   "metadata": {},
   "outputs": [],
   "source": [
    "from train_fn import train\n",
    "from train_classification import train as train_classification\n",
    "import torch"
   ]
  },
  {
   "cell_type": "code",
   "execution_count": 4,
   "id": "1e29ef47-b60d-48c2-ac8a-8cfac322103c",
   "metadata": {},
   "outputs": [
    {
     "name": "stdout",
     "output_type": "stream",
     "text": [
      "importing gpu Mamba\n"
     ]
    },
    {
     "name": "stderr",
     "output_type": "stream",
     "text": [
      "/home/m.lavaud/miniconda3/envs/torch/lib/python3.12/site-packages/tqdm/auto.py:21: TqdmWarning: IProgress not found. Please update jupyter and ipywidgets. See https://ipywidgets.readthedocs.io/en/stable/user_install.html\n",
      "  from .autonotebook import tqdm as notebook_tqdm\n",
      "Epoch 0:   0%|          | 0/50 [00:00<?, ?batch/s]/home/m.lavaud/miniconda3/envs/torch/lib/python3.12/site-packages/torch/nn/modules/loss.py:535: UserWarning: Using a target size (torch.Size([10, 4000, 2])) that is different to the input size (torch.Size([10, 4000, 1])). This will likely lead to incorrect results due to broadcasting. Please ensure they have the same size.\n",
      "  return F.mse_loss(input, target, reduction=self.reduction)\n",
      "Epoch 0:   2%|▏         | 1/50 [00:01<00:47,  1.04batch/s, loss=nan]/home/m.lavaud/miniconda3/envs/torch/lib/python3.12/site-packages/torch/nn/modules/loss.py:535: UserWarning: Using a target size (torch.Size([10, 4000, 2])) that is different to the input size (torch.Size([10, 4000, 1])). This will likely lead to incorrect results due to broadcasting. Please ensure they have the same size.\n",
      "  return F.mse_loss(input, target, reduction=self.reduction)\n",
      "Epoch 0:   4%|▍         | 2/50 [00:02<00:38,  1.26batch/s, loss=nan]/home/m.lavaud/miniconda3/envs/torch/lib/python3.12/site-packages/torch/nn/modules/loss.py:535: UserWarning: Using a target size (torch.Size([10, 4000, 2])) that is different to the input size (torch.Size([10, 4000, 1])). This will likely lead to incorrect results due to broadcasting. Please ensure they have the same size.\n",
      "  return F.mse_loss(input, target, reduction=self.reduction)\n",
      "Epoch 0:   6%|▌         | 3/50 [00:03<00:36,  1.28batch/s, loss=nan]/home/m.lavaud/miniconda3/envs/torch/lib/python3.12/site-packages/torch/nn/modules/loss.py:535: UserWarning: Using a target size (torch.Size([10, 4000, 2])) that is different to the input size (torch.Size([10, 4000, 1])). This will likely lead to incorrect results due to broadcasting. Please ensure they have the same size.\n",
      "  return F.mse_loss(input, target, reduction=self.reduction)\n",
      "Epoch 0:   8%|▊         | 4/50 [00:04<00:37,  1.23batch/s, loss=nan]/home/m.lavaud/miniconda3/envs/torch/lib/python3.12/site-packages/torch/nn/modules/loss.py:535: UserWarning: Using a target size (torch.Size([10, 4000, 2])) that is different to the input size (torch.Size([10, 4000, 1])). This will likely lead to incorrect results due to broadcasting. Please ensure they have the same size.\n",
      "  return F.mse_loss(input, target, reduction=self.reduction)\n",
      "Epoch 0:  10%|█         | 5/50 [00:04<00:36,  1.22batch/s, loss=nan]/home/m.lavaud/miniconda3/envs/torch/lib/python3.12/site-packages/torch/nn/modules/loss.py:535: UserWarning: Using a target size (torch.Size([10, 4000, 2])) that is different to the input size (torch.Size([10, 4000, 1])). This will likely lead to incorrect results due to broadcasting. Please ensure they have the same size.\n",
      "  return F.mse_loss(input, target, reduction=self.reduction)\n",
      "Epoch 0:  12%|█▏        | 6/50 [00:05<00:34,  1.27batch/s, loss=nan]/home/m.lavaud/miniconda3/envs/torch/lib/python3.12/site-packages/torch/nn/modules/loss.py:535: UserWarning: Using a target size (torch.Size([10, 4000, 2])) that is different to the input size (torch.Size([10, 4000, 1])). This will likely lead to incorrect results due to broadcasting. Please ensure they have the same size.\n",
      "  return F.mse_loss(input, target, reduction=self.reduction)\n",
      "Epoch 0:  14%|█▍        | 7/50 [00:06<00:32,  1.30batch/s, loss=nan]/home/m.lavaud/miniconda3/envs/torch/lib/python3.12/site-packages/torch/nn/modules/loss.py:535: UserWarning: Using a target size (torch.Size([10, 4000, 2])) that is different to the input size (torch.Size([10, 4000, 1])). This will likely lead to incorrect results due to broadcasting. Please ensure they have the same size.\n",
      "  return F.mse_loss(input, target, reduction=self.reduction)\n",
      "Epoch 0:  16%|█▌        | 8/50 [00:07<00:33,  1.26batch/s, loss=nan]/home/m.lavaud/miniconda3/envs/torch/lib/python3.12/site-packages/torch/nn/modules/loss.py:535: UserWarning: Using a target size (torch.Size([10, 4000, 2])) that is different to the input size (torch.Size([10, 4000, 1])). This will likely lead to incorrect results due to broadcasting. Please ensure they have the same size.\n",
      "  return F.mse_loss(input, target, reduction=self.reduction)\n",
      "Epoch 0:  18%|█▊        | 9/50 [00:07<00:32,  1.26batch/s, loss=nan]/home/m.lavaud/miniconda3/envs/torch/lib/python3.12/site-packages/torch/nn/modules/loss.py:535: UserWarning: Using a target size (torch.Size([10, 4000, 2])) that is different to the input size (torch.Size([10, 4000, 1])). This will likely lead to incorrect results due to broadcasting. Please ensure they have the same size.\n",
      "  return F.mse_loss(input, target, reduction=self.reduction)\n",
      "Epoch 0:  20%|██        | 10/50 [00:08<00:32,  1.24batch/s, loss=nan]/home/m.lavaud/miniconda3/envs/torch/lib/python3.12/site-packages/torch/nn/modules/loss.py:535: UserWarning: Using a target size (torch.Size([10, 4000, 2])) that is different to the input size (torch.Size([10, 4000, 1])). This will likely lead to incorrect results due to broadcasting. Please ensure they have the same size.\n",
      "  return F.mse_loss(input, target, reduction=self.reduction)\n",
      "Epoch 0:  22%|██▏       | 11/50 [00:09<00:31,  1.24batch/s, loss=nan]/home/m.lavaud/miniconda3/envs/torch/lib/python3.12/site-packages/torch/nn/modules/loss.py:535: UserWarning: Using a target size (torch.Size([10, 4000, 2])) that is different to the input size (torch.Size([10, 4000, 1])). This will likely lead to incorrect results due to broadcasting. Please ensure they have the same size.\n",
      "  return F.mse_loss(input, target, reduction=self.reduction)\n",
      "Epoch 0:  24%|██▍       | 12/50 [00:10<00:30,  1.26batch/s, loss=nan]/home/m.lavaud/miniconda3/envs/torch/lib/python3.12/site-packages/torch/nn/modules/loss.py:535: UserWarning: Using a target size (torch.Size([10, 4000, 2])) that is different to the input size (torch.Size([10, 4000, 1])). This will likely lead to incorrect results due to broadcasting. Please ensure they have the same size.\n",
      "  return F.mse_loss(input, target, reduction=self.reduction)\n",
      "Epoch 0:  26%|██▌       | 13/50 [00:11<00:29,  1.26batch/s, loss=nan]/home/m.lavaud/miniconda3/envs/torch/lib/python3.12/site-packages/torch/nn/modules/loss.py:535: UserWarning: Using a target size (torch.Size([10, 4000, 2])) that is different to the input size (torch.Size([10, 4000, 1])). This will likely lead to incorrect results due to broadcasting. Please ensure they have the same size.\n",
      "  return F.mse_loss(input, target, reduction=self.reduction)\n",
      "Epoch 0:  28%|██▊       | 14/50 [00:12<00:28,  1.24batch/s, loss=nan]/home/m.lavaud/miniconda3/envs/torch/lib/python3.12/site-packages/torch/nn/modules/loss.py:535: UserWarning: Using a target size (torch.Size([10, 4000, 2])) that is different to the input size (torch.Size([10, 4000, 1])). This will likely lead to incorrect results due to broadcasting. Please ensure they have the same size.\n",
      "  return F.mse_loss(input, target, reduction=self.reduction)\n",
      "Epoch 0:  30%|███       | 15/50 [00:12<00:29,  1.19batch/s, loss=nan]/home/m.lavaud/miniconda3/envs/torch/lib/python3.12/site-packages/torch/nn/modules/loss.py:535: UserWarning: Using a target size (torch.Size([10, 4000, 2])) that is different to the input size (torch.Size([10, 4000, 1])). This will likely lead to incorrect results due to broadcasting. Please ensure they have the same size.\n",
      "  return F.mse_loss(input, target, reduction=self.reduction)\n",
      "Epoch 0:  32%|███▏      | 16/50 [00:13<00:27,  1.22batch/s, loss=nan]/home/m.lavaud/miniconda3/envs/torch/lib/python3.12/site-packages/torch/nn/modules/loss.py:535: UserWarning: Using a target size (torch.Size([10, 4000, 2])) that is different to the input size (torch.Size([10, 4000, 1])). This will likely lead to incorrect results due to broadcasting. Please ensure they have the same size.\n",
      "  return F.mse_loss(input, target, reduction=self.reduction)\n",
      "Epoch 0:  34%|███▍      | 17/50 [00:14<00:25,  1.28batch/s, loss=nan]/home/m.lavaud/miniconda3/envs/torch/lib/python3.12/site-packages/torch/nn/modules/loss.py:535: UserWarning: Using a target size (torch.Size([10, 4000, 2])) that is different to the input size (torch.Size([10, 4000, 1])). This will likely lead to incorrect results due to broadcasting. Please ensure they have the same size.\n",
      "  return F.mse_loss(input, target, reduction=self.reduction)\n",
      "Epoch 0:  36%|███▌      | 18/50 [00:14<00:23,  1.34batch/s, loss=nan]/home/m.lavaud/miniconda3/envs/torch/lib/python3.12/site-packages/torch/nn/modules/loss.py:535: UserWarning: Using a target size (torch.Size([10, 4000, 2])) that is different to the input size (torch.Size([10, 4000, 1])). This will likely lead to incorrect results due to broadcasting. Please ensure they have the same size.\n",
      "  return F.mse_loss(input, target, reduction=self.reduction)\n",
      "Epoch 0:  38%|███▊      | 19/50 [00:15<00:22,  1.38batch/s, loss=nan]/home/m.lavaud/miniconda3/envs/torch/lib/python3.12/site-packages/torch/nn/modules/loss.py:535: UserWarning: Using a target size (torch.Size([10, 4000, 2])) that is different to the input size (torch.Size([10, 4000, 1])). This will likely lead to incorrect results due to broadcasting. Please ensure they have the same size.\n",
      "  return F.mse_loss(input, target, reduction=self.reduction)\n",
      "Epoch 0:  40%|████      | 20/50 [00:16<00:21,  1.42batch/s, loss=nan]/home/m.lavaud/miniconda3/envs/torch/lib/python3.12/site-packages/torch/nn/modules/loss.py:535: UserWarning: Using a target size (torch.Size([10, 4000, 2])) that is different to the input size (torch.Size([10, 4000, 1])). This will likely lead to incorrect results due to broadcasting. Please ensure they have the same size.\n",
      "  return F.mse_loss(input, target, reduction=self.reduction)\n",
      "Epoch 0:  42%|████▏     | 21/50 [00:16<00:19,  1.47batch/s, loss=nan]/home/m.lavaud/miniconda3/envs/torch/lib/python3.12/site-packages/torch/nn/modules/loss.py:535: UserWarning: Using a target size (torch.Size([10, 4000, 2])) that is different to the input size (torch.Size([10, 4000, 1])). This will likely lead to incorrect results due to broadcasting. Please ensure they have the same size.\n",
      "  return F.mse_loss(input, target, reduction=self.reduction)\n",
      "Epoch 0:  44%|████▍     | 22/50 [00:17<00:19,  1.44batch/s, loss=nan]/home/m.lavaud/miniconda3/envs/torch/lib/python3.12/site-packages/torch/nn/modules/loss.py:535: UserWarning: Using a target size (torch.Size([10, 4000, 2])) that is different to the input size (torch.Size([10, 4000, 1])). This will likely lead to incorrect results due to broadcasting. Please ensure they have the same size.\n",
      "  return F.mse_loss(input, target, reduction=self.reduction)\n",
      "Epoch 0:  46%|████▌     | 23/50 [00:18<00:20,  1.32batch/s, loss=nan]/home/m.lavaud/miniconda3/envs/torch/lib/python3.12/site-packages/torch/nn/modules/loss.py:535: UserWarning: Using a target size (torch.Size([10, 4000, 2])) that is different to the input size (torch.Size([10, 4000, 1])). This will likely lead to incorrect results due to broadcasting. Please ensure they have the same size.\n",
      "  return F.mse_loss(input, target, reduction=self.reduction)\n",
      "Epoch 0:  48%|████▊     | 24/50 [00:19<00:19,  1.37batch/s, loss=nan]/home/m.lavaud/miniconda3/envs/torch/lib/python3.12/site-packages/torch/nn/modules/loss.py:535: UserWarning: Using a target size (torch.Size([10, 4000, 2])) that is different to the input size (torch.Size([10, 4000, 1])). This will likely lead to incorrect results due to broadcasting. Please ensure they have the same size.\n",
      "  return F.mse_loss(input, target, reduction=self.reduction)\n",
      "Epoch 0:  50%|█████     | 25/50 [00:19<00:17,  1.39batch/s, loss=nan]/home/m.lavaud/miniconda3/envs/torch/lib/python3.12/site-packages/torch/nn/modules/loss.py:535: UserWarning: Using a target size (torch.Size([10, 4000, 2])) that is different to the input size (torch.Size([10, 4000, 1])). This will likely lead to incorrect results due to broadcasting. Please ensure they have the same size.\n",
      "  return F.mse_loss(input, target, reduction=self.reduction)\n",
      "Epoch 0:  52%|█████▏    | 26/50 [00:20<00:16,  1.42batch/s, loss=nan]/home/m.lavaud/miniconda3/envs/torch/lib/python3.12/site-packages/torch/nn/modules/loss.py:535: UserWarning: Using a target size (torch.Size([10, 4000, 2])) that is different to the input size (torch.Size([10, 4000, 1])). This will likely lead to incorrect results due to broadcasting. Please ensure they have the same size.\n",
      "  return F.mse_loss(input, target, reduction=self.reduction)\n",
      "Epoch 0:  54%|█████▍    | 27/50 [00:21<00:16,  1.41batch/s, loss=nan]/home/m.lavaud/miniconda3/envs/torch/lib/python3.12/site-packages/torch/nn/modules/loss.py:535: UserWarning: Using a target size (torch.Size([10, 4000, 2])) that is different to the input size (torch.Size([10, 4000, 1])). This will likely lead to incorrect results due to broadcasting. Please ensure they have the same size.\n",
      "  return F.mse_loss(input, target, reduction=self.reduction)\n",
      "Epoch 0:  56%|█████▌    | 28/50 [00:21<00:14,  1.47batch/s, loss=nan]/home/m.lavaud/miniconda3/envs/torch/lib/python3.12/site-packages/torch/nn/modules/loss.py:535: UserWarning: Using a target size (torch.Size([10, 4000, 2])) that is different to the input size (torch.Size([10, 4000, 1])). This will likely lead to incorrect results due to broadcasting. Please ensure they have the same size.\n",
      "  return F.mse_loss(input, target, reduction=self.reduction)\n",
      "Epoch 0:  58%|█████▊    | 29/50 [00:22<00:14,  1.43batch/s, loss=nan]/home/m.lavaud/miniconda3/envs/torch/lib/python3.12/site-packages/torch/nn/modules/loss.py:535: UserWarning: Using a target size (torch.Size([10, 4000, 2])) that is different to the input size (torch.Size([10, 4000, 1])). This will likely lead to incorrect results due to broadcasting. Please ensure they have the same size.\n",
      "  return F.mse_loss(input, target, reduction=self.reduction)\n",
      "Epoch 0:  60%|██████    | 30/50 [00:23<00:14,  1.40batch/s, loss=nan]/home/m.lavaud/miniconda3/envs/torch/lib/python3.12/site-packages/torch/nn/modules/loss.py:535: UserWarning: Using a target size (torch.Size([10, 4000, 2])) that is different to the input size (torch.Size([10, 4000, 1])). This will likely lead to incorrect results due to broadcasting. Please ensure they have the same size.\n",
      "  return F.mse_loss(input, target, reduction=self.reduction)\n",
      "Epoch 0:  62%|██████▏   | 31/50 [00:24<00:14,  1.35batch/s, loss=nan]/home/m.lavaud/miniconda3/envs/torch/lib/python3.12/site-packages/torch/nn/modules/loss.py:535: UserWarning: Using a target size (torch.Size([10, 4000, 2])) that is different to the input size (torch.Size([10, 4000, 1])). This will likely lead to incorrect results due to broadcasting. Please ensure they have the same size.\n",
      "  return F.mse_loss(input, target, reduction=self.reduction)\n",
      "Epoch 0:  64%|██████▍   | 32/50 [00:24<00:12,  1.40batch/s, loss=nan]/home/m.lavaud/miniconda3/envs/torch/lib/python3.12/site-packages/torch/nn/modules/loss.py:535: UserWarning: Using a target size (torch.Size([10, 4000, 2])) that is different to the input size (torch.Size([10, 4000, 1])). This will likely lead to incorrect results due to broadcasting. Please ensure they have the same size.\n",
      "  return F.mse_loss(input, target, reduction=self.reduction)\n",
      "Epoch 0:  66%|██████▌   | 33/50 [00:25<00:12,  1.35batch/s, loss=nan]/home/m.lavaud/miniconda3/envs/torch/lib/python3.12/site-packages/torch/nn/modules/loss.py:535: UserWarning: Using a target size (torch.Size([10, 4000, 2])) that is different to the input size (torch.Size([10, 4000, 1])). This will likely lead to incorrect results due to broadcasting. Please ensure they have the same size.\n",
      "  return F.mse_loss(input, target, reduction=self.reduction)\n",
      "Epoch 0:  68%|██████▊   | 34/50 [00:26<00:12,  1.29batch/s, loss=nan]/home/m.lavaud/miniconda3/envs/torch/lib/python3.12/site-packages/torch/nn/modules/loss.py:535: UserWarning: Using a target size (torch.Size([10, 4000, 2])) that is different to the input size (torch.Size([10, 4000, 1])). This will likely lead to incorrect results due to broadcasting. Please ensure they have the same size.\n",
      "  return F.mse_loss(input, target, reduction=self.reduction)\n",
      "Epoch 0:  70%|███████   | 35/50 [00:27<00:10,  1.38batch/s, loss=nan]/home/m.lavaud/miniconda3/envs/torch/lib/python3.12/site-packages/torch/nn/modules/loss.py:535: UserWarning: Using a target size (torch.Size([10, 4000, 2])) that is different to the input size (torch.Size([10, 4000, 1])). This will likely lead to incorrect results due to broadcasting. Please ensure they have the same size.\n",
      "  return F.mse_loss(input, target, reduction=self.reduction)\n",
      "Epoch 0:  72%|███████▏  | 36/50 [00:27<00:10,  1.36batch/s, loss=nan]/home/m.lavaud/miniconda3/envs/torch/lib/python3.12/site-packages/torch/nn/modules/loss.py:535: UserWarning: Using a target size (torch.Size([10, 4000, 2])) that is different to the input size (torch.Size([10, 4000, 1])). This will likely lead to incorrect results due to broadcasting. Please ensure they have the same size.\n",
      "  return F.mse_loss(input, target, reduction=self.reduction)\n",
      "Epoch 0:  74%|███████▍  | 37/50 [00:28<00:10,  1.30batch/s, loss=nan]/home/m.lavaud/miniconda3/envs/torch/lib/python3.12/site-packages/torch/nn/modules/loss.py:535: UserWarning: Using a target size (torch.Size([10, 4000, 2])) that is different to the input size (torch.Size([10, 4000, 1])). This will likely lead to incorrect results due to broadcasting. Please ensure they have the same size.\n",
      "  return F.mse_loss(input, target, reduction=self.reduction)\n",
      "Epoch 0:  76%|███████▌  | 38/50 [00:29<00:09,  1.25batch/s, loss=nan]/home/m.lavaud/miniconda3/envs/torch/lib/python3.12/site-packages/torch/nn/modules/loss.py:535: UserWarning: Using a target size (torch.Size([10, 4000, 2])) that is different to the input size (torch.Size([10, 4000, 1])). This will likely lead to incorrect results due to broadcasting. Please ensure they have the same size.\n",
      "  return F.mse_loss(input, target, reduction=self.reduction)\n",
      "Epoch 0:  78%|███████▊  | 39/50 [00:30<00:09,  1.21batch/s, loss=nan]/home/m.lavaud/miniconda3/envs/torch/lib/python3.12/site-packages/torch/nn/modules/loss.py:535: UserWarning: Using a target size (torch.Size([10, 4000, 2])) that is different to the input size (torch.Size([10, 4000, 1])). This will likely lead to incorrect results due to broadcasting. Please ensure they have the same size.\n",
      "  return F.mse_loss(input, target, reduction=self.reduction)\n",
      "Epoch 0:  80%|████████  | 40/50 [00:31<00:08,  1.22batch/s, loss=nan]/home/m.lavaud/miniconda3/envs/torch/lib/python3.12/site-packages/torch/nn/modules/loss.py:535: UserWarning: Using a target size (torch.Size([10, 4000, 2])) that is different to the input size (torch.Size([10, 4000, 1])). This will likely lead to incorrect results due to broadcasting. Please ensure they have the same size.\n",
      "  return F.mse_loss(input, target, reduction=self.reduction)\n",
      "Epoch 0:  82%|████████▏ | 41/50 [00:31<00:06,  1.30batch/s, loss=nan]\n"
     ]
    },
    {
     "ename": "KeyboardInterrupt",
     "evalue": "",
     "output_type": "error",
     "traceback": [
      "\u001b[0;31m---------------------------------------------------------------------------\u001b[0m",
      "\u001b[0;31mKeyboardInterrupt\u001b[0m                         Traceback (most recent call last)",
      "Cell \u001b[0;32mIn[4], line 1\u001b[0m\n\u001b[0;32m----> 1\u001b[0m result_regression, model_regression \u001b[38;5;241m=\u001b[39m \u001b[43mtrain\u001b[49m\u001b[43m(\u001b[49m\u001b[43m(\u001b[49m\u001b[38;5;241;43m4\u001b[39;49m\u001b[43m,\u001b[49m\u001b[38;5;241;43m0.1\u001b[39;49m\u001b[43m,\u001b[49m\u001b[38;5;241;43m1e-3\u001b[39;49m\u001b[43m,\u001b[49m\u001b[38;5;241;43m4\u001b[39;49m\u001b[43m)\u001b[49m\u001b[43m)\u001b[49m\n",
      "File \u001b[0;32m~/ANDI_2_Challenge_EMetBrown/mamba_regression/train_fn.py:260\u001b[0m, in \u001b[0;36mtrain\u001b[0;34m(a)\u001b[0m\n\u001b[1;32m    258\u001b[0m running_regression_loss \u001b[38;5;241m=\u001b[39m []\n\u001b[1;32m    259\u001b[0m model\u001b[38;5;241m.\u001b[39mtrain()\n\u001b[0;32m--> 260\u001b[0m \u001b[43m\u001b[49m\u001b[38;5;28;43;01mfor\u001b[39;49;00m\u001b[43m \u001b[49m\u001b[43minputs\u001b[49m\u001b[43m,\u001b[49m\u001b[43m \u001b[49m\u001b[43m(\u001b[49m\u001b[43mregression_targets\u001b[49m\u001b[43m,\u001b[49m\u001b[43m \u001b[49m\u001b[43mclassification_targets\u001b[49m\u001b[43m)\u001b[49m\u001b[43m \u001b[49m\u001b[38;5;129;43;01min\u001b[39;49;00m\u001b[43m \u001b[49m\u001b[43mtepoch\u001b[49m\u001b[43m:\u001b[49m\n\u001b[1;32m    261\u001b[0m \u001b[43m\u001b[49m\u001b[38;5;66;43;03m# for inputs, classification_targets in tepoch:\u001b[39;49;00m\n\u001b[1;32m    262\u001b[0m \u001b[43m    \u001b[49m\u001b[43mtepoch\u001b[49m\u001b[38;5;241;43m.\u001b[39;49m\u001b[43mset_description\u001b[49m\u001b[43m(\u001b[49m\u001b[38;5;124;43mf\u001b[39;49m\u001b[38;5;124;43m\"\u001b[39;49m\u001b[38;5;124;43mEpoch \u001b[39;49m\u001b[38;5;132;43;01m{\u001b[39;49;00m\u001b[43mepoch\u001b[49m\u001b[38;5;132;43;01m}\u001b[39;49;00m\u001b[38;5;124;43m\"\u001b[39;49m\u001b[43m)\u001b[49m\n\u001b[1;32m    264\u001b[0m \u001b[43m    \u001b[49m\u001b[43minputs\u001b[49m\u001b[43m \u001b[49m\u001b[38;5;241;43m=\u001b[39;49m\u001b[43m \u001b[49m\u001b[43minputs\u001b[49m\u001b[38;5;241;43m.\u001b[39;49m\u001b[43mto\u001b[49m\u001b[43m(\u001b[49m\u001b[38;5;124;43m\"\u001b[39;49m\u001b[38;5;124;43mcuda\u001b[39;49m\u001b[38;5;124;43m\"\u001b[39;49m\u001b[43m)\u001b[49m\n",
      "File \u001b[0;32m~/miniconda3/envs/torch/lib/python3.12/site-packages/tqdm/std.py:1181\u001b[0m, in \u001b[0;36mtqdm.__iter__\u001b[0;34m(self)\u001b[0m\n\u001b[1;32m   1178\u001b[0m time \u001b[38;5;241m=\u001b[39m \u001b[38;5;28mself\u001b[39m\u001b[38;5;241m.\u001b[39m_time\n\u001b[1;32m   1180\u001b[0m \u001b[38;5;28;01mtry\u001b[39;00m:\n\u001b[0;32m-> 1181\u001b[0m \u001b[43m    \u001b[49m\u001b[38;5;28;43;01mfor\u001b[39;49;00m\u001b[43m \u001b[49m\u001b[43mobj\u001b[49m\u001b[43m \u001b[49m\u001b[38;5;129;43;01min\u001b[39;49;00m\u001b[43m \u001b[49m\u001b[43miterable\u001b[49m\u001b[43m:\u001b[49m\n\u001b[1;32m   1182\u001b[0m \u001b[43m        \u001b[49m\u001b[38;5;28;43;01myield\u001b[39;49;00m\u001b[43m \u001b[49m\u001b[43mobj\u001b[49m\n\u001b[1;32m   1183\u001b[0m \u001b[43m        \u001b[49m\u001b[38;5;66;43;03m# Update and possibly print the progressbar.\u001b[39;49;00m\n\u001b[1;32m   1184\u001b[0m \u001b[43m        \u001b[49m\u001b[38;5;66;43;03m# Note: does not call self.update(1) for speed optimisation.\u001b[39;49;00m\n",
      "File \u001b[0;32m~/miniconda3/envs/torch/lib/python3.12/site-packages/torch/utils/data/dataloader.py:631\u001b[0m, in \u001b[0;36m_BaseDataLoaderIter.__next__\u001b[0;34m(self)\u001b[0m\n\u001b[1;32m    628\u001b[0m \u001b[38;5;28;01mif\u001b[39;00m \u001b[38;5;28mself\u001b[39m\u001b[38;5;241m.\u001b[39m_sampler_iter \u001b[38;5;129;01mis\u001b[39;00m \u001b[38;5;28;01mNone\u001b[39;00m:\n\u001b[1;32m    629\u001b[0m     \u001b[38;5;66;03m# TODO(https://github.com/pytorch/pytorch/issues/76750)\u001b[39;00m\n\u001b[1;32m    630\u001b[0m     \u001b[38;5;28mself\u001b[39m\u001b[38;5;241m.\u001b[39m_reset()  \u001b[38;5;66;03m# type: ignore[call-arg]\u001b[39;00m\n\u001b[0;32m--> 631\u001b[0m data \u001b[38;5;241m=\u001b[39m \u001b[38;5;28;43mself\u001b[39;49m\u001b[38;5;241;43m.\u001b[39;49m\u001b[43m_next_data\u001b[49m\u001b[43m(\u001b[49m\u001b[43m)\u001b[49m\n\u001b[1;32m    632\u001b[0m \u001b[38;5;28mself\u001b[39m\u001b[38;5;241m.\u001b[39m_num_yielded \u001b[38;5;241m+\u001b[39m\u001b[38;5;241m=\u001b[39m \u001b[38;5;241m1\u001b[39m\n\u001b[1;32m    633\u001b[0m \u001b[38;5;28;01mif\u001b[39;00m \u001b[38;5;28mself\u001b[39m\u001b[38;5;241m.\u001b[39m_dataset_kind \u001b[38;5;241m==\u001b[39m _DatasetKind\u001b[38;5;241m.\u001b[39mIterable \u001b[38;5;129;01mand\u001b[39;00m \\\n\u001b[1;32m    634\u001b[0m         \u001b[38;5;28mself\u001b[39m\u001b[38;5;241m.\u001b[39m_IterableDataset_len_called \u001b[38;5;129;01mis\u001b[39;00m \u001b[38;5;129;01mnot\u001b[39;00m \u001b[38;5;28;01mNone\u001b[39;00m \u001b[38;5;129;01mand\u001b[39;00m \\\n\u001b[1;32m    635\u001b[0m         \u001b[38;5;28mself\u001b[39m\u001b[38;5;241m.\u001b[39m_num_yielded \u001b[38;5;241m>\u001b[39m \u001b[38;5;28mself\u001b[39m\u001b[38;5;241m.\u001b[39m_IterableDataset_len_called:\n",
      "File \u001b[0;32m~/miniconda3/envs/torch/lib/python3.12/site-packages/torch/utils/data/dataloader.py:675\u001b[0m, in \u001b[0;36m_SingleProcessDataLoaderIter._next_data\u001b[0;34m(self)\u001b[0m\n\u001b[1;32m    673\u001b[0m \u001b[38;5;28;01mdef\u001b[39;00m \u001b[38;5;21m_next_data\u001b[39m(\u001b[38;5;28mself\u001b[39m):\n\u001b[1;32m    674\u001b[0m     index \u001b[38;5;241m=\u001b[39m \u001b[38;5;28mself\u001b[39m\u001b[38;5;241m.\u001b[39m_next_index()  \u001b[38;5;66;03m# may raise StopIteration\u001b[39;00m\n\u001b[0;32m--> 675\u001b[0m     data \u001b[38;5;241m=\u001b[39m \u001b[38;5;28;43mself\u001b[39;49m\u001b[38;5;241;43m.\u001b[39;49m\u001b[43m_dataset_fetcher\u001b[49m\u001b[38;5;241;43m.\u001b[39;49m\u001b[43mfetch\u001b[49m\u001b[43m(\u001b[49m\u001b[43mindex\u001b[49m\u001b[43m)\u001b[49m  \u001b[38;5;66;03m# may raise StopIteration\u001b[39;00m\n\u001b[1;32m    676\u001b[0m     \u001b[38;5;28;01mif\u001b[39;00m \u001b[38;5;28mself\u001b[39m\u001b[38;5;241m.\u001b[39m_pin_memory:\n\u001b[1;32m    677\u001b[0m         data \u001b[38;5;241m=\u001b[39m _utils\u001b[38;5;241m.\u001b[39mpin_memory\u001b[38;5;241m.\u001b[39mpin_memory(data, \u001b[38;5;28mself\u001b[39m\u001b[38;5;241m.\u001b[39m_pin_memory_device)\n",
      "File \u001b[0;32m~/miniconda3/envs/torch/lib/python3.12/site-packages/torch/utils/data/_utils/fetch.py:51\u001b[0m, in \u001b[0;36m_MapDatasetFetcher.fetch\u001b[0;34m(self, possibly_batched_index)\u001b[0m\n\u001b[1;32m     49\u001b[0m         data \u001b[38;5;241m=\u001b[39m \u001b[38;5;28mself\u001b[39m\u001b[38;5;241m.\u001b[39mdataset\u001b[38;5;241m.\u001b[39m__getitems__(possibly_batched_index)\n\u001b[1;32m     50\u001b[0m     \u001b[38;5;28;01melse\u001b[39;00m:\n\u001b[0;32m---> 51\u001b[0m         data \u001b[38;5;241m=\u001b[39m [\u001b[38;5;28;43mself\u001b[39;49m\u001b[38;5;241;43m.\u001b[39;49m\u001b[43mdataset\u001b[49m\u001b[43m[\u001b[49m\u001b[43midx\u001b[49m\u001b[43m]\u001b[49m \u001b[38;5;28;01mfor\u001b[39;00m idx \u001b[38;5;129;01min\u001b[39;00m possibly_batched_index]\n\u001b[1;32m     52\u001b[0m \u001b[38;5;28;01melse\u001b[39;00m:\n\u001b[1;32m     53\u001b[0m     data \u001b[38;5;241m=\u001b[39m \u001b[38;5;28mself\u001b[39m\u001b[38;5;241m.\u001b[39mdataset[possibly_batched_index]\n",
      "File \u001b[0;32m~/ANDI_2_Challenge_EMetBrown/mamba_regression/train_fn.py:148\u001b[0m, in \u001b[0;36mDataset_all_data.__getitem__\u001b[0;34m(self, idx)\u001b[0m\n\u001b[1;32m    146\u001b[0m \u001b[38;5;28;01mdef\u001b[39;00m \u001b[38;5;21m__getitem__\u001b[39m(\u001b[38;5;28mself\u001b[39m, idx):\n\u001b[1;32m    147\u001b[0m     \u001b[38;5;66;03m# Read csv file and extract data and label\u001b[39;00m\n\u001b[0;32m--> 148\u001b[0m     df \u001b[38;5;241m=\u001b[39m \u001b[43mpd\u001b[49m\u001b[38;5;241;43m.\u001b[39;49m\u001b[43mread_csv\u001b[49m\u001b[43m(\u001b[49m\u001b[38;5;28;43mself\u001b[39;49m\u001b[38;5;241;43m.\u001b[39;49m\u001b[43mfilenames\u001b[49m\u001b[43m[\u001b[49m\u001b[43midx\u001b[49m\u001b[43m]\u001b[49m\u001b[43m)\u001b[49m\n\u001b[1;32m    150\u001b[0m     \u001b[38;5;28;01mif\u001b[39;00m \u001b[38;5;28mself\u001b[39m\u001b[38;5;241m.\u001b[39mpad \u001b[38;5;129;01mis\u001b[39;00m \u001b[38;5;28;01mNone\u001b[39;00m:\n\u001b[1;32m    151\u001b[0m         data \u001b[38;5;241m=\u001b[39m df[[\u001b[38;5;124m\"\u001b[39m\u001b[38;5;124mtraj_idx\u001b[39m\u001b[38;5;124m\"\u001b[39m, \u001b[38;5;124m\"\u001b[39m\u001b[38;5;124mframe\u001b[39m\u001b[38;5;124m\"\u001b[39m, \u001b[38;5;124m\"\u001b[39m\u001b[38;5;124mx\u001b[39m\u001b[38;5;124m\"\u001b[39m, \u001b[38;5;124m\"\u001b[39m\u001b[38;5;124my\u001b[39m\u001b[38;5;124m\"\u001b[39m]]\n",
      "File \u001b[0;32m~/miniconda3/envs/torch/lib/python3.12/site-packages/pandas/io/parsers/readers.py:1026\u001b[0m, in \u001b[0;36mread_csv\u001b[0;34m(filepath_or_buffer, sep, delimiter, header, names, index_col, usecols, dtype, engine, converters, true_values, false_values, skipinitialspace, skiprows, skipfooter, nrows, na_values, keep_default_na, na_filter, verbose, skip_blank_lines, parse_dates, infer_datetime_format, keep_date_col, date_parser, date_format, dayfirst, cache_dates, iterator, chunksize, compression, thousands, decimal, lineterminator, quotechar, quoting, doublequote, escapechar, comment, encoding, encoding_errors, dialect, on_bad_lines, delim_whitespace, low_memory, memory_map, float_precision, storage_options, dtype_backend)\u001b[0m\n\u001b[1;32m   1013\u001b[0m kwds_defaults \u001b[38;5;241m=\u001b[39m _refine_defaults_read(\n\u001b[1;32m   1014\u001b[0m     dialect,\n\u001b[1;32m   1015\u001b[0m     delimiter,\n\u001b[0;32m   (...)\u001b[0m\n\u001b[1;32m   1022\u001b[0m     dtype_backend\u001b[38;5;241m=\u001b[39mdtype_backend,\n\u001b[1;32m   1023\u001b[0m )\n\u001b[1;32m   1024\u001b[0m kwds\u001b[38;5;241m.\u001b[39mupdate(kwds_defaults)\n\u001b[0;32m-> 1026\u001b[0m \u001b[38;5;28;01mreturn\u001b[39;00m \u001b[43m_read\u001b[49m\u001b[43m(\u001b[49m\u001b[43mfilepath_or_buffer\u001b[49m\u001b[43m,\u001b[49m\u001b[43m \u001b[49m\u001b[43mkwds\u001b[49m\u001b[43m)\u001b[49m\n",
      "File \u001b[0;32m~/miniconda3/envs/torch/lib/python3.12/site-packages/pandas/io/parsers/readers.py:620\u001b[0m, in \u001b[0;36m_read\u001b[0;34m(filepath_or_buffer, kwds)\u001b[0m\n\u001b[1;32m    617\u001b[0m _validate_names(kwds\u001b[38;5;241m.\u001b[39mget(\u001b[38;5;124m\"\u001b[39m\u001b[38;5;124mnames\u001b[39m\u001b[38;5;124m\"\u001b[39m, \u001b[38;5;28;01mNone\u001b[39;00m))\n\u001b[1;32m    619\u001b[0m \u001b[38;5;66;03m# Create the parser.\u001b[39;00m\n\u001b[0;32m--> 620\u001b[0m parser \u001b[38;5;241m=\u001b[39m \u001b[43mTextFileReader\u001b[49m\u001b[43m(\u001b[49m\u001b[43mfilepath_or_buffer\u001b[49m\u001b[43m,\u001b[49m\u001b[43m \u001b[49m\u001b[38;5;241;43m*\u001b[39;49m\u001b[38;5;241;43m*\u001b[39;49m\u001b[43mkwds\u001b[49m\u001b[43m)\u001b[49m\n\u001b[1;32m    622\u001b[0m \u001b[38;5;28;01mif\u001b[39;00m chunksize \u001b[38;5;129;01mor\u001b[39;00m iterator:\n\u001b[1;32m    623\u001b[0m     \u001b[38;5;28;01mreturn\u001b[39;00m parser\n",
      "File \u001b[0;32m~/miniconda3/envs/torch/lib/python3.12/site-packages/pandas/io/parsers/readers.py:1620\u001b[0m, in \u001b[0;36mTextFileReader.__init__\u001b[0;34m(self, f, engine, **kwds)\u001b[0m\n\u001b[1;32m   1617\u001b[0m     \u001b[38;5;28mself\u001b[39m\u001b[38;5;241m.\u001b[39moptions[\u001b[38;5;124m\"\u001b[39m\u001b[38;5;124mhas_index_names\u001b[39m\u001b[38;5;124m\"\u001b[39m] \u001b[38;5;241m=\u001b[39m kwds[\u001b[38;5;124m\"\u001b[39m\u001b[38;5;124mhas_index_names\u001b[39m\u001b[38;5;124m\"\u001b[39m]\n\u001b[1;32m   1619\u001b[0m \u001b[38;5;28mself\u001b[39m\u001b[38;5;241m.\u001b[39mhandles: IOHandles \u001b[38;5;241m|\u001b[39m \u001b[38;5;28;01mNone\u001b[39;00m \u001b[38;5;241m=\u001b[39m \u001b[38;5;28;01mNone\u001b[39;00m\n\u001b[0;32m-> 1620\u001b[0m \u001b[38;5;28mself\u001b[39m\u001b[38;5;241m.\u001b[39m_engine \u001b[38;5;241m=\u001b[39m \u001b[38;5;28;43mself\u001b[39;49m\u001b[38;5;241;43m.\u001b[39;49m\u001b[43m_make_engine\u001b[49m\u001b[43m(\u001b[49m\u001b[43mf\u001b[49m\u001b[43m,\u001b[49m\u001b[43m \u001b[49m\u001b[38;5;28;43mself\u001b[39;49m\u001b[38;5;241;43m.\u001b[39;49m\u001b[43mengine\u001b[49m\u001b[43m)\u001b[49m\n",
      "File \u001b[0;32m~/miniconda3/envs/torch/lib/python3.12/site-packages/pandas/io/parsers/readers.py:1898\u001b[0m, in \u001b[0;36mTextFileReader._make_engine\u001b[0;34m(self, f, engine)\u001b[0m\n\u001b[1;32m   1895\u001b[0m     \u001b[38;5;28;01mraise\u001b[39;00m \u001b[38;5;167;01mValueError\u001b[39;00m(msg)\n\u001b[1;32m   1897\u001b[0m \u001b[38;5;28;01mtry\u001b[39;00m:\n\u001b[0;32m-> 1898\u001b[0m     \u001b[38;5;28;01mreturn\u001b[39;00m \u001b[43mmapping\u001b[49m\u001b[43m[\u001b[49m\u001b[43mengine\u001b[49m\u001b[43m]\u001b[49m\u001b[43m(\u001b[49m\u001b[43mf\u001b[49m\u001b[43m,\u001b[49m\u001b[43m \u001b[49m\u001b[38;5;241;43m*\u001b[39;49m\u001b[38;5;241;43m*\u001b[39;49m\u001b[38;5;28;43mself\u001b[39;49m\u001b[38;5;241;43m.\u001b[39;49m\u001b[43moptions\u001b[49m\u001b[43m)\u001b[49m\n\u001b[1;32m   1899\u001b[0m \u001b[38;5;28;01mexcept\u001b[39;00m \u001b[38;5;167;01mException\u001b[39;00m:\n\u001b[1;32m   1900\u001b[0m     \u001b[38;5;28;01mif\u001b[39;00m \u001b[38;5;28mself\u001b[39m\u001b[38;5;241m.\u001b[39mhandles \u001b[38;5;129;01mis\u001b[39;00m \u001b[38;5;129;01mnot\u001b[39;00m \u001b[38;5;28;01mNone\u001b[39;00m:\n",
      "File \u001b[0;32m~/miniconda3/envs/torch/lib/python3.12/site-packages/pandas/io/parsers/c_parser_wrapper.py:93\u001b[0m, in \u001b[0;36mCParserWrapper.__init__\u001b[0;34m(self, src, **kwds)\u001b[0m\n\u001b[1;32m     90\u001b[0m \u001b[38;5;28;01mif\u001b[39;00m kwds[\u001b[38;5;124m\"\u001b[39m\u001b[38;5;124mdtype_backend\u001b[39m\u001b[38;5;124m\"\u001b[39m] \u001b[38;5;241m==\u001b[39m \u001b[38;5;124m\"\u001b[39m\u001b[38;5;124mpyarrow\u001b[39m\u001b[38;5;124m\"\u001b[39m:\n\u001b[1;32m     91\u001b[0m     \u001b[38;5;66;03m# Fail here loudly instead of in cython after reading\u001b[39;00m\n\u001b[1;32m     92\u001b[0m     import_optional_dependency(\u001b[38;5;124m\"\u001b[39m\u001b[38;5;124mpyarrow\u001b[39m\u001b[38;5;124m\"\u001b[39m)\n\u001b[0;32m---> 93\u001b[0m \u001b[38;5;28mself\u001b[39m\u001b[38;5;241m.\u001b[39m_reader \u001b[38;5;241m=\u001b[39m \u001b[43mparsers\u001b[49m\u001b[38;5;241;43m.\u001b[39;49m\u001b[43mTextReader\u001b[49m\u001b[43m(\u001b[49m\u001b[43msrc\u001b[49m\u001b[43m,\u001b[49m\u001b[43m \u001b[49m\u001b[38;5;241;43m*\u001b[39;49m\u001b[38;5;241;43m*\u001b[39;49m\u001b[43mkwds\u001b[49m\u001b[43m)\u001b[49m\n\u001b[1;32m     95\u001b[0m \u001b[38;5;28mself\u001b[39m\u001b[38;5;241m.\u001b[39munnamed_cols \u001b[38;5;241m=\u001b[39m \u001b[38;5;28mself\u001b[39m\u001b[38;5;241m.\u001b[39m_reader\u001b[38;5;241m.\u001b[39munnamed_cols\n\u001b[1;32m     97\u001b[0m \u001b[38;5;66;03m# error: Cannot determine type of 'names'\u001b[39;00m\n",
      "File \u001b[0;32mparsers.pyx:574\u001b[0m, in \u001b[0;36mpandas._libs.parsers.TextReader.__cinit__\u001b[0;34m()\u001b[0m\n",
      "File \u001b[0;32mparsers.pyx:663\u001b[0m, in \u001b[0;36mpandas._libs.parsers.TextReader._get_header\u001b[0;34m()\u001b[0m\n",
      "File \u001b[0;32mparsers.pyx:874\u001b[0m, in \u001b[0;36mpandas._libs.parsers.TextReader._tokenize_rows\u001b[0;34m()\u001b[0m\n",
      "File \u001b[0;32mparsers.pyx:891\u001b[0m, in \u001b[0;36mpandas._libs.parsers.TextReader._check_tokenize_status\u001b[0;34m()\u001b[0m\n",
      "File \u001b[0;32mparsers.pyx:2053\u001b[0m, in \u001b[0;36mpandas._libs.parsers.raise_parser_error\u001b[0;34m()\u001b[0m\n",
      "File \u001b[0;32m<frozen codecs>:319\u001b[0m, in \u001b[0;36mdecode\u001b[0;34m(self, input, final)\u001b[0m\n",
      "\u001b[0;31mKeyboardInterrupt\u001b[0m: "
     ]
    }
   ],
   "source": [
    "result_regression, model_regression = train((4,0.1,1e-3,4))"
   ]
  },
  {
   "cell_type": "code",
   "execution_count": null,
   "id": "30d67fc4",
   "metadata": {},
   "outputs": [
    {
     "name": "stdout",
     "output_type": "stream",
     "text": [
      "importing gpu Mamba\n"
     ]
    },
    {
     "name": "stderr",
     "output_type": "stream",
     "text": [
      "Epoch 0: 100%|██████████| 50/50 [00:39<00:00,  1.27batch/s, loss=1.17]\n",
      "Epoch 1: 100%|██████████| 50/50 [00:38<00:00,  1.31batch/s, loss=0.872]\n",
      "Epoch 2: 100%|██████████| 50/50 [00:38<00:00,  1.29batch/s, loss=0.69] \n",
      "Epoch 3: 100%|██████████| 50/50 [00:37<00:00,  1.34batch/s, loss=0.598]\n",
      "Epoch 4: 100%|██████████| 50/50 [00:38<00:00,  1.31batch/s, loss=0.754]\n"
     ]
    }
   ],
   "source": [
    "result, model = train_classification((4,0.1,1e-3,4))"
   ]
  },
  {
   "cell_type": "code",
   "execution_count": null,
   "id": "a0993376",
   "metadata": {},
   "outputs": [
    {
     "ename": "NameError",
     "evalue": "name 'result' is not defined",
     "output_type": "error",
     "traceback": [
      "\u001b[0;31m---------------------------------------------------------------------------\u001b[0m",
      "\u001b[0;31mNameError\u001b[0m                                 Traceback (most recent call last)",
      "Cell \u001b[0;32mIn[6], line 1\u001b[0m\n\u001b[0;32m----> 1\u001b[0m \u001b[43mresult\u001b[49m\n",
      "\u001b[0;31mNameError\u001b[0m: name 'result' is not defined"
     ]
    }
   ],
   "source": [
    "result"
   ]
  },
  {
   "cell_type": "code",
   "execution_count": null,
   "id": "2f8d388e",
   "metadata": {},
   "outputs": [
    {
     "data": {
      "text/plain": [
       "{'bi_mamba_stacks': 4,\n",
       " 'n_layers': 4,\n",
       " 'dropout': 0.1,\n",
       " 'learning_rate': 0.001,\n",
       " 'running_regression_total_loss': [5.253891258239746,\n",
       "  3.564189488887787,\n",
       "  3.2308408975601197,\n",
       "  3.1641538953781128,\n",
       "  3.1158537912368773,\n",
       "  3.1146989727020262],\n",
       " 'running_test_loss': [0.48426247835159303,\n",
       "  0.3562808680534363,\n",
       "  0.35117665529251096,\n",
       "  0.3339165735244751,\n",
       "  0.34369640827178954,\n",
       "  0.3414357352256775]}"
      ]
     },
     "execution_count": 7,
     "metadata": {},
     "output_type": "execute_result"
    }
   ],
   "source": [
    "result_regression"
   ]
  },
  {
   "cell_type": "code",
   "execution_count": null,
   "id": "2bc72aff",
   "metadata": {},
   "outputs": [
    {
     "data": {
      "text/plain": [
       "torch.Size([10, 4000, 1])"
      ]
     },
     "execution_count": 8,
     "metadata": {},
     "output_type": "execute_result"
    }
   ],
   "source": [
    "torch.randn(10,4000,1).size()"
   ]
  },
  {
   "cell_type": "code",
   "execution_count": null,
   "id": "4800e925",
   "metadata": {},
   "outputs": [
    {
     "data": {
      "text/plain": [
       "EmetMamba(config=EmetConfig(d_model=3, n_layers=4, dt_rank=1, d_state=16, expand_factor=2, d_conv=4, dt_min=0.001, dt_max=0.1, dt_init='random', dt_scale=1.0, rms_norm_eps=1e-05, bias=False, conv_bias=True, inner_layernorms=False, pscan=True, use_cuda=True, bi_mamba_stacks=4, conv_stack=1, dropout=0.1))"
      ]
     },
     "execution_count": 9,
     "metadata": {},
     "output_type": "execute_result"
    }
   ],
   "source": [
    "model\n",
    "model.eval()"
   ]
  },
  {
   "cell_type": "code",
   "execution_count": null,
   "id": "a9142e9a",
   "metadata": {},
   "outputs": [],
   "source": [
    "from train_fn import list_directory_tree_with_pathlib"
   ]
  },
  {
   "cell_type": "code",
   "execution_count": null,
   "id": "fa4dae3d",
   "metadata": {},
   "outputs": [],
   "source": [
    "data_path = \"../public_data_validation_v1/track_2/\"\n",
    "\n",
    "directory_files = list_directory_tree_with_pathlib(data_path)"
   ]
  },
  {
   "cell_type": "code",
   "execution_count": null,
   "id": "43c0a4ef",
   "metadata": {},
   "outputs": [
    {
     "data": {
      "text/plain": [
       "[PosixPath('../public_data_validation_v1/track_2/exp_10/trajs_fov_29.csv'),\n",
       " PosixPath('../public_data_validation_v1/track_2/exp_10/trajs_fov_21.csv'),\n",
       " PosixPath('../public_data_validation_v1/track_2/exp_10/trajs_fov_22.csv'),\n",
       " PosixPath('../public_data_validation_v1/track_2/exp_10/trajs_fov_15.csv'),\n",
       " PosixPath('../public_data_validation_v1/track_2/exp_10/trajs_fov_5.csv'),\n",
       " PosixPath('../public_data_validation_v1/track_2/exp_10/trajs_fov_26.csv'),\n",
       " PosixPath('../public_data_validation_v1/track_2/exp_10/trajs_fov_24.csv'),\n",
       " PosixPath('../public_data_validation_v1/track_2/exp_10/trajs_fov_23.csv'),\n",
       " PosixPath('../public_data_validation_v1/track_2/exp_10/trajs_fov_17.csv'),\n",
       " PosixPath('../public_data_validation_v1/track_2/exp_10/trajs_fov_20.csv'),\n",
       " PosixPath('../public_data_validation_v1/track_2/exp_10/trajs_fov_10.csv'),\n",
       " PosixPath('../public_data_validation_v1/track_2/exp_10/trajs_fov_19.csv'),\n",
       " PosixPath('../public_data_validation_v1/track_2/exp_10/trajs_fov_2.csv'),\n",
       " PosixPath('../public_data_validation_v1/track_2/exp_10/trajs_fov_28.csv'),\n",
       " PosixPath('../public_data_validation_v1/track_2/exp_10/trajs_fov_16.csv'),\n",
       " PosixPath('../public_data_validation_v1/track_2/exp_10/trajs_fov_8.csv'),\n",
       " PosixPath('../public_data_validation_v1/track_2/exp_10/trajs_fov_3.csv'),\n",
       " PosixPath('../public_data_validation_v1/track_2/exp_10/trajs_fov_11.csv'),\n",
       " PosixPath('../public_data_validation_v1/track_2/exp_10/trajs_fov_27.csv'),\n",
       " PosixPath('../public_data_validation_v1/track_2/exp_10/trajs_fov_12.csv'),\n",
       " PosixPath('../public_data_validation_v1/track_2/exp_10/trajs_fov_1.csv'),\n",
       " PosixPath('../public_data_validation_v1/track_2/exp_10/trajs_fov_9.csv'),\n",
       " PosixPath('../public_data_validation_v1/track_2/exp_10/trajs_fov_13.csv'),\n",
       " PosixPath('../public_data_validation_v1/track_2/exp_10/trajs_fov_4.csv'),\n",
       " PosixPath('../public_data_validation_v1/track_2/exp_10/trajs_fov_0.csv'),\n",
       " PosixPath('../public_data_validation_v1/track_2/exp_10/trajs_fov_6.csv'),\n",
       " PosixPath('../public_data_validation_v1/track_2/exp_10/trajs_fov_7.csv'),\n",
       " PosixPath('../public_data_validation_v1/track_2/exp_10/trajs_fov_14.csv'),\n",
       " PosixPath('../public_data_validation_v1/track_2/exp_10/trajs_fov_25.csv'),\n",
       " PosixPath('../public_data_validation_v1/track_2/exp_10/trajs_fov_18.csv'),\n",
       " PosixPath('../public_data_validation_v1/track_2/exp_9/trajs_fov_29.csv'),\n",
       " PosixPath('../public_data_validation_v1/track_2/exp_9/trajs_fov_21.csv'),\n",
       " PosixPath('../public_data_validation_v1/track_2/exp_9/trajs_fov_22.csv'),\n",
       " PosixPath('../public_data_validation_v1/track_2/exp_9/trajs_fov_15.csv'),\n",
       " PosixPath('../public_data_validation_v1/track_2/exp_9/trajs_fov_5.csv'),\n",
       " PosixPath('../public_data_validation_v1/track_2/exp_9/trajs_fov_26.csv'),\n",
       " PosixPath('../public_data_validation_v1/track_2/exp_9/trajs_fov_24.csv'),\n",
       " PosixPath('../public_data_validation_v1/track_2/exp_9/trajs_fov_23.csv'),\n",
       " PosixPath('../public_data_validation_v1/track_2/exp_9/trajs_fov_17.csv'),\n",
       " PosixPath('../public_data_validation_v1/track_2/exp_9/trajs_fov_20.csv'),\n",
       " PosixPath('../public_data_validation_v1/track_2/exp_9/trajs_fov_10.csv'),\n",
       " PosixPath('../public_data_validation_v1/track_2/exp_9/trajs_fov_19.csv'),\n",
       " PosixPath('../public_data_validation_v1/track_2/exp_9/trajs_fov_2.csv'),\n",
       " PosixPath('../public_data_validation_v1/track_2/exp_9/trajs_fov_28.csv'),\n",
       " PosixPath('../public_data_validation_v1/track_2/exp_9/trajs_fov_16.csv'),\n",
       " PosixPath('../public_data_validation_v1/track_2/exp_9/trajs_fov_8.csv'),\n",
       " PosixPath('../public_data_validation_v1/track_2/exp_9/trajs_fov_3.csv'),\n",
       " PosixPath('../public_data_validation_v1/track_2/exp_9/trajs_fov_11.csv'),\n",
       " PosixPath('../public_data_validation_v1/track_2/exp_9/trajs_fov_27.csv'),\n",
       " PosixPath('../public_data_validation_v1/track_2/exp_9/trajs_fov_12.csv'),\n",
       " PosixPath('../public_data_validation_v1/track_2/exp_9/trajs_fov_1.csv'),\n",
       " PosixPath('../public_data_validation_v1/track_2/exp_9/trajs_fov_9.csv'),\n",
       " PosixPath('../public_data_validation_v1/track_2/exp_9/trajs_fov_13.csv'),\n",
       " PosixPath('../public_data_validation_v1/track_2/exp_9/trajs_fov_4.csv'),\n",
       " PosixPath('../public_data_validation_v1/track_2/exp_9/trajs_fov_0.csv'),\n",
       " PosixPath('../public_data_validation_v1/track_2/exp_9/trajs_fov_6.csv'),\n",
       " PosixPath('../public_data_validation_v1/track_2/exp_9/trajs_fov_7.csv'),\n",
       " PosixPath('../public_data_validation_v1/track_2/exp_9/trajs_fov_14.csv'),\n",
       " PosixPath('../public_data_validation_v1/track_2/exp_9/trajs_fov_25.csv'),\n",
       " PosixPath('../public_data_validation_v1/track_2/exp_9/trajs_fov_18.csv'),\n",
       " PosixPath('../public_data_validation_v1/track_2/exp_0/trajs_fov_29.csv'),\n",
       " PosixPath('../public_data_validation_v1/track_2/exp_0/trajs_fov_21.csv'),\n",
       " PosixPath('../public_data_validation_v1/track_2/exp_0/trajs_fov_22.csv'),\n",
       " PosixPath('../public_data_validation_v1/track_2/exp_0/trajs_fov_15.csv'),\n",
       " PosixPath('../public_data_validation_v1/track_2/exp_0/trajs_fov_5.csv'),\n",
       " PosixPath('../public_data_validation_v1/track_2/exp_0/trajs_fov_26.csv'),\n",
       " PosixPath('../public_data_validation_v1/track_2/exp_0/trajs_fov_24.csv'),\n",
       " PosixPath('../public_data_validation_v1/track_2/exp_0/trajs_fov_23.csv'),\n",
       " PosixPath('../public_data_validation_v1/track_2/exp_0/trajs_fov_17.csv'),\n",
       " PosixPath('../public_data_validation_v1/track_2/exp_0/trajs_fov_20.csv'),\n",
       " PosixPath('../public_data_validation_v1/track_2/exp_0/trajs_fov_10.csv'),\n",
       " PosixPath('../public_data_validation_v1/track_2/exp_0/trajs_fov_19.csv'),\n",
       " PosixPath('../public_data_validation_v1/track_2/exp_0/trajs_fov_2.csv'),\n",
       " PosixPath('../public_data_validation_v1/track_2/exp_0/trajs_fov_28.csv'),\n",
       " PosixPath('../public_data_validation_v1/track_2/exp_0/trajs_fov_16.csv'),\n",
       " PosixPath('../public_data_validation_v1/track_2/exp_0/trajs_fov_8.csv'),\n",
       " PosixPath('../public_data_validation_v1/track_2/exp_0/trajs_fov_3.csv'),\n",
       " PosixPath('../public_data_validation_v1/track_2/exp_0/trajs_fov_11.csv'),\n",
       " PosixPath('../public_data_validation_v1/track_2/exp_0/trajs_fov_27.csv'),\n",
       " PosixPath('../public_data_validation_v1/track_2/exp_0/trajs_fov_12.csv'),\n",
       " PosixPath('../public_data_validation_v1/track_2/exp_0/trajs_fov_1.csv'),\n",
       " PosixPath('../public_data_validation_v1/track_2/exp_0/trajs_fov_9.csv'),\n",
       " PosixPath('../public_data_validation_v1/track_2/exp_0/trajs_fov_13.csv'),\n",
       " PosixPath('../public_data_validation_v1/track_2/exp_0/trajs_fov_4.csv'),\n",
       " PosixPath('../public_data_validation_v1/track_2/exp_0/trajs_fov_0.csv'),\n",
       " PosixPath('../public_data_validation_v1/track_2/exp_0/trajs_fov_6.csv'),\n",
       " PosixPath('../public_data_validation_v1/track_2/exp_0/trajs_fov_7.csv'),\n",
       " PosixPath('../public_data_validation_v1/track_2/exp_0/trajs_fov_14.csv'),\n",
       " PosixPath('../public_data_validation_v1/track_2/exp_0/trajs_fov_25.csv'),\n",
       " PosixPath('../public_data_validation_v1/track_2/exp_0/trajs_fov_18.csv'),\n",
       " PosixPath('../public_data_validation_v1/track_2/exp_8/trajs_fov_29.csv'),\n",
       " PosixPath('../public_data_validation_v1/track_2/exp_8/trajs_fov_21.csv'),\n",
       " PosixPath('../public_data_validation_v1/track_2/exp_8/trajs_fov_22.csv'),\n",
       " PosixPath('../public_data_validation_v1/track_2/exp_8/trajs_fov_15.csv'),\n",
       " PosixPath('../public_data_validation_v1/track_2/exp_8/trajs_fov_5.csv'),\n",
       " PosixPath('../public_data_validation_v1/track_2/exp_8/trajs_fov_26.csv'),\n",
       " PosixPath('../public_data_validation_v1/track_2/exp_8/trajs_fov_24.csv'),\n",
       " PosixPath('../public_data_validation_v1/track_2/exp_8/trajs_fov_23.csv'),\n",
       " PosixPath('../public_data_validation_v1/track_2/exp_8/trajs_fov_17.csv'),\n",
       " PosixPath('../public_data_validation_v1/track_2/exp_8/trajs_fov_20.csv'),\n",
       " PosixPath('../public_data_validation_v1/track_2/exp_8/trajs_fov_10.csv'),\n",
       " PosixPath('../public_data_validation_v1/track_2/exp_8/trajs_fov_19.csv'),\n",
       " PosixPath('../public_data_validation_v1/track_2/exp_8/trajs_fov_2.csv'),\n",
       " PosixPath('../public_data_validation_v1/track_2/exp_8/trajs_fov_28.csv'),\n",
       " PosixPath('../public_data_validation_v1/track_2/exp_8/trajs_fov_16.csv'),\n",
       " PosixPath('../public_data_validation_v1/track_2/exp_8/trajs_fov_8.csv'),\n",
       " PosixPath('../public_data_validation_v1/track_2/exp_8/trajs_fov_3.csv'),\n",
       " PosixPath('../public_data_validation_v1/track_2/exp_8/trajs_fov_11.csv'),\n",
       " PosixPath('../public_data_validation_v1/track_2/exp_8/trajs_fov_27.csv'),\n",
       " PosixPath('../public_data_validation_v1/track_2/exp_8/trajs_fov_12.csv'),\n",
       " PosixPath('../public_data_validation_v1/track_2/exp_8/trajs_fov_1.csv'),\n",
       " PosixPath('../public_data_validation_v1/track_2/exp_8/trajs_fov_9.csv'),\n",
       " PosixPath('../public_data_validation_v1/track_2/exp_8/trajs_fov_13.csv'),\n",
       " PosixPath('../public_data_validation_v1/track_2/exp_8/trajs_fov_4.csv'),\n",
       " PosixPath('../public_data_validation_v1/track_2/exp_8/trajs_fov_0.csv'),\n",
       " PosixPath('../public_data_validation_v1/track_2/exp_8/trajs_fov_6.csv'),\n",
       " PosixPath('../public_data_validation_v1/track_2/exp_8/trajs_fov_7.csv'),\n",
       " PosixPath('../public_data_validation_v1/track_2/exp_8/trajs_fov_14.csv'),\n",
       " PosixPath('../public_data_validation_v1/track_2/exp_8/trajs_fov_25.csv'),\n",
       " PosixPath('../public_data_validation_v1/track_2/exp_8/trajs_fov_18.csv'),\n",
       " PosixPath('../public_data_validation_v1/track_2/exp_3/trajs_fov_29.csv'),\n",
       " PosixPath('../public_data_validation_v1/track_2/exp_3/trajs_fov_21.csv'),\n",
       " PosixPath('../public_data_validation_v1/track_2/exp_3/trajs_fov_22.csv'),\n",
       " PosixPath('../public_data_validation_v1/track_2/exp_3/trajs_fov_15.csv'),\n",
       " PosixPath('../public_data_validation_v1/track_2/exp_3/trajs_fov_5.csv'),\n",
       " PosixPath('../public_data_validation_v1/track_2/exp_3/trajs_fov_26.csv'),\n",
       " PosixPath('../public_data_validation_v1/track_2/exp_3/trajs_fov_24.csv'),\n",
       " PosixPath('../public_data_validation_v1/track_2/exp_3/trajs_fov_23.csv'),\n",
       " PosixPath('../public_data_validation_v1/track_2/exp_3/trajs_fov_17.csv'),\n",
       " PosixPath('../public_data_validation_v1/track_2/exp_3/trajs_fov_20.csv'),\n",
       " PosixPath('../public_data_validation_v1/track_2/exp_3/trajs_fov_10.csv'),\n",
       " PosixPath('../public_data_validation_v1/track_2/exp_3/trajs_fov_19.csv'),\n",
       " PosixPath('../public_data_validation_v1/track_2/exp_3/trajs_fov_2.csv'),\n",
       " PosixPath('../public_data_validation_v1/track_2/exp_3/trajs_fov_28.csv'),\n",
       " PosixPath('../public_data_validation_v1/track_2/exp_3/trajs_fov_16.csv'),\n",
       " PosixPath('../public_data_validation_v1/track_2/exp_3/trajs_fov_8.csv'),\n",
       " PosixPath('../public_data_validation_v1/track_2/exp_3/trajs_fov_3.csv'),\n",
       " PosixPath('../public_data_validation_v1/track_2/exp_3/trajs_fov_11.csv'),\n",
       " PosixPath('../public_data_validation_v1/track_2/exp_3/trajs_fov_27.csv'),\n",
       " PosixPath('../public_data_validation_v1/track_2/exp_3/trajs_fov_12.csv'),\n",
       " PosixPath('../public_data_validation_v1/track_2/exp_3/trajs_fov_1.csv'),\n",
       " PosixPath('../public_data_validation_v1/track_2/exp_3/trajs_fov_9.csv'),\n",
       " PosixPath('../public_data_validation_v1/track_2/exp_3/trajs_fov_13.csv'),\n",
       " PosixPath('../public_data_validation_v1/track_2/exp_3/trajs_fov_4.csv'),\n",
       " PosixPath('../public_data_validation_v1/track_2/exp_3/trajs_fov_0.csv'),\n",
       " PosixPath('../public_data_validation_v1/track_2/exp_3/trajs_fov_6.csv'),\n",
       " PosixPath('../public_data_validation_v1/track_2/exp_3/trajs_fov_7.csv'),\n",
       " PosixPath('../public_data_validation_v1/track_2/exp_3/trajs_fov_14.csv'),\n",
       " PosixPath('../public_data_validation_v1/track_2/exp_3/trajs_fov_25.csv'),\n",
       " PosixPath('../public_data_validation_v1/track_2/exp_3/trajs_fov_18.csv'),\n",
       " PosixPath('../public_data_validation_v1/track_2/exp_1/trajs_fov_29.csv'),\n",
       " PosixPath('../public_data_validation_v1/track_2/exp_1/trajs_fov_21.csv'),\n",
       " PosixPath('../public_data_validation_v1/track_2/exp_1/trajs_fov_22.csv'),\n",
       " PosixPath('../public_data_validation_v1/track_2/exp_1/trajs_fov_15.csv'),\n",
       " PosixPath('../public_data_validation_v1/track_2/exp_1/trajs_fov_5.csv'),\n",
       " PosixPath('../public_data_validation_v1/track_2/exp_1/trajs_fov_26.csv'),\n",
       " PosixPath('../public_data_validation_v1/track_2/exp_1/trajs_fov_24.csv'),\n",
       " PosixPath('../public_data_validation_v1/track_2/exp_1/trajs_fov_23.csv'),\n",
       " PosixPath('../public_data_validation_v1/track_2/exp_1/trajs_fov_17.csv'),\n",
       " PosixPath('../public_data_validation_v1/track_2/exp_1/trajs_fov_20.csv'),\n",
       " PosixPath('../public_data_validation_v1/track_2/exp_1/trajs_fov_10.csv'),\n",
       " PosixPath('../public_data_validation_v1/track_2/exp_1/trajs_fov_19.csv'),\n",
       " PosixPath('../public_data_validation_v1/track_2/exp_1/trajs_fov_2.csv'),\n",
       " PosixPath('../public_data_validation_v1/track_2/exp_1/trajs_fov_28.csv'),\n",
       " PosixPath('../public_data_validation_v1/track_2/exp_1/trajs_fov_16.csv'),\n",
       " PosixPath('../public_data_validation_v1/track_2/exp_1/trajs_fov_8.csv'),\n",
       " PosixPath('../public_data_validation_v1/track_2/exp_1/trajs_fov_3.csv'),\n",
       " PosixPath('../public_data_validation_v1/track_2/exp_1/trajs_fov_11.csv'),\n",
       " PosixPath('../public_data_validation_v1/track_2/exp_1/trajs_fov_27.csv'),\n",
       " PosixPath('../public_data_validation_v1/track_2/exp_1/trajs_fov_12.csv'),\n",
       " PosixPath('../public_data_validation_v1/track_2/exp_1/trajs_fov_1.csv'),\n",
       " PosixPath('../public_data_validation_v1/track_2/exp_1/trajs_fov_9.csv'),\n",
       " PosixPath('../public_data_validation_v1/track_2/exp_1/trajs_fov_13.csv'),\n",
       " PosixPath('../public_data_validation_v1/track_2/exp_1/trajs_fov_4.csv'),\n",
       " PosixPath('../public_data_validation_v1/track_2/exp_1/trajs_fov_0.csv'),\n",
       " PosixPath('../public_data_validation_v1/track_2/exp_1/trajs_fov_6.csv'),\n",
       " PosixPath('../public_data_validation_v1/track_2/exp_1/trajs_fov_7.csv'),\n",
       " PosixPath('../public_data_validation_v1/track_2/exp_1/trajs_fov_14.csv'),\n",
       " PosixPath('../public_data_validation_v1/track_2/exp_1/trajs_fov_25.csv'),\n",
       " PosixPath('../public_data_validation_v1/track_2/exp_1/trajs_fov_18.csv'),\n",
       " PosixPath('../public_data_validation_v1/track_2/exp_11/trajs_fov_29.csv'),\n",
       " PosixPath('../public_data_validation_v1/track_2/exp_11/trajs_fov_21.csv'),\n",
       " PosixPath('../public_data_validation_v1/track_2/exp_11/trajs_fov_22.csv'),\n",
       " PosixPath('../public_data_validation_v1/track_2/exp_11/trajs_fov_15.csv'),\n",
       " PosixPath('../public_data_validation_v1/track_2/exp_11/trajs_fov_5.csv'),\n",
       " PosixPath('../public_data_validation_v1/track_2/exp_11/trajs_fov_26.csv'),\n",
       " PosixPath('../public_data_validation_v1/track_2/exp_11/trajs_fov_24.csv'),\n",
       " PosixPath('../public_data_validation_v1/track_2/exp_11/trajs_fov_23.csv'),\n",
       " PosixPath('../public_data_validation_v1/track_2/exp_11/trajs_fov_17.csv'),\n",
       " PosixPath('../public_data_validation_v1/track_2/exp_11/trajs_fov_20.csv'),\n",
       " PosixPath('../public_data_validation_v1/track_2/exp_11/trajs_fov_10.csv'),\n",
       " PosixPath('../public_data_validation_v1/track_2/exp_11/trajs_fov_19.csv'),\n",
       " PosixPath('../public_data_validation_v1/track_2/exp_11/trajs_fov_2.csv'),\n",
       " PosixPath('../public_data_validation_v1/track_2/exp_11/trajs_fov_28.csv'),\n",
       " PosixPath('../public_data_validation_v1/track_2/exp_11/trajs_fov_16.csv'),\n",
       " PosixPath('../public_data_validation_v1/track_2/exp_11/trajs_fov_8.csv'),\n",
       " PosixPath('../public_data_validation_v1/track_2/exp_11/trajs_fov_3.csv'),\n",
       " PosixPath('../public_data_validation_v1/track_2/exp_11/trajs_fov_11.csv'),\n",
       " PosixPath('../public_data_validation_v1/track_2/exp_11/trajs_fov_27.csv'),\n",
       " PosixPath('../public_data_validation_v1/track_2/exp_11/trajs_fov_12.csv'),\n",
       " PosixPath('../public_data_validation_v1/track_2/exp_11/trajs_fov_1.csv'),\n",
       " PosixPath('../public_data_validation_v1/track_2/exp_11/trajs_fov_9.csv'),\n",
       " PosixPath('../public_data_validation_v1/track_2/exp_11/trajs_fov_13.csv'),\n",
       " PosixPath('../public_data_validation_v1/track_2/exp_11/trajs_fov_4.csv'),\n",
       " PosixPath('../public_data_validation_v1/track_2/exp_11/trajs_fov_0.csv'),\n",
       " PosixPath('../public_data_validation_v1/track_2/exp_11/trajs_fov_6.csv'),\n",
       " PosixPath('../public_data_validation_v1/track_2/exp_11/trajs_fov_7.csv'),\n",
       " PosixPath('../public_data_validation_v1/track_2/exp_11/trajs_fov_14.csv'),\n",
       " PosixPath('../public_data_validation_v1/track_2/exp_11/trajs_fov_25.csv'),\n",
       " PosixPath('../public_data_validation_v1/track_2/exp_11/trajs_fov_18.csv'),\n",
       " PosixPath('../public_data_validation_v1/track_2/exp_4/trajs_fov_29.csv'),\n",
       " PosixPath('../public_data_validation_v1/track_2/exp_4/trajs_fov_21.csv'),\n",
       " PosixPath('../public_data_validation_v1/track_2/exp_4/trajs_fov_22.csv'),\n",
       " PosixPath('../public_data_validation_v1/track_2/exp_4/trajs_fov_15.csv'),\n",
       " PosixPath('../public_data_validation_v1/track_2/exp_4/trajs_fov_5.csv'),\n",
       " PosixPath('../public_data_validation_v1/track_2/exp_4/trajs_fov_26.csv'),\n",
       " PosixPath('../public_data_validation_v1/track_2/exp_4/trajs_fov_24.csv'),\n",
       " PosixPath('../public_data_validation_v1/track_2/exp_4/trajs_fov_23.csv'),\n",
       " PosixPath('../public_data_validation_v1/track_2/exp_4/trajs_fov_17.csv'),\n",
       " PosixPath('../public_data_validation_v1/track_2/exp_4/trajs_fov_20.csv'),\n",
       " PosixPath('../public_data_validation_v1/track_2/exp_4/trajs_fov_10.csv'),\n",
       " PosixPath('../public_data_validation_v1/track_2/exp_4/trajs_fov_19.csv'),\n",
       " PosixPath('../public_data_validation_v1/track_2/exp_4/trajs_fov_2.csv'),\n",
       " PosixPath('../public_data_validation_v1/track_2/exp_4/trajs_fov_28.csv'),\n",
       " PosixPath('../public_data_validation_v1/track_2/exp_4/trajs_fov_16.csv'),\n",
       " PosixPath('../public_data_validation_v1/track_2/exp_4/trajs_fov_8.csv'),\n",
       " PosixPath('../public_data_validation_v1/track_2/exp_4/trajs_fov_3.csv'),\n",
       " PosixPath('../public_data_validation_v1/track_2/exp_4/trajs_fov_11.csv'),\n",
       " PosixPath('../public_data_validation_v1/track_2/exp_4/trajs_fov_27.csv'),\n",
       " PosixPath('../public_data_validation_v1/track_2/exp_4/trajs_fov_12.csv'),\n",
       " PosixPath('../public_data_validation_v1/track_2/exp_4/trajs_fov_1.csv'),\n",
       " PosixPath('../public_data_validation_v1/track_2/exp_4/trajs_fov_9.csv'),\n",
       " PosixPath('../public_data_validation_v1/track_2/exp_4/trajs_fov_13.csv'),\n",
       " PosixPath('../public_data_validation_v1/track_2/exp_4/trajs_fov_4.csv'),\n",
       " PosixPath('../public_data_validation_v1/track_2/exp_4/trajs_fov_0.csv'),\n",
       " PosixPath('../public_data_validation_v1/track_2/exp_4/trajs_fov_6.csv'),\n",
       " PosixPath('../public_data_validation_v1/track_2/exp_4/trajs_fov_7.csv'),\n",
       " PosixPath('../public_data_validation_v1/track_2/exp_4/trajs_fov_14.csv'),\n",
       " PosixPath('../public_data_validation_v1/track_2/exp_4/trajs_fov_25.csv'),\n",
       " PosixPath('../public_data_validation_v1/track_2/exp_4/trajs_fov_18.csv'),\n",
       " PosixPath('../public_data_validation_v1/track_2/exp_5/trajs_fov_29.csv'),\n",
       " PosixPath('../public_data_validation_v1/track_2/exp_5/trajs_fov_21.csv'),\n",
       " PosixPath('../public_data_validation_v1/track_2/exp_5/trajs_fov_22.csv'),\n",
       " PosixPath('../public_data_validation_v1/track_2/exp_5/trajs_fov_15.csv'),\n",
       " PosixPath('../public_data_validation_v1/track_2/exp_5/trajs_fov_5.csv'),\n",
       " PosixPath('../public_data_validation_v1/track_2/exp_5/trajs_fov_26.csv'),\n",
       " PosixPath('../public_data_validation_v1/track_2/exp_5/trajs_fov_24.csv'),\n",
       " PosixPath('../public_data_validation_v1/track_2/exp_5/trajs_fov_23.csv'),\n",
       " PosixPath('../public_data_validation_v1/track_2/exp_5/trajs_fov_17.csv'),\n",
       " PosixPath('../public_data_validation_v1/track_2/exp_5/trajs_fov_20.csv'),\n",
       " PosixPath('../public_data_validation_v1/track_2/exp_5/trajs_fov_10.csv'),\n",
       " PosixPath('../public_data_validation_v1/track_2/exp_5/trajs_fov_19.csv'),\n",
       " PosixPath('../public_data_validation_v1/track_2/exp_5/trajs_fov_2.csv'),\n",
       " PosixPath('../public_data_validation_v1/track_2/exp_5/trajs_fov_28.csv'),\n",
       " PosixPath('../public_data_validation_v1/track_2/exp_5/trajs_fov_16.csv'),\n",
       " PosixPath('../public_data_validation_v1/track_2/exp_5/trajs_fov_8.csv'),\n",
       " PosixPath('../public_data_validation_v1/track_2/exp_5/trajs_fov_3.csv'),\n",
       " PosixPath('../public_data_validation_v1/track_2/exp_5/trajs_fov_11.csv'),\n",
       " PosixPath('../public_data_validation_v1/track_2/exp_5/trajs_fov_27.csv'),\n",
       " PosixPath('../public_data_validation_v1/track_2/exp_5/trajs_fov_12.csv'),\n",
       " PosixPath('../public_data_validation_v1/track_2/exp_5/trajs_fov_1.csv'),\n",
       " PosixPath('../public_data_validation_v1/track_2/exp_5/trajs_fov_9.csv'),\n",
       " PosixPath('../public_data_validation_v1/track_2/exp_5/trajs_fov_13.csv'),\n",
       " PosixPath('../public_data_validation_v1/track_2/exp_5/trajs_fov_4.csv'),\n",
       " PosixPath('../public_data_validation_v1/track_2/exp_5/trajs_fov_0.csv'),\n",
       " PosixPath('../public_data_validation_v1/track_2/exp_5/trajs_fov_6.csv'),\n",
       " PosixPath('../public_data_validation_v1/track_2/exp_5/trajs_fov_7.csv'),\n",
       " PosixPath('../public_data_validation_v1/track_2/exp_5/trajs_fov_14.csv'),\n",
       " PosixPath('../public_data_validation_v1/track_2/exp_5/trajs_fov_25.csv'),\n",
       " PosixPath('../public_data_validation_v1/track_2/exp_5/trajs_fov_18.csv'),\n",
       " PosixPath('../public_data_validation_v1/track_2/exp_12/trajs_fov_29.csv'),\n",
       " PosixPath('../public_data_validation_v1/track_2/exp_12/trajs_fov_21.csv'),\n",
       " PosixPath('../public_data_validation_v1/track_2/exp_12/trajs_fov_22.csv'),\n",
       " PosixPath('../public_data_validation_v1/track_2/exp_12/trajs_fov_15.csv'),\n",
       " PosixPath('../public_data_validation_v1/track_2/exp_12/trajs_fov_5.csv'),\n",
       " PosixPath('../public_data_validation_v1/track_2/exp_12/trajs_fov_26.csv'),\n",
       " PosixPath('../public_data_validation_v1/track_2/exp_12/trajs_fov_24.csv'),\n",
       " PosixPath('../public_data_validation_v1/track_2/exp_12/trajs_fov_23.csv'),\n",
       " PosixPath('../public_data_validation_v1/track_2/exp_12/trajs_fov_17.csv'),\n",
       " PosixPath('../public_data_validation_v1/track_2/exp_12/trajs_fov_20.csv'),\n",
       " PosixPath('../public_data_validation_v1/track_2/exp_12/trajs_fov_10.csv'),\n",
       " PosixPath('../public_data_validation_v1/track_2/exp_12/trajs_fov_19.csv'),\n",
       " PosixPath('../public_data_validation_v1/track_2/exp_12/trajs_fov_2.csv'),\n",
       " PosixPath('../public_data_validation_v1/track_2/exp_12/trajs_fov_28.csv'),\n",
       " PosixPath('../public_data_validation_v1/track_2/exp_12/trajs_fov_16.csv'),\n",
       " PosixPath('../public_data_validation_v1/track_2/exp_12/trajs_fov_8.csv'),\n",
       " PosixPath('../public_data_validation_v1/track_2/exp_12/trajs_fov_3.csv'),\n",
       " PosixPath('../public_data_validation_v1/track_2/exp_12/trajs_fov_11.csv'),\n",
       " PosixPath('../public_data_validation_v1/track_2/exp_12/trajs_fov_27.csv'),\n",
       " PosixPath('../public_data_validation_v1/track_2/exp_12/trajs_fov_12.csv'),\n",
       " PosixPath('../public_data_validation_v1/track_2/exp_12/trajs_fov_1.csv'),\n",
       " PosixPath('../public_data_validation_v1/track_2/exp_12/trajs_fov_9.csv'),\n",
       " PosixPath('../public_data_validation_v1/track_2/exp_12/trajs_fov_13.csv'),\n",
       " PosixPath('../public_data_validation_v1/track_2/exp_12/trajs_fov_4.csv'),\n",
       " PosixPath('../public_data_validation_v1/track_2/exp_12/trajs_fov_0.csv'),\n",
       " PosixPath('../public_data_validation_v1/track_2/exp_12/trajs_fov_6.csv'),\n",
       " PosixPath('../public_data_validation_v1/track_2/exp_12/trajs_fov_7.csv'),\n",
       " PosixPath('../public_data_validation_v1/track_2/exp_12/trajs_fov_14.csv'),\n",
       " PosixPath('../public_data_validation_v1/track_2/exp_12/trajs_fov_25.csv'),\n",
       " PosixPath('../public_data_validation_v1/track_2/exp_12/trajs_fov_18.csv'),\n",
       " PosixPath('../public_data_validation_v1/track_2/exp_7/trajs_fov_29.csv'),\n",
       " PosixPath('../public_data_validation_v1/track_2/exp_7/trajs_fov_21.csv'),\n",
       " PosixPath('../public_data_validation_v1/track_2/exp_7/trajs_fov_22.csv'),\n",
       " PosixPath('../public_data_validation_v1/track_2/exp_7/trajs_fov_15.csv'),\n",
       " PosixPath('../public_data_validation_v1/track_2/exp_7/trajs_fov_5.csv'),\n",
       " PosixPath('../public_data_validation_v1/track_2/exp_7/trajs_fov_26.csv'),\n",
       " PosixPath('../public_data_validation_v1/track_2/exp_7/trajs_fov_24.csv'),\n",
       " PosixPath('../public_data_validation_v1/track_2/exp_7/trajs_fov_23.csv'),\n",
       " PosixPath('../public_data_validation_v1/track_2/exp_7/trajs_fov_17.csv'),\n",
       " PosixPath('../public_data_validation_v1/track_2/exp_7/trajs_fov_20.csv'),\n",
       " PosixPath('../public_data_validation_v1/track_2/exp_7/trajs_fov_10.csv'),\n",
       " PosixPath('../public_data_validation_v1/track_2/exp_7/trajs_fov_19.csv'),\n",
       " PosixPath('../public_data_validation_v1/track_2/exp_7/trajs_fov_2.csv'),\n",
       " PosixPath('../public_data_validation_v1/track_2/exp_7/trajs_fov_28.csv'),\n",
       " PosixPath('../public_data_validation_v1/track_2/exp_7/trajs_fov_16.csv'),\n",
       " PosixPath('../public_data_validation_v1/track_2/exp_7/trajs_fov_8.csv'),\n",
       " PosixPath('../public_data_validation_v1/track_2/exp_7/trajs_fov_3.csv'),\n",
       " PosixPath('../public_data_validation_v1/track_2/exp_7/trajs_fov_11.csv'),\n",
       " PosixPath('../public_data_validation_v1/track_2/exp_7/trajs_fov_27.csv'),\n",
       " PosixPath('../public_data_validation_v1/track_2/exp_7/trajs_fov_12.csv'),\n",
       " PosixPath('../public_data_validation_v1/track_2/exp_7/trajs_fov_1.csv'),\n",
       " PosixPath('../public_data_validation_v1/track_2/exp_7/trajs_fov_9.csv'),\n",
       " PosixPath('../public_data_validation_v1/track_2/exp_7/trajs_fov_13.csv'),\n",
       " PosixPath('../public_data_validation_v1/track_2/exp_7/trajs_fov_4.csv'),\n",
       " PosixPath('../public_data_validation_v1/track_2/exp_7/trajs_fov_0.csv'),\n",
       " PosixPath('../public_data_validation_v1/track_2/exp_7/trajs_fov_6.csv'),\n",
       " PosixPath('../public_data_validation_v1/track_2/exp_7/trajs_fov_7.csv'),\n",
       " PosixPath('../public_data_validation_v1/track_2/exp_7/trajs_fov_14.csv'),\n",
       " PosixPath('../public_data_validation_v1/track_2/exp_7/trajs_fov_25.csv'),\n",
       " PosixPath('../public_data_validation_v1/track_2/exp_7/trajs_fov_18.csv'),\n",
       " PosixPath('../public_data_validation_v1/track_2/exp_6/trajs_fov_29.csv'),\n",
       " PosixPath('../public_data_validation_v1/track_2/exp_6/trajs_fov_21.csv'),\n",
       " PosixPath('../public_data_validation_v1/track_2/exp_6/trajs_fov_22.csv'),\n",
       " PosixPath('../public_data_validation_v1/track_2/exp_6/trajs_fov_15.csv'),\n",
       " PosixPath('../public_data_validation_v1/track_2/exp_6/trajs_fov_5.csv'),\n",
       " PosixPath('../public_data_validation_v1/track_2/exp_6/trajs_fov_26.csv'),\n",
       " PosixPath('../public_data_validation_v1/track_2/exp_6/trajs_fov_24.csv'),\n",
       " PosixPath('../public_data_validation_v1/track_2/exp_6/trajs_fov_23.csv'),\n",
       " PosixPath('../public_data_validation_v1/track_2/exp_6/trajs_fov_17.csv'),\n",
       " PosixPath('../public_data_validation_v1/track_2/exp_6/trajs_fov_20.csv'),\n",
       " PosixPath('../public_data_validation_v1/track_2/exp_6/trajs_fov_10.csv'),\n",
       " PosixPath('../public_data_validation_v1/track_2/exp_6/trajs_fov_19.csv'),\n",
       " PosixPath('../public_data_validation_v1/track_2/exp_6/trajs_fov_2.csv'),\n",
       " PosixPath('../public_data_validation_v1/track_2/exp_6/trajs_fov_28.csv'),\n",
       " PosixPath('../public_data_validation_v1/track_2/exp_6/trajs_fov_16.csv'),\n",
       " PosixPath('../public_data_validation_v1/track_2/exp_6/trajs_fov_8.csv'),\n",
       " PosixPath('../public_data_validation_v1/track_2/exp_6/trajs_fov_3.csv'),\n",
       " PosixPath('../public_data_validation_v1/track_2/exp_6/trajs_fov_11.csv'),\n",
       " PosixPath('../public_data_validation_v1/track_2/exp_6/trajs_fov_27.csv'),\n",
       " PosixPath('../public_data_validation_v1/track_2/exp_6/trajs_fov_12.csv'),\n",
       " PosixPath('../public_data_validation_v1/track_2/exp_6/trajs_fov_1.csv'),\n",
       " PosixPath('../public_data_validation_v1/track_2/exp_6/trajs_fov_9.csv'),\n",
       " PosixPath('../public_data_validation_v1/track_2/exp_6/trajs_fov_13.csv'),\n",
       " PosixPath('../public_data_validation_v1/track_2/exp_6/trajs_fov_4.csv'),\n",
       " PosixPath('../public_data_validation_v1/track_2/exp_6/trajs_fov_0.csv'),\n",
       " PosixPath('../public_data_validation_v1/track_2/exp_6/trajs_fov_6.csv'),\n",
       " PosixPath('../public_data_validation_v1/track_2/exp_6/trajs_fov_7.csv'),\n",
       " PosixPath('../public_data_validation_v1/track_2/exp_6/trajs_fov_14.csv'),\n",
       " PosixPath('../public_data_validation_v1/track_2/exp_6/trajs_fov_25.csv'),\n",
       " PosixPath('../public_data_validation_v1/track_2/exp_6/trajs_fov_18.csv'),\n",
       " PosixPath('../public_data_validation_v1/track_2/exp_2/trajs_fov_29.csv'),\n",
       " PosixPath('../public_data_validation_v1/track_2/exp_2/trajs_fov_21.csv'),\n",
       " PosixPath('../public_data_validation_v1/track_2/exp_2/trajs_fov_22.csv'),\n",
       " PosixPath('../public_data_validation_v1/track_2/exp_2/trajs_fov_15.csv'),\n",
       " PosixPath('../public_data_validation_v1/track_2/exp_2/trajs_fov_5.csv'),\n",
       " PosixPath('../public_data_validation_v1/track_2/exp_2/trajs_fov_26.csv'),\n",
       " PosixPath('../public_data_validation_v1/track_2/exp_2/trajs_fov_24.csv'),\n",
       " PosixPath('../public_data_validation_v1/track_2/exp_2/trajs_fov_23.csv'),\n",
       " PosixPath('../public_data_validation_v1/track_2/exp_2/trajs_fov_17.csv'),\n",
       " PosixPath('../public_data_validation_v1/track_2/exp_2/trajs_fov_20.csv'),\n",
       " PosixPath('../public_data_validation_v1/track_2/exp_2/trajs_fov_10.csv'),\n",
       " PosixPath('../public_data_validation_v1/track_2/exp_2/trajs_fov_19.csv'),\n",
       " PosixPath('../public_data_validation_v1/track_2/exp_2/trajs_fov_2.csv'),\n",
       " PosixPath('../public_data_validation_v1/track_2/exp_2/trajs_fov_28.csv'),\n",
       " PosixPath('../public_data_validation_v1/track_2/exp_2/trajs_fov_16.csv'),\n",
       " PosixPath('../public_data_validation_v1/track_2/exp_2/trajs_fov_8.csv'),\n",
       " PosixPath('../public_data_validation_v1/track_2/exp_2/trajs_fov_3.csv'),\n",
       " PosixPath('../public_data_validation_v1/track_2/exp_2/trajs_fov_11.csv'),\n",
       " PosixPath('../public_data_validation_v1/track_2/exp_2/trajs_fov_27.csv'),\n",
       " PosixPath('../public_data_validation_v1/track_2/exp_2/trajs_fov_12.csv'),\n",
       " PosixPath('../public_data_validation_v1/track_2/exp_2/trajs_fov_1.csv'),\n",
       " PosixPath('../public_data_validation_v1/track_2/exp_2/trajs_fov_9.csv'),\n",
       " PosixPath('../public_data_validation_v1/track_2/exp_2/trajs_fov_13.csv'),\n",
       " PosixPath('../public_data_validation_v1/track_2/exp_2/trajs_fov_4.csv'),\n",
       " PosixPath('../public_data_validation_v1/track_2/exp_2/trajs_fov_0.csv'),\n",
       " PosixPath('../public_data_validation_v1/track_2/exp_2/trajs_fov_6.csv'),\n",
       " PosixPath('../public_data_validation_v1/track_2/exp_2/trajs_fov_7.csv'),\n",
       " PosixPath('../public_data_validation_v1/track_2/exp_2/trajs_fov_14.csv'),\n",
       " PosixPath('../public_data_validation_v1/track_2/exp_2/trajs_fov_25.csv'),\n",
       " PosixPath('../public_data_validation_v1/track_2/exp_2/trajs_fov_18.csv')]"
      ]
     },
     "execution_count": 12,
     "metadata": {},
     "output_type": "execute_result"
    }
   ],
   "source": [
    "directory_files"
   ]
  },
  {
   "cell_type": "code",
   "execution_count": null,
   "id": "60cacfd6",
   "metadata": {},
   "outputs": [],
   "source": [
    "file = directory_files[0]"
   ]
  },
  {
   "cell_type": "code",
   "execution_count": null,
   "id": "d3748765",
   "metadata": {},
   "outputs": [
    {
     "data": {
      "text/plain": [
       "PosixPath('../public_data_validation_v1/track_2/exp_10/trajs_fov_29.csv')"
      ]
     },
     "execution_count": 14,
     "metadata": {},
     "output_type": "execute_result"
    }
   ],
   "source": [
    "file"
   ]
  },
  {
   "cell_type": "code",
   "execution_count": null,
   "id": "e5f54535",
   "metadata": {},
   "outputs": [],
   "source": [
    "from torch.utils.data import Dataset, DataLoader\n",
    "from pathlib import Path\n",
    "import pandas as pd\n",
    "import numpy as np\n",
    "from dataclasses import dataclass\n",
    "\n",
    "\n",
    "# Function to pad an array to a specific shape\n",
    "def to_shape(a, shape):\n",
    "    # Unpack the target shape\n",
    "    y_, x_ = shape\n",
    "\n",
    "    # Get the current shape of the array\n",
    "    y, x = a.shape\n",
    "\n",
    "    # Calculate the padding needed in the y and x directions\n",
    "    y_pad = y_ - y\n",
    "    x_pad = x_ - x\n",
    "    output = np.zeros()\n",
    "    # Pad the array using numpy's pad function\n",
    "    return np.pad(\n",
    "        a,\n",
    "        [(0, 1), (0, 1)],\n",
    "        # Calculate the padding for each dimension\n",
    "        #((y_pad // 2, y_pad // 2 + y_pad % 2), (x_pad // 2, x_pad // 2 + x_pad % 2)),\n",
    "        mode=\"constant\",\n",
    "    )\n",
    "\n",
    "\n",
    "# Function to pad data and labels to a specific shape\n",
    "def apply_padding(data_df, N, T_max):\n",
    "    # Define the final shape of the data and labels\n",
    "    final_shape = (N, T_max, 3)\n",
    "\n",
    "    # Initialize the final data and labels with zeros\n",
    "    final_data = np.zeros(final_shape)\n",
    "    final_label = np.zeros((N, T_max, 3))\n",
    "\n",
    "    # Select a random subset of trajectory indices\n",
    "    if len(data_df[\"traj_idx\"].unique()) < N:\n",
    "        selected_ids = data_df[\"traj_idx\"].unique()\n",
    "    else:\n",
    "        selected_ids = np.random.choice(\n",
    "            data_df[\"traj_idx\"].unique(), size=N, replace=False\n",
    "        )\n",
    "\n",
    "    # Iterate over the selected trajectory indices\n",
    "    for n, id in enumerate(selected_ids):\n",
    "        # Filter the data for the current trajectory index\n",
    "        exp = data_df[data_df[\"traj_idx\"] == id]\n",
    "\n",
    "        # Extract the data and labels for the current trajectory\n",
    "        data = exp[[\"frame\", \"x\", \"y\"]].to_numpy()\n",
    "        # print(exp[\"frame\"])\n",
    "        label = exp[[\"alpha\", \"D\", \"state\"]].to_numpy()\n",
    "\n",
    "        # If the data is longer than T_max, truncate it\n",
    "        if data.shape[0] > T_max:\n",
    "            final_data[n, :, :] = data[:T_max, :]\n",
    "            final_label[n, :, :] = label[:T_max, :]\n",
    "\n",
    "        # Otherwise, pad the data to T_max\n",
    "        else:\n",
    "            # print((label.shape, T_max))\n",
    "            final_data[n, :data.shape[0], :] = data\n",
    "            final_label[n, :data.shape[0], :] = label\n",
    "\n",
    "    # Return the padded data and labels\n",
    "    return final_data, final_label\n",
    "\n",
    "\n",
    "# Define a function to normalize data\n",
    "def normalize_df(data):\n",
    "    # Calculate displacement in x and y directions\n",
    "    # Normalize by substring mean and dividing by variance.\n",
    "\n",
    "    displacement_x = []\n",
    "    displacement_y = []\n",
    "    for _, group in data.groupby(\"traj_idx\"):\n",
    "        x = np.asarray(group[\"x\"])\n",
    "        y = np.asarray(group[\"y\"])\n",
    "        d_x = x[1:] - x[:-1]\n",
    "        d_y = y[1:] - y[:-1]\n",
    "        displacement_x = displacement_x + list(d_x)\n",
    "        displacement_y = displacement_y + list(d_y)\n",
    "\n",
    "    # Calculate variance in x and y directions\n",
    "    variance_x = np.sqrt(np.std(displacement_x))\n",
    "    variance_y = np.sqrt(np.std(displacement_y))\n",
    "\n",
    "    # Normalize data\n",
    "    data.loc[:, \"x\"] = (data[\"x\"] - data[\"x\"].mean()) / variance_x\n",
    "    data.loc[:, \"y\"] = (data[\"y\"] - data[\"y\"].mean()) / variance_y\n",
    "\n",
    "\n",
    "def normalize_np(data):\n",
    "\n",
    "    displacement_x = []\n",
    "    displacement_y = []\n",
    "    for n in range(data.shape[0]):\n",
    "        x = data[n, :, 1]\n",
    "        y = data[n, :, 2]\n",
    "        d_x = x[1:] - x[:-1]\n",
    "        d_y = y[1:] - y[:-1]\n",
    "        displacement_x = displacement_x + list(d_x)\n",
    "        displacement_y = displacement_y + list(d_y)\n",
    "\n",
    "    # Calculate variance in x and y directions\n",
    "    variance_x = np.sqrt(np.std(displacement_x))\n",
    "    variance_y = np.sqrt(np.std(displacement_y))\n",
    "\n",
    "    # Normalize data\n",
    "\n",
    "    data[:, :, 1] = (data[:, :, 1] - np.mean(data[:, :, 1])) / variance_x\n",
    "    data[:, :, 2] = (data[:, :, 2] - np.mean(data[:, :, 2])) / variance_x\n",
    "\n",
    "    return data\n",
    "\n",
    "\n",
    "# Define a function to list directory tree with pathlib\n",
    "def list_directory_tree_with_pathlib(starting_directory):\n",
    "    path_object = Path(starting_directory)\n",
    "    folders = []\n",
    "    for file_path in path_object.rglob(\"*.csv\"):\n",
    "        folders.append(file_path)\n",
    "    return folders\n",
    "\n",
    "\n",
    "# Define a custom dataset class for all data\n",
    "@dataclass\n",
    "class Dataset_all_data(Dataset):\n",
    "    # Initialize filenames and transform flag\n",
    "    # Pad value should be a tuple such as (N, Tmax)\n",
    "    filenames: list\n",
    "    transform: bool = False\n",
    "    pad: None | tuple = None\n",
    "    noise: bool = False\n",
    "\n",
    "    def __len__(self):\n",
    "        # Return the number of files\n",
    "        return len(self.filenames)\n",
    "\n",
    "    def __getitem__(self, idx):\n",
    "        # Read csv file and extract data and label\n",
    "        df = pd.read_csv(self.filenames[idx])\n",
    "\n",
    "        if self.pad is None:\n",
    "            data = df[[\"traj_idx\", \"frame\", \"x\", \"y\"]]\n",
    "            label = np.asarray(df[[\"alpha\", \"D\"]])\n",
    "            label_2 = np.asarray(df[\"state\"])\n",
    "\n",
    "        else:\n",
    "            if len(self.pad) != 2:\n",
    "                raise ValueError(\"pad value should be set as (N, T_max)\")\n",
    "            data, label = apply_padding(df, *self.pad)\n",
    "            label_2 = label[:, :, -1]\n",
    "            label_2[label_2[:, :] > 0] = label_2[label_2[:, :] > 0] \n",
    "            label = label[:, :, :-1]\n",
    "\n",
    "        # Normalize data if transform flag is True\n",
    "        if self.transform:\n",
    "            if self.pad is None:\n",
    "                normalize_df(data)\n",
    "                data = np.asarray(data)\n",
    "            else:\n",
    "                data = normalize_np(data)\n",
    "\n",
    "        if self.noise:\n",
    "            data = add_noise(data)\n",
    "        \n",
    "        # Normalize D between 0 and 1\n",
    "        label[:,:,0] = (np.log(label[:,:,0]) + 6) / 18\n",
    "\n",
    "        # Normaliza alpha between 0 and 1\n",
    "        label[:,:,1] = label[:,:,1] / 2\n",
    "\n",
    "        # Return data and label\n",
    "        return torch.from_numpy(data.astype(np.float32)), (\n",
    "            torch.from_numpy(label.astype(np.float32)),\n",
    "            torch.from_numpy(label_2.astype(np.float32)),\n",
    "        )\n",
    "    \n",
    "def add_noise(data):\n",
    "    noise_amplitude = np.random.choice([0.01, 0.1, 1])\n",
    "    noise = np.random.normal(0, noise_amplitude, data[:,:,1:].shape)\n",
    "    data[:,:,1:] = data[:,:,1:] + data[:,:,1:]*noise\n",
    "    return  data"
   ]
  },
  {
   "cell_type": "code",
   "execution_count": null,
   "id": "fe1d344b",
   "metadata": {},
   "outputs": [],
   "source": []
  },
  {
   "cell_type": "code",
   "execution_count": null,
   "id": "c53e0439",
   "metadata": {},
   "outputs": [],
   "source": [
    "df = pd.read_csv(file)\n",
    "nb_trajs = len(df[\"traj_idx\"].unique())\n",
    "dataset = np.zeros((np.ceil(nb_trajs/20).astype(int), 20, 200,3))\n"
   ]
  },
  {
   "cell_type": "code",
   "execution_count": null,
   "id": "35d01310",
   "metadata": {},
   "outputs": [],
   "source": [
    "## The bodel take data per batch of 20 so we should take the data and scatter it onto the batch dimension"
   ]
  },
  {
   "cell_type": "code",
   "execution_count": null,
   "id": "bc63e5f7",
   "metadata": {},
   "outputs": [
    {
     "data": {
      "text/plain": [
       "(3, 20, 200, 3)"
      ]
     },
     "execution_count": 18,
     "metadata": {},
     "output_type": "execute_result"
    }
   ],
   "source": [
    "dataset.shape"
   ]
  },
  {
   "cell_type": "code",
   "execution_count": null,
   "id": "97bc2317",
   "metadata": {},
   "outputs": [],
   "source": [
    "def apply_padding(data_df):\n",
    "    # Define the finaT_l shape of the data and labels\n",
    "    T_max = 200\n",
    "    selected_ids = data_df[\"traj_idx\"].unique()\n",
    "\n",
    "    final_shape = (len(selected_ids), T_max, 3)\n",
    "\n",
    "    # Initialize the final data and labels with zeros\n",
    "    final_data = np.zeros(final_shape)\n",
    "\n",
    "\n",
    "    # Iterate over the selected trajectory indices\n",
    "    for n, id in enumerate(selected_ids):\n",
    "        # Filter the data for the current trajectory index\n",
    "        exp = data_df[data_df[\"traj_idx\"] == id]\n",
    "\n",
    "        # Extract the data and labels for the current trajectory\n",
    "        data = exp[[\"frame\", \"x\", \"y\"]].to_numpy()\n",
    "        # print(exp[\"frame\"])\n",
    "\n",
    "        # If the data is longer than T_max, truncate it\n",
    "        if data.shape[0] > T_max:\n",
    "            final_data[n, :, :] = data[:T_max, :]\n",
    "\n",
    "        # Otherwise, pad the data to T_max\n",
    "        else:\n",
    "            # print((label.shape, T_max))\n",
    "            final_data[n, :data.shape[0], :] = data\n",
    "    # Return the padded data and labels\n",
    "    return final_data\n"
   ]
  },
  {
   "cell_type": "code",
   "execution_count": null,
   "id": "6a1f86a4",
   "metadata": {},
   "outputs": [],
   "source": [
    "df_padded = apply_padding(df)"
   ]
  },
  {
   "cell_type": "code",
   "execution_count": null,
   "id": "c0ba0235",
   "metadata": {},
   "outputs": [
    {
     "data": {
      "text/plain": [
       "(41, 200, 3)"
      ]
     },
     "execution_count": 21,
     "metadata": {},
     "output_type": "execute_result"
    }
   ],
   "source": [
    "df_padded.shape"
   ]
  },
  {
   "cell_type": "code",
   "execution_count": null,
   "id": "fa2d9525",
   "metadata": {},
   "outputs": [],
   "source": [
    "if nb_trajs % 20 == 0:\n",
    "\n",
    "    for i in range(dataset.shape[0]):\n",
    "        dataset[i,:,:,:] = df_padded[i*20:(i+1)*20, :,:]\n",
    "\n",
    "else : \n",
    "    for i in range(dataset.shape[0] - 1):\n",
    "        dataset[i,:,:,:] = df_padded[i*20:(i+1)*20, :,:]\n",
    "\n",
    "    #On place i dans la dernière couche\n",
    "    i+=1\n",
    "    remaining_trajs = nb_trajs % 20\n",
    "    dataset[i,:remaining_trajs,:,:] = df_padded[-remaining_trajs:, :, :]\n",
    "    dataset[i,remaining_trajs:,:,:] = df_padded[:(20 - remaining_trajs), :, :]"
   ]
  },
  {
   "cell_type": "code",
   "execution_count": null,
   "id": "a1fb8532",
   "metadata": {},
   "outputs": [
    {
     "data": {
      "text/plain": [
       "array([[[  0.        , 110.2262813 , 125.22570761],\n",
       "        [  1.        , 112.08586866, 124.45767125],\n",
       "        [  2.        , 109.53163452, 123.18154445],\n",
       "        ...,\n",
       "        [197.        , 115.87772769, 124.72140062],\n",
       "        [198.        , 116.40646683, 124.38970044],\n",
       "        [199.        , 117.61774287, 124.58487686]],\n",
       "\n",
       "       [[  0.        ,  80.18860091, 128.26765266],\n",
       "        [  1.        ,  78.65663893, 126.54661351],\n",
       "        [  2.        ,  77.61759335, 128.41630385],\n",
       "        ...,\n",
       "        [  0.        ,   0.        ,   0.        ],\n",
       "        [  0.        ,   0.        ,   0.        ],\n",
       "        [  0.        ,   0.        ,   0.        ]],\n",
       "\n",
       "       [[174.        ,  56.81689274, 120.0316314 ],\n",
       "        [175.        ,  56.64991595, 119.08786542],\n",
       "        [176.        ,  58.49707388, 118.68593034],\n",
       "        ...,\n",
       "        [  0.        ,   0.        ,   0.        ],\n",
       "        [  0.        ,   0.        ,   0.        ],\n",
       "        [  0.        ,   0.        ,   0.        ]],\n",
       "\n",
       "       ...,\n",
       "\n",
       "       [[  0.        ,  74.59979163,  46.63962036],\n",
       "        [  1.        ,  70.75808672,  46.71703308],\n",
       "        [  2.        ,  70.95165669,  44.71336766],\n",
       "        ...,\n",
       "        [197.        ,  69.28363576,  65.77685803],\n",
       "        [198.        ,  69.34031048,  65.68669611],\n",
       "        [199.        ,  69.26352473,  65.62211805]],\n",
       "\n",
       "       [[  0.        , 122.9675751 ,  40.81205589],\n",
       "        [  1.        , 122.42487375,  39.7383128 ],\n",
       "        [  2.        , 121.8465221 ,  38.59981961],\n",
       "        ...,\n",
       "        [197.        , 116.6350034 ,  31.89287946],\n",
       "        [198.        , 116.59373094,  31.24691106],\n",
       "        [199.        , 116.40437471,  30.14052914]],\n",
       "\n",
       "       [[  0.        , 158.06503592,  34.33489229],\n",
       "        [  1.        , 158.74366037,  37.49737944],\n",
       "        [  2.        , 156.27053463,  38.30847121],\n",
       "        ...,\n",
       "        [197.        , 158.99605275,  50.68915935],\n",
       "        [198.        , 159.09720367,  51.3024305 ],\n",
       "        [199.        , 156.10906631,  51.39923339]]])"
      ]
     },
     "execution_count": 23,
     "metadata": {},
     "output_type": "execute_result"
    }
   ],
   "source": [
    "dataset[2,:,:,:]"
   ]
  },
  {
   "cell_type": "code",
   "execution_count": null,
   "id": "0b53278b",
   "metadata": {},
   "outputs": [],
   "source": [
    "def read_dataset(file):\n",
    "    df = pd.read_csv(file)\n",
    "    nb_trajs = len(df[\"traj_idx\"].unique())\n",
    "    dataset = np.zeros((np.ceil(nb_trajs/20).astype(int), 20, 200,3))\n",
    "\n",
    "    df_padded = apply_padding(df)\n",
    "\n",
    "    if nb_trajs % 20 == 0:\n",
    "\n",
    "        for i in range(dataset.shape[0]):\n",
    "            dataset[i,:,:,:] = df_padded[i*20:(i+1)*20, :,:]\n",
    "\n",
    "    else : \n",
    "        for i in range(dataset.shape[0] - 1):\n",
    "            dataset[i,:,:,:] = df_padded[i*20:(i+1)*20, :,:]\n",
    "\n",
    "        #On place i dans la dernière couche\n",
    "        i+=1\n",
    "        remaining_trajs = nb_trajs % 20\n",
    "        dataset[i,:remaining_trajs,:,:] = df_padded[-remaining_trajs:, :, :]\n",
    "        dataset[i,remaining_trajs:,:,:] = df_padded[:(20 - remaining_trajs), :, :]\n",
    "\n",
    "    return torch.from_numpy(dataset.astype(np.float32)), nb_trajs"
   ]
  },
  {
   "cell_type": "code",
   "execution_count": null,
   "id": "e725e1f7",
   "metadata": {},
   "outputs": [
    {
     "data": {
      "text/plain": [
       "EmetMamba(config=EmetConfig(d_model=3, n_layers=4, dt_rank=1, d_state=16, expand_factor=2, d_conv=4, dt_min=0.001, dt_max=0.1, dt_init='random', dt_scale=1.0, rms_norm_eps=1e-05, bias=False, conv_bias=True, inner_layernorms=False, pscan=True, use_cuda=True, bi_mamba_stacks=4, conv_stack=1, dropout=0.1))"
      ]
     },
     "execution_count": 25,
     "metadata": {},
     "output_type": "execute_result"
    }
   ],
   "source": [
    "model.eval()"
   ]
  },
  {
   "cell_type": "code",
   "execution_count": null,
   "id": "950b6901",
   "metadata": {},
   "outputs": [],
   "source": [
    "a = {}\n",
    "a[\"2\"] = 4"
   ]
  },
  {
   "cell_type": "code",
   "execution_count": null,
   "id": "72380a34",
   "metadata": {},
   "outputs": [],
   "source": [
    "results = {}\n",
    "with torch.no_grad():\n",
    "    for file in directory_files:\n",
    "        data, n_trajs = read_dataset(file)\n",
    "        data = data.to(\"cuda\")\n",
    "        results[file] = (model(data).squeeze(),n_trajs)"
   ]
  },
  {
   "cell_type": "code",
   "execution_count": null,
   "id": "d858cb5d",
   "metadata": {},
   "outputs": [],
   "source": [
    "results_regression = {}\n",
    "with torch.no_grad():\n",
    "    for file in directory_files:\n",
    "        data, n_trajs = read_dataset(file)\n",
    "        data = data.to(\"cuda\")\n",
    "        results_regression[file] = (model_regression(data),n_trajs, data)"
   ]
  },
  {
   "cell_type": "code",
   "execution_count": null,
   "id": "6b740105",
   "metadata": {},
   "outputs": [],
   "source": [
    "keys = list(results.keys())"
   ]
  },
  {
   "cell_type": "code",
   "execution_count": null,
   "id": "efe8dbc2",
   "metadata": {},
   "outputs": [],
   "source": [
    "i = 30\n",
    "a = results[keys[i]][0]\n",
    "b = results_regression[keys[i]][0]\n",
    "n_traj = results[keys[i]][1]\n",
    "data =  results_regression[keys[i]][2]"
   ]
  },
  {
   "cell_type": "code",
   "execution_count": null,
   "id": "267197b4",
   "metadata": {},
   "outputs": [],
   "source": [
    "a = torch.argmax(a, dim=-1).to(\"cpu\").numpy()\n",
    "b = b.to(\"cpu\").numpy()\n",
    "data = data.to(\"cpu\").numpy()"
   ]
  },
  {
   "cell_type": "code",
   "execution_count": null,
   "id": "2ede3f92",
   "metadata": {},
   "outputs": [],
   "source": []
  },
  {
   "cell_type": "code",
   "execution_count": null,
   "id": "e817ccd1",
   "metadata": {},
   "outputs": [
    {
     "data": {
      "text/plain": [
       "(3, 20, 200, 3)"
      ]
     },
     "execution_count": 32,
     "metadata": {},
     "output_type": "execute_result"
    }
   ],
   "source": [
    "data.shape"
   ]
  },
  {
   "cell_type": "code",
   "execution_count": null,
   "id": "d23b4391",
   "metadata": {},
   "outputs": [],
   "source": [
    "a =a.reshape((60,200))\n",
    "b = b.reshape((60,200, 2))\n",
    "data = data.reshape((60,200,3))"
   ]
  },
  {
   "cell_type": "code",
   "execution_count": null,
   "id": "a3cf4576",
   "metadata": {},
   "outputs": [
    {
     "data": {
      "text/plain": [
       "(60, 200, 2)"
      ]
     },
     "execution_count": 34,
     "metadata": {},
     "output_type": "execute_result"
    }
   ],
   "source": [
    "b.shape"
   ]
  },
  {
   "cell_type": "code",
   "execution_count": null,
   "id": "7501059b",
   "metadata": {},
   "outputs": [],
   "source": [
    "import matplotlib.pyplot as plt"
   ]
  },
  {
   "cell_type": "code",
   "execution_count": null,
   "id": "7244ff1b",
   "metadata": {},
   "outputs": [
    {
     "data": {
      "image/png": "[encoded data removed]",
      "text/plain": [
       "<Figure size 1280x960 with 1 Axes>"
      ]
     },
     "metadata": {},
     "output_type": "display_data"
    }
   ],
   "source": [
    "plt.figure(dpi=200)\n",
    "for i in range(40):\n",
    "    plt.plot(a[i,:])"
   ]
  },
  {
   "cell_type": "code",
   "execution_count": null,
   "id": "75018a2b",
   "metadata": {},
   "outputs": [
    {
     "data": {
      "text/plain": [
       "<matplotlib.legend.Legend at 0x7247403e2cf0>"
      ]
     },
     "execution_count": 39,
     "metadata": {},
     "output_type": "execute_result"
    },
    {
     "data": {
      "image/png": "[encoded data removed]",
      "text/plain": [
       "<Figure size 640x480 with 1 Axes>"
      ]
     },
     "metadata": {},
     "output_type": "display_data"
    }
   ],
   "source": [
    "# plt.plot(a[2,:]/2, label = \"s\")\n",
    "plt.plot(b[2,:,1], label = \"alpha\")\n",
    "plt.plot(data[2,:,1]/1000, label = \"traj\")\n",
    "\n",
    "plt.legend()"
   ]
  },
  {
   "cell_type": "code",
   "execution_count": null,
   "id": "7caba9b9",
   "metadata": {},
   "outputs": [
    {
     "data": {
      "text/plain": [
       "array([[[0.17775464, 0.        ],\n",
       "        [0.17646942, 0.        ],\n",
       "        [0.17435838, 0.        ],\n",
       "        ...,\n",
       "        [0.08771407, 0.        ],\n",
       "        [0.08072676, 0.        ],\n",
       "        [0.08483478, 0.        ]],\n",
       "\n",
       "       [[0.19414604, 0.        ],\n",
       "        [0.19279702, 0.        ],\n",
       "        [0.1903362 , 0.        ],\n",
       "        ...,\n",
       "        [0.22664657, 0.        ],\n",
       "        [0.23403688, 0.        ],\n",
       "        [0.23231827, 0.        ]],\n",
       "\n",
       "       [[0.15592109, 0.        ],\n",
       "        [0.15571618, 0.        ],\n",
       "        [0.15802318, 0.        ],\n",
       "        ...,\n",
       "        [0.08649781, 0.        ],\n",
       "        [0.07796531, 0.        ],\n",
       "        [0.08302252, 0.        ]],\n",
       "\n",
       "       ...,\n",
       "\n",
       "       [[0.22853379, 0.        ],\n",
       "        [0.22723351, 0.        ],\n",
       "        [0.22347172, 0.        ],\n",
       "        ...,\n",
       "        [0.085337  , 0.        ],\n",
       "        [0.07579643, 0.        ],\n",
       "        [0.08135536, 0.        ]],\n",
       "\n",
       "       [[0.1973317 , 0.        ],\n",
       "        [0.19581464, 0.        ],\n",
       "        [0.19274832, 0.        ],\n",
       "        ...,\n",
       "        [0.23584212, 0.        ],\n",
       "        [0.24419934, 0.        ],\n",
       "        [0.24248536, 0.        ]],\n",
       "\n",
       "       [[0.15307046, 0.        ],\n",
       "        [0.15216582, 0.        ],\n",
       "        [0.15439479, 0.        ],\n",
       "        ...,\n",
       "        [0.09169195, 0.        ],\n",
       "        [0.09025533, 0.        ],\n",
       "        [0.09154385, 0.        ]]], dtype=float32)"
      ]
     },
     "execution_count": 40,
     "metadata": {},
     "output_type": "execute_result"
    }
   ],
   "source": [
    "b"
   ]
  },
  {
   "cell_type": "code",
   "execution_count": null,
   "id": "3a0d95d1",
   "metadata": {},
   "outputs": [
    {
     "data": {
      "text/plain": [
       "tensor([[[0.],\n",
       "         [0.],\n",
       "         [0.],\n",
       "         ...,\n",
       "         [0.],\n",
       "         [0.],\n",
       "         [0.]],\n",
       "\n",
       "        [[0.],\n",
       "         [0.],\n",
       "         [0.],\n",
       "         ...,\n",
       "         [0.],\n",
       "         [0.],\n",
       "         [0.]]], device='cuda:0', grad_fn=<ReluBackward0>)"
      ]
     },
     "execution_count": 35,
     "metadata": {},
     "output_type": "execute_result"
    }
   ],
   "source": [
    "model(data)"
   ]
  },
  {
   "cell_type": "code",
   "execution_count": null,
   "id": "79ed0a76",
   "metadata": {},
   "outputs": [],
   "source": [
    "import torch.nn as nn"
   ]
  },
  {
   "cell_type": "code",
   "execution_count": null,
   "id": "caa47f0c",
   "metadata": {},
   "outputs": [],
   "source": [
    "relu = nn.ReLU()"
   ]
  },
  {
   "cell_type": "code",
   "execution_count": null,
   "id": "2fd4589c",
   "metadata": {},
   "outputs": [],
   "source": [
    "test = torch.randn(10,10,2)"
   ]
  },
  {
   "cell_type": "code",
   "execution_count": null,
   "id": "4c12bd4c",
   "metadata": {},
   "outputs": [
    {
     "data": {
      "text/plain": [
       "tensor([[[1.2636, 0.2244],\n",
       "         [0.0000, 1.1753],\n",
       "         [1.8726, 0.8369],\n",
       "         [0.0000, 0.3174],\n",
       "         [0.0000, 0.0000],\n",
       "         [0.3831, 0.2239],\n",
       "         [0.0000, 0.0285],\n",
       "         [1.2042, 0.7172],\n",
       "         [0.0000, 0.9031],\n",
       "         [1.4999, 0.0000]],\n",
       "\n",
       "        [[0.6770, 0.0000],\n",
       "         [0.0000, 0.0000],\n",
       "         [1.7903, 0.0000],\n",
       "         [0.0000, 0.0000],\n",
       "         [0.0000, 0.7431],\n",
       "         [0.1999, 0.0000],\n",
       "         [0.5755, 1.1027],\n",
       "         [0.0366, 0.3679],\n",
       "         [1.5911, 1.9556],\n",
       "         [0.0000, 0.0000]],\n",
       "\n",
       "        [[1.2891, 0.5908],\n",
       "         [0.6584, 1.2545],\n",
       "         [0.4158, 0.0000],\n",
       "         [0.0000, 0.0000],\n",
       "         [0.4222, 0.8100],\n",
       "         [0.6134, 0.8446],\n",
       "         [0.0000, 0.0000],\n",
       "         [0.0000, 0.0000],\n",
       "         [0.1353, 0.0760],\n",
       "         [0.0000, 0.0000]],\n",
       "\n",
       "        [[0.6706, 1.5282],\n",
       "         [0.0000, 0.3768],\n",
       "         [0.3606, 0.0000],\n",
       "         [0.6023, 0.3436],\n",
       "         [0.0000, 0.7277],\n",
       "         [0.0000, 1.4987],\n",
       "         [0.0000, 0.1365],\n",
       "         [0.0000, 1.1763],\n",
       "         [0.6124, 0.0000],\n",
       "         [0.0000, 0.0000]],\n",
       "\n",
       "        [[0.0000, 0.0000],\n",
       "         [0.8530, 0.0000],\n",
       "         [0.0000, 0.0000],\n",
       "         [0.5373, 0.0000],\n",
       "         [0.2022, 1.8703],\n",
       "         [0.0000, 0.0000],\n",
       "         [0.3505, 0.7871],\n",
       "         [1.5896, 0.3599],\n",
       "         [0.0000, 0.0000],\n",
       "         [0.0000, 0.0000]],\n",
       "\n",
       "        [[0.0000, 1.0697],\n",
       "         [0.0000, 0.8269],\n",
       "         [0.0000, 0.0000],\n",
       "         [0.6727, 0.2898],\n",
       "         [1.1186, 0.0000],\n",
       "         [0.0000, 0.9143],\n",
       "         [0.0000, 0.0000],\n",
       "         [0.5266, 0.0000],\n",
       "         [0.0000, 0.0000],\n",
       "         [0.0000, 0.0266]],\n",
       "\n",
       "        [[1.2431, 0.9044],\n",
       "         [1.5275, 0.0000],\n",
       "         [1.1021, 0.0000],\n",
       "         [0.1177, 0.0000],\n",
       "         [0.0000, 0.0000],\n",
       "         [0.0000, 0.0000],\n",
       "         [0.0000, 0.0000],\n",
       "         [0.0000, 0.8084],\n",
       "         [0.1090, 0.0000],\n",
       "         [1.3788, 0.6027]],\n",
       "\n",
       "        [[0.0000, 0.0000],\n",
       "         [0.1415, 0.5972],\n",
       "         [0.1166, 0.0000],\n",
       "         [0.1031, 0.2675],\n",
       "         [0.0000, 0.0000],\n",
       "         [1.4752, 2.3586],\n",
       "         [0.0000, 0.0000],\n",
       "         [0.0000, 1.5294],\n",
       "         [1.6117, 0.5444],\n",
       "         [0.2500, 1.0387]],\n",
       "\n",
       "        [[0.5499, 0.7757],\n",
       "         [0.0000, 0.0000],\n",
       "         [0.1579, 0.0748],\n",
       "         [0.0000, 0.2012],\n",
       "         [0.0000, 0.2322],\n",
       "         [0.0000, 0.0000],\n",
       "         [1.5700, 0.0000],\n",
       "         [0.0000, 1.9753],\n",
       "         [0.0000, 0.0000],\n",
       "         [0.0000, 0.3160]],\n",
       "\n",
       "        [[0.0668, 0.0000],\n",
       "         [0.0434, 0.0000],\n",
       "         [0.1884, 0.6182],\n",
       "         [0.5115, 0.2862],\n",
       "         [0.0000, 1.6729],\n",
       "         [0.0000, 0.1004],\n",
       "         [0.7052, 0.0000],\n",
       "         [2.0943, 0.0627],\n",
       "         [0.1950, 0.0000],\n",
       "         [0.2444, 0.2077]]])"
      ]
     },
     "execution_count": 216,
     "metadata": {},
     "output_type": "execute_result"
    }
   ],
   "source": [
    "relu(test)"
   ]
  },
  {
   "cell_type": "code",
   "execution_count": null,
   "id": "07eef948",
   "metadata": {},
   "outputs": [],
   "source": []
  }
 ],
 "metadata": {
  "kernelspec": {
   "display_name": "Python 3 (ipykernel)",
   "language": "python",
   "name": "python3"
  },
  "language_info": {
   "codemirror_mode": {
    "name": "ipython",
    "version": 3
   },
   "file_extension": ".py",
   "mimetype": "text/x-python",
   "name": "python",
   "nbconvert_exporter": "python",
   "pygments_lexer": "ipython3",
   "version": "3.12.3"
  }
 },
 "nbformat": 4,
 "nbformat_minor": 5
}
