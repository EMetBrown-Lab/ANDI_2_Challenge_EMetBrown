{
 "cells": [
  {
   "cell_type": "code",
   "execution_count": 1,
   "id": "e6bd027a-e648-467a-b41e-edd86e51af5e",
   "metadata": {},
   "outputs": [],
   "source": [
    "from train_seg_and_reg_all_files import train\n",
    "import torch"
   ]
  },
  {
   "cell_type": "code",
   "execution_count": null,
   "id": "1eb60073-82f2-460e-be26-e95c027d2ad6",
   "metadata": {},
   "outputs": [
    {
     "name": "stdout",
     "output_type": "stream",
     "text": [
      "importing gpu Mamba\n"
     ]
    },
    {
     "name": "stderr",
     "output_type": "stream",
     "text": [
      "/home/brownianxgames/miniconda3/envs/torch/lib/python3.12/site-packages/tqdm/auto.py:21: TqdmWarning: IProgress not found. Please update jupyter and ipywidgets. See https://ipywidgets.readthedocs.io/en/stable/user_install.html\n",
      "  from .autonotebook import tqdm as notebook_tqdm\n",
      "Epoch 0: 100%|█| 1800/1800 [07:08<00:00,  4.20batch/s, K=0.556, alpha=0.641, seg\n",
      "Epoch 1: 100%|█| 1800/1800 [07:09<00:00,  4.19batch/s, K=2.4, alpha=0.563, seg=1\n",
      "Epoch 2: 100%|█| 1800/1800 [07:09<00:00,  4.19batch/s, K=7.47, alpha=0.723, seg=\n",
      "Epoch 3: 100%|█| 1800/1800 [07:07<00:00,  4.21batch/s, K=3.11, alpha=0.392, seg=\n",
      "Epoch 4: 100%|█| 1800/1800 [06:58<00:00,  4.30batch/s, K=0.307, alpha=0.584, seg\n",
      "Epoch 5: 100%|█| 1800/1800 [07:01<00:00,  4.27batch/s, K=0.385, alpha=0.668, seg\n",
      "Epoch 6: 100%|█| 1800/1800 [07:07<00:00,  4.22batch/s, K=0.243, alpha=0.548, seg\n",
      "Epoch 7: 100%|█| 1800/1800 [07:08<00:00,  4.21batch/s, K=2.04, alpha=0.875, seg=\n",
      "Epoch 8: 100%|█| 1800/1800 [07:07<00:00,  4.21batch/s, K=0.199, alpha=0.616, seg\n",
      "Epoch 9:  40%|▍| 728/1800 [02:52<04:14,  4.22batch/s, K=0.355, alpha=0.708, seg="
     ]
    }
   ],
   "source": [
    "result, model = train((6,0.15,0.000001,8))"
   ]
  },
  {
   "cell_type": "code",
   "execution_count": null,
   "id": "f2465c2b-b877-4ace-9491-5e49be40fc9c",
   "metadata": {},
   "outputs": [],
   "source": [
    "# torch.save(model, \"model_alpha_2_0p1_1e-4_8_8kexps\")"
   ]
  },
  {
   "cell_type": "code",
   "execution_count": 3,
   "id": "8a40ef70-a4b7-4810-b171-5f87e38aad16",
   "metadata": {
    "scrolled": true
   },
   "outputs": [
    {
     "data": {
      "text/plain": [
       "{'bi_mamba_stacks': 6,\n",
       " 'n_layers': 8,\n",
       " 'dropout': 0.15,\n",
       " 'learning_rate': 1e-06,\n",
       " 'running_K_total_loss': [1.1369998492548863,\n",
       "  1.1376911224590407,\n",
       "  1.1370122750351825,\n",
       "  1.1377320686644978,\n",
       "  1.1356422886086834,\n",
       "  1.134758684999413,\n",
       "  1.1346770464587543,\n",
       "  1.1333003246618643,\n",
       "  1.1353358988836408,\n",
       "  1.141061816468007,\n",
       "  1.1351518852222298,\n",
       "  1.1388143842915694,\n",
       "  1.1382305074027843,\n",
       "  1.1319203555459778,\n",
       "  1.1372159092707765,\n",
       "  1.1311479243511955,\n",
       "  1.1396278227451775,\n",
       "  1.1399621088595855,\n",
       "  1.1354976895782682,\n",
       "  1.1325494489156538,\n",
       "  1.135395030606952,\n",
       "  1.1341983802782165,\n",
       "  1.1349441505513258,\n",
       "  1.1380491296036377,\n",
       "  1.133370184004307,\n",
       "  1.1376167218138775,\n",
       "  1.1367676790306966,\n",
       "  1.1372912370661894,\n",
       "  1.1332895538583398,\n",
       "  1.1353534920058317],\n",
       " 'running_segmentation_total_loss': [1.1245923489994474,\n",
       "  1.1236650889449649,\n",
       "  1.1219832668039533,\n",
       "  1.1209097304609086,\n",
       "  1.1198238014512591,\n",
       "  1.1181014842457242,\n",
       "  1.1177542742755677,\n",
       "  1.116086422668563,\n",
       "  1.1146517432398266,\n",
       "  1.1137792752186457,\n",
       "  1.1125211091836293,\n",
       "  1.1115101495716306,\n",
       "  1.109697713388337,\n",
       "  1.1084971276919047,\n",
       "  1.1072378656599258,\n",
       "  1.1062672752141953,\n",
       "  1.104988111787372,\n",
       "  1.1036326055394279,\n",
       "  1.102940146194564,\n",
       "  1.1015883501370747,\n",
       "  1.1005324037207498,\n",
       "  1.099291574160258,\n",
       "  1.0982403282324473,\n",
       "  1.097060686018732,\n",
       "  1.0960019303030437,\n",
       "  1.0946315248144998,\n",
       "  1.093560363650322,\n",
       "  1.092240161895752,\n",
       "  1.0913370712598165,\n",
       "  1.0897745043039322],\n",
       " 'running_alpha_total_loss': [0.6294772042499648,\n",
       "  0.6270539386736023,\n",
       "  0.6273411761886544,\n",
       "  0.6264411819312308,\n",
       "  0.6245258233779006,\n",
       "  0.6279005966087182,\n",
       "  0.6288121979435285,\n",
       "  0.6284079416261779,\n",
       "  0.62973570999172,\n",
       "  0.6297224289178849,\n",
       "  0.6308242189718617,\n",
       "  0.6268693323102262,\n",
       "  0.6297353969017665,\n",
       "  0.6249533076584339,\n",
       "  0.6276014925208356,\n",
       "  0.6287686637043953,\n",
       "  0.6268594501084751,\n",
       "  0.6288464284274313,\n",
       "  0.6278933009339703,\n",
       "  0.6253934888872835,\n",
       "  0.6280476249754429,\n",
       "  0.6302218353086048,\n",
       "  0.6271477302743329,\n",
       "  0.6291509799328115,\n",
       "  0.627493503689766,\n",
       "  0.6287695844305886,\n",
       "  0.6283884332577387,\n",
       "  0.6294597671760453,\n",
       "  0.6270638983945052,\n",
       "  0.6291757552325725]}"
      ]
     },
     "execution_count": 3,
     "metadata": {},
     "output_type": "execute_result"
    }
   ],
   "source": [
    "result"
   ]
  },
  {
   "cell_type": "code",
   "execution_count": 4,
   "id": "d55b6683-ea3f-45ed-8809-7942cce0c979",
   "metadata": {},
   "outputs": [],
   "source": [
    "torch.save(model, \"model_segandreg_more_files_andlowerlr\")"
   ]
  },
  {
   "cell_type": "code",
   "execution_count": null,
   "id": "db3905b5-2ecd-4dab-b70c-7aba3624dff5",
   "metadata": {},
   "outputs": [],
   "source": []
  }
 ],
 "metadata": {
  "kernelspec": {
   "display_name": "Python 3 (ipykernel)",
   "language": "python",
   "name": "python3"
  },
  "language_info": {
   "codemirror_mode": {
    "name": "ipython",
    "version": 3
   },
   "file_extension": ".py",
   "mimetype": "text/x-python",
   "name": "python",
   "nbconvert_exporter": "python",
   "pygments_lexer": "ipython3",
   "version": "3.12.3"
  }
 },
 "nbformat": 4,
 "nbformat_minor": 5
}
