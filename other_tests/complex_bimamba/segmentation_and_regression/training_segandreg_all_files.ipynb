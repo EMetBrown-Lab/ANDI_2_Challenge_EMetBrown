{
 "cells": [
  {
   "cell_type": "code",
   "execution_count": 7,
   "id": "e6bd027a-e648-467a-b41e-edd86e51af5e",
   "metadata": {},
   "outputs": [],
   "source": [
    "from train_seg_and_reg_all_files import train\n",
    "import torch"
   ]
  },
  {
   "cell_type": "code",
   "execution_count": null,
   "id": "1eb60073-82f2-460e-be26-e95c027d2ad6",
   "metadata": {},
   "outputs": [
    {
     "name": "stdout",
     "output_type": "stream",
     "text": [
      "importing gpu Mamba\n"
     ]
    },
    {
     "name": "stderr",
     "output_type": "stream",
     "text": [
      "Epoch 0: 100%|█| 1800/1800 [07:10<00:00,  4.19batch/s, K=0.552, alpha=0.718, seg\n",
      "Epoch 1: 100%|█| 1800/1800 [07:08<00:00,  4.20batch/s, K=0.365, alpha=0.773, seg\n",
      "Epoch 2: 100%|█| 1800/1800 [07:09<00:00,  4.19batch/s, K=1.92, alpha=0.632, seg=\n",
      "Epoch 3: 100%|█| 1800/1800 [07:08<00:00,  4.20batch/s, K=0.419, alpha=0.626, seg\n",
      "Epoch 4: 100%|█| 1800/1800 [06:59<00:00,  4.29batch/s, K=0.779, alpha=0.623, seg\n",
      "Epoch 5: 100%|█| 1800/1800 [07:01<00:00,  4.27batch/s, K=0.219, alpha=0.734, seg\n",
      "Epoch 6: 100%|█| 1800/1800 [07:06<00:00,  4.22batch/s, K=1.16, alpha=0.623, seg=\n",
      "Epoch 7: 100%|█| 1800/1800 [07:08<00:00,  4.20batch/s, K=2.61, alpha=0.657, seg=\n",
      "Epoch 8: 100%|█| 1800/1800 [07:07<00:00,  4.21batch/s, K=3.19, alpha=0.707, seg=\n",
      "Epoch 9:  80%|▊| 1448/1800 [05:44<01:26,  4.07batch/s, K=3.46, alpha=0.735, seg="
     ]
    }
   ],
   "source": [
    "result, model = train((6,0.15,0.00001,16))"
   ]
  },
  {
   "cell_type": "code",
   "execution_count": null,
   "id": "f2465c2b-b877-4ace-9491-5e49be40fc9c",
   "metadata": {},
   "outputs": [],
   "source": [
    "torch.save(model, \"model_alpha_2_0p1_1e-4_8_8kexps\")"
   ]
  },
  {
   "cell_type": "code",
   "execution_count": 9,
   "id": "8a40ef70-a4b7-4810-b171-5f87e38aad16",
   "metadata": {
    "scrolled": true
   },
   "outputs": [
    {
     "data": {
      "text/plain": [
       "{'bi_mamba_stacks': 6,\n",
       " 'n_layers': 16,\n",
       " 'dropout': 0.15,\n",
       " 'learning_rate': 1e-05,\n",
       " 'running_K_total_loss': [1.1321252642571926,\n",
       "  1.1394669405453735,\n",
       "  1.1353541974599162,\n",
       "  1.141547713685367,\n",
       "  1.1359306120458577,\n",
       "  1.138149260468781,\n",
       "  1.1358724799876412,\n",
       "  1.1323730954734816,\n",
       "  1.1378193745058445,\n",
       "  1.135217530168593,\n",
       "  1.1352443546346491,\n",
       "  1.1374656613171101,\n",
       "  1.1388330730713077,\n",
       "  1.1333952073587312,\n",
       "  1.1389274858848917,\n",
       "  1.1350037038822969,\n",
       "  1.1333737208859789,\n",
       "  1.135423983314799,\n",
       "  1.1384022823969524,\n",
       "  1.1339843597387274,\n",
       "  1.1412969394814636,\n",
       "  1.1343788404100472,\n",
       "  1.1357142282401522,\n",
       "  1.1354613425706823,\n",
       "  1.134538540956047,\n",
       "  1.1337596061742967,\n",
       "  1.1344307540771035,\n",
       "  1.1340693906197945,\n",
       "  1.134795097394122,\n",
       "  1.1382959036032358],\n",
       " 'running_segmentation_total_loss': [1.1389040468798743,\n",
       "  1.1027824168072806,\n",
       "  1.0720440075132582,\n",
       "  1.036120967566967,\n",
       "  1.0111730063292714,\n",
       "  0.9771438535716799,\n",
       "  0.9462462392449379,\n",
       "  0.9220195237464375,\n",
       "  0.8892626191841232,\n",
       "  0.8662049263053471,\n",
       "  0.8424312691224946,\n",
       "  0.8220063189003203,\n",
       "  0.8008835005760193,\n",
       "  0.7838210979435178,\n",
       "  0.7715716332528326,\n",
       "  0.7574220486481984,\n",
       "  0.7452636226349407,\n",
       "  0.735948980583085,\n",
       "  0.7269659203953213,\n",
       "  0.719059221777651,\n",
       "  0.7151252342594995,\n",
       "  0.7103162830405765,\n",
       "  0.7067527386214998,\n",
       "  0.7037316812740432,\n",
       "  0.7010829975538784,\n",
       "  0.6994018301036623,\n",
       "  0.6979120310147603,\n",
       "  0.6967979783482022,\n",
       "  0.6958285775449541,\n",
       "  0.6951827871137195],\n",
       " 'running_alpha_total_loss': [0.6292264562514093,\n",
       "  0.6287814850608507,\n",
       "  0.625766937467787,\n",
       "  0.6226310977505313,\n",
       "  0.6270584976507558,\n",
       "  0.6272165648639202,\n",
       "  0.6275029613739914,\n",
       "  0.6272314992381467,\n",
       "  0.6268020321759913,\n",
       "  0.627048680252499,\n",
       "  0.6272408034569688,\n",
       "  0.6270531043244733,\n",
       "  0.6252764522035916,\n",
       "  0.6284380416737663,\n",
       "  0.6271016629536946,\n",
       "  0.6251127703653442,\n",
       "  0.6282676497267352,\n",
       "  0.627828944772482,\n",
       "  0.6248503981696235,\n",
       "  0.6255096724960539,\n",
       "  0.6278673856291506,\n",
       "  0.627396821114752,\n",
       "  0.6282913491792149,\n",
       "  0.629380932284726,\n",
       "  0.6272916667825645,\n",
       "  0.6256727594633897,\n",
       "  0.6259194278717041,\n",
       "  0.6295134775174989,\n",
       "  0.6275012601249748,\n",
       "  0.6257643982436922]}"
      ]
     },
     "execution_count": 9,
     "metadata": {},
     "output_type": "execute_result"
    }
   ],
   "source": [
    "result"
   ]
  },
  {
   "cell_type": "code",
   "execution_count": 8,
   "id": "d55b6683-ea3f-45ed-8809-7942cce0c979",
   "metadata": {},
   "outputs": [
    {
     "data": {
      "text/plain": [
       "EmetMamba(config=EmetConfig(d_model=3, n_layers=16, dt_rank=1, d_state=16, expand_factor=2, d_conv=4, dt_min=0.01, dt_max=0.1, dt_init='random', dt_scale=1.0, rms_norm_eps=1e-05, bias=False, conv_bias=True, inner_layernorms=False, pscan=True, use_cuda=True, bi_mamba_stacks=6, conv_stack=16, dropout=0.15))"
      ]
     },
     "execution_count": 8,
     "metadata": {},
     "output_type": "execute_result"
    }
   ],
   "source": [
    "model"
   ]
  },
  {
   "cell_type": "code",
   "execution_count": 10,
   "id": "d8a8681a-b09b-49d5-8818-3816cf15d787",
   "metadata": {},
   "outputs": [],
   "source": [
    "torch.save(model, \"model_segandreg_more folder\")"
   ]
  },
  {
   "cell_type": "code",
   "execution_count": null,
   "id": "df78fd03-b7f6-4857-8fcc-d83ea5aebd0c",
   "metadata": {},
   "outputs": [],
   "source": []
  }
 ],
 "metadata": {
  "kernelspec": {
   "display_name": "Python 3 (ipykernel)",
   "language": "python",
   "name": "python3"
  },
  "language_info": {
   "codemirror_mode": {
    "name": "ipython",
    "version": 3
   },
   "file_extension": ".py",
   "mimetype": "text/x-python",
   "name": "python",
   "nbconvert_exporter": "python",
   "pygments_lexer": "ipython3",
   "version": "3.12.3"
  }
 },
 "nbformat": 4,
 "nbformat_minor": 5
}
