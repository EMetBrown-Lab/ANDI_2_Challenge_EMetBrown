{
 "cells": [
  {
   "cell_type": "code",
   "execution_count": 1,
   "id": "e6bd027a-e648-467a-b41e-edd86e51af5e",
   "metadata": {},
   "outputs": [],
   "source": [
    "from train_alpha import train\n",
    "import torch"
   ]
  },
  {
   "cell_type": "code",
   "execution_count": 2,
   "id": "1eb60073-82f2-460e-be26-e95c027d2ad6",
   "metadata": {},
   "outputs": [
    {
     "name": "stdout",
     "output_type": "stream",
     "text": [
      "importing gpu Mamba\n"
     ]
    },
    {
     "name": "stderr",
     "output_type": "stream",
     "text": [
      "/home/m.lavaud/miniconda3/envs/torch/lib/python3.12/site-packages/tqdm/auto.py:21: TqdmWarning: IProgress not found. Please update jupyter and ipywidgets. See https://ipywidgets.readthedocs.io/en/stable/user_install.html\n",
      "  from .autonotebook import tqdm as notebook_tqdm\n",
      "Epoch 0: 100%|██████████| 100/100 [17:23<00:00, 10.43s/batch, loss=0.733]\n",
      "Epoch 1: 100%|██████████| 100/100 [08:28<00:00,  5.09s/batch, loss=0.697]\n",
      "Epoch 2: 100%|██████████| 100/100 [08:41<00:00,  5.21s/batch, loss=0.849]\n",
      "Epoch 3: 100%|██████████| 100/100 [08:46<00:00,  5.27s/batch, loss=0.868]\n",
      "Epoch 4: 100%|██████████| 100/100 [08:28<00:00,  5.09s/batch, loss=0.693]\n",
      "Epoch 5: 100%|██████████| 100/100 [08:21<00:00,  5.01s/batch, loss=0.524]\n",
      "Epoch 6: 100%|██████████| 100/100 [07:47<00:00,  4.68s/batch, loss=0.745]\n",
      "Epoch 7: 100%|██████████| 100/100 [08:13<00:00,  4.93s/batch, loss=0.782]\n",
      "Epoch 8: 100%|██████████| 100/100 [08:08<00:00,  4.88s/batch, loss=0.723]\n",
      "Epoch 9: 100%|██████████| 100/100 [08:16<00:00,  4.96s/batch, loss=0.787]\n"
     ]
    }
   ],
   "source": [
    "result, model = train((2,0.1,1e-3,4))"
   ]
  },
  {
   "cell_type": "code",
   "execution_count": 5,
   "id": "f2465c2b-b877-4ace-9491-5e49be40fc9c",
   "metadata": {},
   "outputs": [],
   "source": [
    "# torch.save(model, \"model_alpha_2_0p1_1e-4_8_8kexps\")"
   ]
  },
  {
   "cell_type": "code",
   "execution_count": 3,
   "id": "8a40ef70-a4b7-4810-b171-5f87e38aad16",
   "metadata": {},
   "outputs": [
    {
     "data": {
      "text/plain": [
       "{'bi_mamba_stacks': 2,\n",
       " 'n_layers': 4,\n",
       " 'dropout': 0.1,\n",
       " 'learning_rate': 0.001,\n",
       " 'running_regression_total_loss': [0.3678927742689848,\n",
       "  0.3712823874875903,\n",
       "  0.3691858498752117,\n",
       "  0.3697100704908371,\n",
       "  0.37478088900446893,\n",
       "  0.36982449520379307,\n",
       "  0.37162969712167976,\n",
       "  0.3745789385586977,\n",
       "  0.3725458503514528,\n",
       "  0.37087469719350336],\n",
       " 'running_test_loss': [0.0007455011494457721,\n",
       "  0.0006658415421843529,\n",
       "  0.0007359073627740144,\n",
       "  0.0006387765817344189,\n",
       "  0.0006854247441515326,\n",
       "  0.0006240575779229402,\n",
       "  0.0007062910199165344,\n",
       "  0.000797183744609356,\n",
       "  0.000708803366869688,\n",
       "  0.0006823353525251151]}"
      ]
     },
     "execution_count": 3,
     "metadata": {},
     "output_type": "execute_result"
    }
   ],
   "source": [
    "result"
   ]
  },
  {
   "cell_type": "code",
   "execution_count": null,
   "id": "d55b6683-ea3f-45ed-8809-7942cce0c979",
   "metadata": {},
   "outputs": [],
   "source": []
  }
 ],
 "metadata": {
  "kernelspec": {
   "display_name": "Python 3 (ipykernel)",
   "language": "python",
   "name": "python3"
  },
  "language_info": {
   "codemirror_mode": {
    "name": "ipython",
    "version": 3
   },
   "file_extension": ".py",
   "mimetype": "text/x-python",
   "name": "python",
   "nbconvert_exporter": "python",
   "pygments_lexer": "ipython3",
   "version": "3.12.3"
  }
 },
 "nbformat": 4,
 "nbformat_minor": 5
}
